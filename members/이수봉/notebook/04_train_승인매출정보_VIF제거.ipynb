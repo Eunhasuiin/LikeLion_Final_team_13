{
 "cells": [
  {
   "cell_type": "code",
   "execution_count": 1,
   "id": "f44e185f-c919-4d0b-8da9-2ad5e70334e7",
   "metadata": {},
   "outputs": [],
   "source": [
    "import pandas as pd\n",
    "import numpy as np\n",
    "from statsmodels.stats.outliers_influence import variance_inflation_factor\n",
    "from statsmodels.tools.tools import add_constant"
   ]
  },
  {
   "cell_type": "code",
   "execution_count": 2,
   "id": "d90cdd87-a1cb-43a9-a9ae-ca8f275e2f3b",
   "metadata": {},
   "outputs": [],
   "source": [
    "df = pd.read_parquet(\"result/train/03_train_승인매출정보_전처리.parquet\")"
   ]
  },
  {
   "cell_type": "markdown",
   "id": "9094d5b6-8b50-4b2d-bf69-9c1bfcc62acf",
   "metadata": {},
   "source": [
    "### VIF 10 이상 컬럼 제거"
   ]
  },
  {
   "cell_type": "code",
   "execution_count": 3,
   "id": "9d3a7c14-06a8-4924-a4a7-68e3583a4f5e",
   "metadata": {},
   "outputs": [],
   "source": [
    "def calculate_vif_once(df, thresh=10.0):\n",
    "    \"\"\"\n",
    "    한 번만 VIF 계산해서 임계값(thresh) 초과하는 컬럼 제거\n",
    "    \"\"\"\n",
    "    X = add_constant(df)\n",
    "    vif = pd.Series(\n",
    "        [variance_inflation_factor(X.values, i) for i in range(1, X.shape[1])],\n",
    "        index=df.columns\n",
    "    )\n",
    "    \n",
    "    # VIF 초과 컬럼 목록\n",
    "    to_drop = vif[vif > thresh].index.tolist()\n",
    "    print(f\"VIF {thresh} 초과 컬럼 제거: {to_drop}\")\n",
    "    \n",
    "    return df.drop(columns=to_drop)"
   ]
  },
  {
   "cell_type": "code",
   "execution_count": 4,
   "id": "0636bc03-e0d4-49b9-a601-3c08ae6da9f0",
   "metadata": {},
   "outputs": [
    {
     "name": "stderr",
     "output_type": "stream",
     "text": [
      "C:\\Users\\Lee\\anaconda3\\envs\\tensorflow_env\\lib\\site-packages\\statsmodels\\regression\\linear_model.py:1782: RuntimeWarning: invalid value encountered in scalar divide\n",
      "  return 1 - self.ssr/self.centered_tss\n"
     ]
    },
    {
     "name": "stdout",
     "output_type": "stream",
     "text": [
      "VIF 10.0 초과 컬럼 제거: ['여유_공연이용금액', '_1순위여유업종', '_2순위여유업종']\n",
      " 최종 전체 데이터 shape: (2400000, 96)\n"
     ]
    }
   ],
   "source": [
    "# 수치형 컬럼만 추출\n",
    "df_numeric = df.select_dtypes(include=[np.number])\n",
    "\n",
    "# 샘플링 \n",
    "df_sample = df_numeric.sample(n=5000, random_state=42)\n",
    "\n",
    "# 샘플에서 VIF 기반 컬럼 제거\n",
    "df_sample_reduced = calculate_vif_once(df_sample, thresh=10.0)\n",
    "\n",
    "# 남은 컬럼을 전체 데이터에 적용\n",
    "final_df = df_numeric[df_sample_reduced.columns]\n",
    "\n",
    "print(f\" 최종 전체 데이터 shape: {final_df.shape}\")"
   ]
  },
  {
   "cell_type": "markdown",
   "id": "239c825d-ec17-4ae9-9091-e535474c06f9",
   "metadata": {},
   "source": [
    "### VIF 8이상 컬럼 제거"
   ]
  },
  {
   "cell_type": "code",
   "execution_count": 5,
   "id": "d0fc50ce-cbbf-47d9-aa21-e92f42b05fe7",
   "metadata": {},
   "outputs": [],
   "source": [
    "def calculate_vif_once(df, thresh=8.0):\n",
    "    \"\"\"\n",
    "    한 번만 VIF 계산해서 임계값(thresh) 초과하는 컬럼 제거\n",
    "    \"\"\"\n",
    "    X = add_constant(df)\n",
    "    vif = pd.Series(\n",
    "        [variance_inflation_factor(X.values, i) for i in range(1, X.shape[1])],\n",
    "        index=df.columns\n",
    "    )\n",
    "    \n",
    "    # VIF 초과 컬럼 목록\n",
    "    to_drop = vif[vif > thresh].index.tolist()\n",
    "    print(f\"VIF {thresh} 초과 컬럼 제거: {to_drop}\")\n",
    "    \n",
    "    return df.drop(columns=to_drop)"
   ]
  },
  {
   "cell_type": "code",
   "execution_count": 6,
   "id": "ca869bd3-edc2-4f21-872f-e49a39119406",
   "metadata": {},
   "outputs": [
    {
     "name": "stderr",
     "output_type": "stream",
     "text": [
      "C:\\Users\\Lee\\anaconda3\\envs\\tensorflow_env\\lib\\site-packages\\statsmodels\\regression\\linear_model.py:1782: RuntimeWarning: invalid value encountered in scalar divide\n",
      "  return 1 - self.ssr/self.centered_tss\n"
     ]
    },
    {
     "name": "stdout",
     "output_type": "stream",
     "text": [
      "VIF 8.0 초과 컬럼 제거: ['여유_Pet이용금액', '여유_공연이용금액', '_1순위여유업종', '_2순위여유업종']\n",
      " 최종 전체 데이터 shape: (2400000, 95)\n"
     ]
    }
   ],
   "source": [
    "# 수치형 컬럼만 추출\n",
    "df_numeric = df.select_dtypes(include=[np.number])\n",
    "\n",
    "# 샘플링 \n",
    "df_sample = df_numeric.sample(n=5000, random_state=42)\n",
    "\n",
    "# 샘플에서 VIF 기반 컬럼 제거\n",
    "df_sample_reduced = calculate_vif_once(df_sample, thresh=8.0)\n",
    "\n",
    "# 남은 컬럼을 전체 데이터에 적용\n",
    "final_df = df_numeric[df_sample_reduced.columns]\n",
    "\n",
    "print(f\" 최종 전체 데이터 shape: {final_df.shape}\")"
   ]
  },
  {
   "cell_type": "markdown",
   "id": "6a9360af-b42f-4bb1-9a4a-02bde8a254e2",
   "metadata": {},
   "source": [
    "### VIF 6이상 컬럼 제거"
   ]
  },
  {
   "cell_type": "code",
   "execution_count": 7,
   "id": "72dcd294-b5d1-4798-9ca4-ef45bb5bc7b5",
   "metadata": {},
   "outputs": [],
   "source": [
    "def calculate_vif_once(df, thresh=6.0):\n",
    "    \"\"\"\n",
    "    한 번만 VIF 계산해서 임계값(thresh) 초과하는 컬럼 제거\n",
    "    \"\"\"\n",
    "    X = add_constant(df)\n",
    "    vif = pd.Series(\n",
    "        [variance_inflation_factor(X.values, i) for i in range(1, X.shape[1])],\n",
    "        index=df.columns\n",
    "    )\n",
    "    \n",
    "    # VIF 초과 컬럼 목록\n",
    "    to_drop = vif[vif > thresh].index.tolist()\n",
    "    print(f\"VIF {thresh} 초과 컬럼 제거: {to_drop}\")\n",
    "    \n",
    "    return df.drop(columns=to_drop)"
   ]
  },
  {
   "cell_type": "code",
   "execution_count": 8,
   "id": "129ca08f-162f-4e6a-8ec8-f206830c64a7",
   "metadata": {},
   "outputs": [
    {
     "name": "stderr",
     "output_type": "stream",
     "text": [
      "C:\\Users\\Lee\\anaconda3\\envs\\tensorflow_env\\lib\\site-packages\\statsmodels\\regression\\linear_model.py:1782: RuntimeWarning: invalid value encountered in scalar divide\n",
      "  return 1 - self.ssr/self.centered_tss\n"
     ]
    },
    {
     "name": "stdout",
     "output_type": "stream",
     "text": [
      "VIF 6.0 초과 컬럼 제거: ['이용건수_신용_B0M', '여유_Pet이용금액', '여유_공연이용금액', '_1순위여유업종', '_2순위여유업종', '_1순위납부업종']\n",
      " 최종 전체 데이터 shape: (2400000, 93)\n"
     ]
    }
   ],
   "source": [
    "# 수치형 컬럼만 추출\n",
    "df_numeric = df.select_dtypes(include=[np.number])\n",
    "\n",
    "# 샘플링 \n",
    "df_sample = df_numeric.sample(n=5000, random_state=42)\n",
    "\n",
    "# 샘플에서 VIF 기반 컬럼 제거\n",
    "df_sample_reduced = calculate_vif_once(df_sample, thresh=6.0)\n",
    "\n",
    "# 남은 컬럼을 전체 데이터에 적용\n",
    "final_df = df_numeric[df_sample_reduced.columns]\n",
    "\n",
    "print(f\" 최종 전체 데이터 shape: {final_df.shape}\")"
   ]
  },
  {
   "cell_type": "markdown",
   "id": "ab2ad8db-9a1c-4fe5-8f56-fe0210259dde",
   "metadata": {},
   "source": [
    "### VIF 5이상 컬럼 제거"
   ]
  },
  {
   "cell_type": "code",
   "execution_count": 9,
   "id": "5704b659-7c3e-446c-8bcb-43681a55e0bf",
   "metadata": {},
   "outputs": [],
   "source": [
    "def calculate_vif_once(df, thresh=5.0):\n",
    "    \"\"\"\n",
    "    한 번만 VIF 계산해서 임계값(thresh) 초과하는 컬럼 제거\n",
    "    \"\"\"\n",
    "    X = add_constant(df)\n",
    "    vif = pd.Series(\n",
    "        [variance_inflation_factor(X.values, i) for i in range(1, X.shape[1])],\n",
    "        index=df.columns\n",
    "    )\n",
    "    \n",
    "    # VIF 초과 컬럼 목록\n",
    "    to_drop = vif[vif > thresh].index.tolist()\n",
    "    print(f\"VIF {thresh} 초과 컬럼 제거: {to_drop}\")\n",
    "    \n",
    "    return df.drop(columns=to_drop)"
   ]
  },
  {
   "cell_type": "code",
   "execution_count": 10,
   "id": "44dc147d-4771-41d0-ad99-928df8e6a89a",
   "metadata": {},
   "outputs": [
    {
     "name": "stderr",
     "output_type": "stream",
     "text": [
      "C:\\Users\\Lee\\anaconda3\\envs\\tensorflow_env\\lib\\site-packages\\statsmodels\\regression\\linear_model.py:1782: RuntimeWarning: invalid value encountered in scalar divide\n",
      "  return 1 - self.ssr/self.centered_tss\n"
     ]
    },
    {
     "name": "stdout",
     "output_type": "stream",
     "text": [
      "VIF 5.0 초과 컬럼 제거: ['이용건수_신용_B0M', '여유_Pet이용금액', '여유_공연이용금액', '_1순위여유업종', '_2순위여유업종', '_1순위납부업종']\n",
      " 최종 전체 데이터 shape: (2400000, 93)\n"
     ]
    }
   ],
   "source": [
    "# 수치형 컬럼만 추출\n",
    "df_numeric = df.select_dtypes(include=[np.number])\n",
    "\n",
    "# 샘플링 \n",
    "df_sample = df_numeric.sample(n=5000, random_state=42)\n",
    "\n",
    "# 샘플에서 VIF 기반 컬럼 제거\n",
    "df_sample_reduced = calculate_vif_once(df_sample, thresh=5.0)\n",
    "\n",
    "# 남은 컬럼을 전체 데이터에 적용\n",
    "final_df = df_numeric[df_sample_reduced.columns]\n",
    "\n",
    "print(f\" 최종 전체 데이터 shape: {final_df.shape}\")"
   ]
  },
  {
   "cell_type": "code",
   "execution_count": 11,
   "id": "affd713d-e182-4b1d-bc2d-bfad18813510",
   "metadata": {},
   "outputs": [],
   "source": [
    "final_df.to_parquet(\"result/train/04_train_승인매출정보_VIF제거.parquet\", index=False)\n",
    "final_df.to_csv(\"result/train/04_train_승인매출정보_VIF제거.csv\", index=False)"
   ]
  }
 ],
 "metadata": {
  "kernelspec": {
   "display_name": "Python 3 (ipykernel)",
   "language": "python",
   "name": "python3"
  },
  "language_info": {
   "codemirror_mode": {
    "name": "ipython",
    "version": 3
   },
   "file_extension": ".py",
   "mimetype": "text/x-python",
   "name": "python",
   "nbconvert_exporter": "python",
   "pygments_lexer": "ipython3",
   "version": "3.10.18"
  }
 },
 "nbformat": 4,
 "nbformat_minor": 5
}
