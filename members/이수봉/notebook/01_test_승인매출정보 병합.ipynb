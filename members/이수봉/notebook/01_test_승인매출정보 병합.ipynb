{
 "cells": [
  {
   "cell_type": "code",
   "execution_count": 1,
   "id": "a78b41f2-b0f1-4d9a-94df-ceb384440850",
   "metadata": {},
   "outputs": [],
   "source": [
    "import pandas as pd\n",
    "\n",
    "# 파일 경로 목록 (필요시 경로 수정)\n",
    "file_paths = [\n",
    "    'open/test/3.승인매출정보/201807_test_승인매출정보.parquet',\n",
    "    'open/test/3.승인매출정보/201808_test_승인매출정보.parquet',\n",
    "    'open/test/3.승인매출정보/201809_test_승인매출정보.parquet',\n",
    "    'open/test/3.승인매출정보/201810_test_승인매출정보.parquet',\n",
    "    'open/test/3.승인매출정보/201811_test_승인매출정보.parquet',\n",
    "    'open/test/3.승인매출정보/201812_test_승인매출정보.parquet'\n",
    "]\n",
    "\n",
    "# 파일 읽어서 리스트에 저장\n",
    "df_list = [pd.read_parquet(path) for path in file_paths]\n",
    "\n",
    "# 병합 (행 기준)\n",
    "merged_df = pd.concat(df_list, ignore_index=True)"
   ]
  },
  {
   "cell_type": "code",
   "execution_count": 2,
   "id": "39bc6f8e-f61b-4e5e-832a-3d76ac56e697",
   "metadata": {},
   "outputs": [],
   "source": [
    "merged_df.to_parquet('result/test/01_test_매출데이터병합.parquet', index=False)"
   ]
  }
 ],
 "metadata": {
  "kernelspec": {
   "display_name": "Python 3 (ipykernel)",
   "language": "python",
   "name": "python3"
  },
  "language_info": {
   "codemirror_mode": {
    "name": "ipython",
    "version": 3
   },
   "file_extension": ".py",
   "mimetype": "text/x-python",
   "name": "python",
   "nbconvert_exporter": "python",
   "pygments_lexer": "ipython3",
   "version": "3.10.18"
  }
 },
 "nbformat": 4,
 "nbformat_minor": 5
}
