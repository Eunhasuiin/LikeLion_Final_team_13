{
 "cells": [
  {
   "cell_type": "code",
   "execution_count": 1,
   "id": "2cdcff10-3879-4489-9e5f-e36004b14eba",
   "metadata": {},
   "outputs": [],
   "source": [
    "import pandas as pd\n",
    "\n",
    "# 파일 경로 목록 (필요시 경로 수정)\n",
    "file_paths = [\n",
    "    'open/train/3.승인매출정보/201807_train_승인매출정보.parquet',\n",
    "    'open/train/3.승인매출정보/201808_train_승인매출정보.parquet',\n",
    "    'open/train/3.승인매출정보/201809_train_승인매출정보.parquet',\n",
    "    'open/train/3.승인매출정보/201810_train_승인매출정보.parquet',\n",
    "    'open/train/3.승인매출정보/201811_train_승인매출정보.parquet',\n",
    "    'open/train/3.승인매출정보/201812_train_승인매출정보.parquet'\n",
    "]\n",
    "\n",
    "# 파일 읽어서 리스트에 저장\n",
    "df_list = [pd.read_parquet(path) for path in file_paths]\n",
    "\n",
    "# 병합 (행 기준으로 연결)\n",
    "merged_df = pd.concat(df_list, ignore_index=True)"
   ]
  },
  {
   "cell_type": "code",
   "execution_count": 2,
   "id": "242f2a11-d3ec-40da-a553-2d995c4bd112",
   "metadata": {},
   "outputs": [],
   "source": [
    "merged_df.to_parquet('result/train/01_train_매출데이터병합.parquet', index=False)"
   ]
  }
 ],
 "metadata": {
  "kernelspec": {
   "display_name": "Python 3 (ipykernel)",
   "language": "python",
   "name": "python3"
  },
  "language_info": {
   "codemirror_mode": {
    "name": "ipython",
    "version": 3
   },
   "file_extension": ".py",
   "mimetype": "text/x-python",
   "name": "python",
   "nbconvert_exporter": "python",
   "pygments_lexer": "ipython3",
   "version": "3.10.18"
  }
 },
 "nbformat": 4,
 "nbformat_minor": 5
}
