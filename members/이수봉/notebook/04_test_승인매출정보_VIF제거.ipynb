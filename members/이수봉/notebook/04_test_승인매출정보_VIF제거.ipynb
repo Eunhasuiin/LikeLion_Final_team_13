{
 "cells": [
  {
   "cell_type": "code",
   "execution_count": 1,
   "id": "7566c7d0-7be4-44bc-aa54-0344ec06c8a7",
   "metadata": {},
   "outputs": [],
   "source": [
    "import pandas as pd\n",
    "import numpy as np\n",
    "from statsmodels.stats.outliers_influence import variance_inflation_factor\n",
    "from statsmodels.tools.tools import add_constant"
   ]
  },
  {
   "cell_type": "code",
   "execution_count": 2,
   "id": "7d6c5dc8-c5af-446c-92ee-331cba5675a7",
   "metadata": {},
   "outputs": [],
   "source": [
    "df = pd.read_parquet(\"result/test/03_test_승인매출정보_전처리.parquet\")"
   ]
  },
  {
   "cell_type": "markdown",
   "id": "b018d56a-8908-4753-8696-409dd78addb3",
   "metadata": {},
   "source": [
    "### VIF 10 이상 컬럼 제거"
   ]
  },
  {
   "cell_type": "code",
   "execution_count": 3,
   "id": "1e17313b-3455-49e3-b4b3-17dd4fb768ee",
   "metadata": {},
   "outputs": [],
   "source": [
    "def calculate_vif_once(df, thresh=10.0):\n",
    "    \"\"\"\n",
    "    한 번만 VIF 계산해서 임계값(thresh) 초과하는 컬럼 제거\n",
    "    \"\"\"\n",
    "    X = add_constant(df)\n",
    "    vif = pd.Series(\n",
    "        [variance_inflation_factor(X.values, i) for i in range(1, X.shape[1])],\n",
    "        index=df.columns\n",
    "    )\n",
    "    \n",
    "    # VIF 초과 컬럼 목록\n",
    "    to_drop = vif[vif > thresh].index.tolist()\n",
    "    print(f\"VIF {thresh} 초과 컬럼 제거: {to_drop}\")\n",
    "    \n",
    "    return df.drop(columns=to_drop)"
   ]
  },
  {
   "cell_type": "code",
   "execution_count": 4,
   "id": "8b2ec229-2b4b-41f1-a315-82e45990965c",
   "metadata": {},
   "outputs": [
    {
     "name": "stderr",
     "output_type": "stream",
     "text": [
      "C:\\Users\\Lee\\anaconda3\\envs\\tensorflow_env\\lib\\site-packages\\statsmodels\\regression\\linear_model.py:1782: RuntimeWarning: invalid value encountered in scalar divide\n",
      "  return 1 - self.ssr/self.centered_tss\n"
     ]
    },
    {
     "name": "stdout",
     "output_type": "stream",
     "text": [
      "VIF 10.0 초과 컬럼 제거: ['여유_공연이용금액', '_1순위여유업종', '_2순위여유업종']\n",
      " 최종 전체 데이터 shape: (600000, 95)\n"
     ]
    }
   ],
   "source": [
    "# 수치형 컬럼만 추출\n",
    "df_numeric = df.select_dtypes(include=[np.number])\n",
    "\n",
    "# 샘플링 \n",
    "df_sample = df_numeric.sample(n=5000, random_state=42)\n",
    "\n",
    "# 샘플에서 VIF 기반 컬럼 제거\n",
    "df_sample_reduced = calculate_vif_once(df_sample, thresh=10.0)\n",
    "\n",
    "# 남은 컬럼을 전체 데이터에 적용\n",
    "final_df = df_numeric[df_sample_reduced.columns]\n",
    "\n",
    "print(f\" 최종 전체 데이터 shape: {final_df.shape}\")"
   ]
  },
  {
   "cell_type": "markdown",
   "id": "f887ca19-c5b4-4d6a-bce4-1965129a566c",
   "metadata": {},
   "source": [
    "### VIF 8이상 컬럼 제거"
   ]
  },
  {
   "cell_type": "code",
   "execution_count": 5,
   "id": "51be693d-d11c-401a-82fb-b6d7a163d3cf",
   "metadata": {},
   "outputs": [],
   "source": [
    "def calculate_vif_once(df, thresh=8.0):\n",
    "    \"\"\"\n",
    "    한 번만 VIF 계산해서 임계값(thresh) 초과하는 컬럼 제거\n",
    "    \"\"\"\n",
    "    X = add_constant(df)\n",
    "    vif = pd.Series(\n",
    "        [variance_inflation_factor(X.values, i) for i in range(1, X.shape[1])],\n",
    "        index=df.columns\n",
    "    )\n",
    "    \n",
    "    # VIF 초과 컬럼 목록\n",
    "    to_drop = vif[vif > thresh].index.tolist()\n",
    "    print(f\"VIF {thresh} 초과 컬럼 제거: {to_drop}\")\n",
    "    \n",
    "    return df.drop(columns=to_drop)"
   ]
  },
  {
   "cell_type": "code",
   "execution_count": 6,
   "id": "0e35d516-7db7-40a4-bd85-32539682ea21",
   "metadata": {},
   "outputs": [
    {
     "name": "stderr",
     "output_type": "stream",
     "text": [
      "C:\\Users\\Lee\\anaconda3\\envs\\tensorflow_env\\lib\\site-packages\\statsmodels\\regression\\linear_model.py:1782: RuntimeWarning: invalid value encountered in scalar divide\n",
      "  return 1 - self.ssr/self.centered_tss\n"
     ]
    },
    {
     "name": "stdout",
     "output_type": "stream",
     "text": [
      "VIF 8.0 초과 컬럼 제거: ['여유_공연이용금액', '_1순위여유업종', '_2순위여유업종']\n",
      " 최종 전체 데이터 shape: (600000, 95)\n"
     ]
    }
   ],
   "source": [
    "# 수치형 컬럼만 추출\n",
    "df_numeric = df.select_dtypes(include=[np.number])\n",
    "\n",
    "# 샘플링 \n",
    "df_sample = df_numeric.sample(n=5000, random_state=42)\n",
    "\n",
    "# 샘플에서 VIF 기반 컬럼 제거\n",
    "df_sample_reduced = calculate_vif_once(df_sample, thresh=8.0)\n",
    "\n",
    "# 남은 컬럼을 전체 데이터에 적용\n",
    "final_df = df_numeric[df_sample_reduced.columns]\n",
    "\n",
    "print(f\" 최종 전체 데이터 shape: {final_df.shape}\")"
   ]
  },
  {
   "cell_type": "markdown",
   "id": "e9587a8a-232a-419d-92e6-690c564743d3",
   "metadata": {},
   "source": [
    "### VIF 6이상 컬럼 제거"
   ]
  },
  {
   "cell_type": "code",
   "execution_count": 7,
   "id": "cb434133-b2f3-47d6-958d-c5516235b851",
   "metadata": {},
   "outputs": [],
   "source": [
    "def calculate_vif_once(df, thresh=6.0):\n",
    "    \"\"\"\n",
    "    한 번만 VIF 계산해서 임계값(thresh) 초과하는 컬럼 제거\n",
    "    \"\"\"\n",
    "    X = add_constant(df)\n",
    "    vif = pd.Series(\n",
    "        [variance_inflation_factor(X.values, i) for i in range(1, X.shape[1])],\n",
    "        index=df.columns\n",
    "    )\n",
    "    \n",
    "    # VIF 초과 컬럼 목록\n",
    "    to_drop = vif[vif > thresh].index.tolist()\n",
    "    print(f\"VIF {thresh} 초과 컬럼 제거: {to_drop}\")\n",
    "    \n",
    "    return df.drop(columns=to_drop)"
   ]
  },
  {
   "cell_type": "code",
   "execution_count": 8,
   "id": "86b48c1c-bcb6-4403-aeb2-feb884e1a4f9",
   "metadata": {},
   "outputs": [
    {
     "name": "stderr",
     "output_type": "stream",
     "text": [
      "C:\\Users\\Lee\\anaconda3\\envs\\tensorflow_env\\lib\\site-packages\\statsmodels\\regression\\linear_model.py:1782: RuntimeWarning: invalid value encountered in scalar divide\n",
      "  return 1 - self.ssr/self.centered_tss\n"
     ]
    },
    {
     "name": "stdout",
     "output_type": "stream",
     "text": [
      "VIF 6.0 초과 컬럼 제거: ['이용건수_신용_B0M', '여유_Pet이용금액', '여유_공연이용금액', '_1순위여유업종', '_2순위여유업종', '_1순위납부업종']\n",
      " 최종 전체 데이터 shape: (600000, 92)\n"
     ]
    }
   ],
   "source": [
    "# 수치형 컬럼만 추출\n",
    "df_numeric = df.select_dtypes(include=[np.number])\n",
    "\n",
    "# 샘플링 \n",
    "df_sample = df_numeric.sample(n=5000, random_state=42)\n",
    "\n",
    "# 샘플에서 VIF 기반 컬럼 제거\n",
    "df_sample_reduced = calculate_vif_once(df_sample, thresh=6.0)\n",
    "\n",
    "# 남은 컬럼을 전체 데이터에 적용\n",
    "final_df = df_numeric[df_sample_reduced.columns]\n",
    "\n",
    "print(f\" 최종 전체 데이터 shape: {final_df.shape}\")"
   ]
  },
  {
   "cell_type": "markdown",
   "id": "0c73be70-2778-466c-abe9-73bfb238963d",
   "metadata": {},
   "source": [
    "### VIF 5이상 컬럼 제거"
   ]
  },
  {
   "cell_type": "code",
   "execution_count": 9,
   "id": "33214902-fd1d-49d0-8ea6-27f1195d55f0",
   "metadata": {},
   "outputs": [],
   "source": [
    "def calculate_vif_once(df, thresh=5.0):\n",
    "    \"\"\"\n",
    "    한 번만 VIF 계산해서 임계값(thresh) 초과하는 컬럼 제거\n",
    "    \"\"\"\n",
    "    X = add_constant(df)\n",
    "    vif = pd.Series(\n",
    "        [variance_inflation_factor(X.values, i) for i in range(1, X.shape[1])],\n",
    "        index=df.columns\n",
    "    )\n",
    "    \n",
    "    # VIF 초과 컬럼 목록\n",
    "    to_drop = vif[vif > thresh].index.tolist()\n",
    "    print(f\"VIF {thresh} 초과 컬럼 제거: {to_drop}\")\n",
    "    \n",
    "    return df.drop(columns=to_drop)"
   ]
  },
  {
   "cell_type": "code",
   "execution_count": 10,
   "id": "3be95fe9-682c-4151-8d22-9134eea4e181",
   "metadata": {},
   "outputs": [
    {
     "name": "stderr",
     "output_type": "stream",
     "text": [
      "C:\\Users\\Lee\\anaconda3\\envs\\tensorflow_env\\lib\\site-packages\\statsmodels\\regression\\linear_model.py:1782: RuntimeWarning: invalid value encountered in scalar divide\n",
      "  return 1 - self.ssr/self.centered_tss\n"
     ]
    },
    {
     "name": "stdout",
     "output_type": "stream",
     "text": [
      "VIF 5.0 초과 컬럼 제거: ['이용건수_신용_B0M', '여유_Pet이용금액', '여유_공연이용금액', '_1순위여유업종', '_2순위여유업종', '_3순위여유업종', '_1순위납부업종']\n",
      " 최종 전체 데이터 shape: (600000, 91)\n"
     ]
    }
   ],
   "source": [
    "# 수치형 컬럼만 추출\n",
    "df_numeric = df.select_dtypes(include=[np.number])\n",
    "\n",
    "# 샘플링 \n",
    "df_sample = df_numeric.sample(n=5000, random_state=42)\n",
    "\n",
    "# 샘플에서 VIF 기반 컬럼 제거\n",
    "df_sample_reduced = calculate_vif_once(df_sample, thresh=5.0)\n",
    "\n",
    "# 남은 컬럼을 전체 데이터에 적용\n",
    "final_df = df_numeric[df_sample_reduced.columns]\n",
    "\n",
    "print(f\" 최종 전체 데이터 shape: {final_df.shape}\")"
   ]
  },
  {
   "cell_type": "code",
   "execution_count": 11,
   "id": "3c82d767-ed33-439e-aa78-e0117c640d00",
   "metadata": {},
   "outputs": [],
   "source": [
    "final_df.to_parquet(\"result/test/04_test_승인매출정보_VIF제거.parquet\", index=False)\n",
    "final_df.to_csv(\"result/test/04_test_승인매출정보_VIF제거.csv\", index=False)"
   ]
  }
 ],
 "metadata": {
  "kernelspec": {
   "display_name": "Python 3 (ipykernel)",
   "language": "python",
   "name": "python3"
  },
  "language_info": {
   "codemirror_mode": {
    "name": "ipython",
    "version": 3
   },
   "file_extension": ".py",
   "mimetype": "text/x-python",
   "name": "python",
   "nbconvert_exporter": "python",
   "pygments_lexer": "ipython3",
   "version": "3.10.18"
  }
 },
 "nbformat": 4,
 "nbformat_minor": 5
}
