{
 "cells": [
  {
   "cell_type": "code",
   "execution_count": 2,
   "id": "65fdcdf8-9786-4dc9-a6ea-8f4fb7e8ff12",
   "metadata": {},
   "outputs": [],
   "source": [
    "import pandas as pd\n",
    "import os"
   ]
  },
  {
   "cell_type": "markdown",
   "id": "d8836936-99e5-439f-a36b-d0b54c0a7468",
   "metadata": {},
   "source": [
    "### test 파일 병합"
   ]
  },
  {
   "cell_type": "code",
   "execution_count": 3,
   "id": "4bc7e421-5a66-4636-b774-7f6cef515502",
   "metadata": {},
   "outputs": [
    {
     "data": {
      "text/plain": [
       "['1.회원정보',\n",
       " '2.신용정보',\n",
       " '3.승인매출정보',\n",
       " '4.청구입금정보',\n",
       " '5.잔액정보',\n",
       " '6.채널정보',\n",
       " '7.마케팅정보',\n",
       " '8.성과정보']"
      ]
     },
     "execution_count": 3,
     "metadata": {},
     "output_type": "execute_result"
    }
   ],
   "source": [
    "path = 'C://final_prj/open/test/'\n",
    "files = os.listdir(path)\n",
    "files"
   ]
  },
  {
   "cell_type": "code",
   "execution_count": 5,
   "id": "01683a90-6ccf-4875-9dba-38ca9d74e0fd",
   "metadata": {},
   "outputs": [
    {
     "data": {
      "text/plain": [
       "'신용정보'"
      ]
     },
     "execution_count": 5,
     "metadata": {},
     "output_type": "execute_result"
    }
   ],
   "source": [
    "files[1].split('.')[-1]"
   ]
  },
  {
   "cell_type": "code",
   "execution_count": 7,
   "id": "f5d0533d-7c09-4394-a03a-80e5eeeb9e25",
   "metadata": {},
   "outputs": [
    {
     "name": "stdout",
     "output_type": "stream",
     "text": [
      "['201807_test_마케팅정보.parquet', '201808_test_마케팅정보.parquet', '201809_test_마케팅정보.parquet', '201810_test_마케팅정보.parquet', '201811_test_마케팅정보.parquet', '201812_test_마케팅정보.parquet']\n",
      "201807_test_마케팅정보.parquet\n",
      "201808_test_마케팅정보.parquet\n",
      "201809_test_마케팅정보.parquet\n",
      "201810_test_마케팅정보.parquet\n",
      "201811_test_마케팅정보.parquet\n",
      "201812_test_마케팅정보.parquet\n",
      "600000\n",
      "########################################################################################\n",
      "['201807_test_성과정보.parquet', '201808_test_성과정보.parquet', '201809_test_성과정보.parquet', '201810_test_성과정보.parquet', '201811_test_성과정보.parquet', '201812_test_성과정보.parquet']\n",
      "201807_test_성과정보.parquet\n",
      "201808_test_성과정보.parquet\n",
      "201809_test_성과정보.parquet\n",
      "201810_test_성과정보.parquet\n",
      "201811_test_성과정보.parquet\n",
      "201812_test_성과정보.parquet\n",
      "600000\n",
      "########################################################################################\n"
     ]
    }
   ],
   "source": [
    "for i in (6,7):\n",
    "    file_list = os.listdir(path+files[i])\n",
    "    print(file_list)\n",
    "    df_list = []\n",
    "    file_name = files[i].split('.')[-1]\n",
    "    for f in file_list :\n",
    "        print(f)\n",
    "        df = pd.read_parquet(path + files[i] + '/' + f)\n",
    "        df_list.append(df)\n",
    "    new = pd.concat(df_list, axis=0)\n",
    "    print(len(new))\n",
    "    new.to_parquet(f'C://final_prj/open/test_{file_name}_total.parquet')\n",
    "    print('###########' * 8)"
   ]
  },
  {
   "cell_type": "code",
   "execution_count": null,
   "id": "18cd5cb3-113f-4800-af1d-21227590c19b",
   "metadata": {},
   "outputs": [],
   "source": []
  }
 ],
 "metadata": {
  "kernelspec": {
   "display_name": "Python 3 (ipykernel)",
   "language": "python",
   "name": "python3"
  },
  "language_info": {
   "codemirror_mode": {
    "name": "ipython",
    "version": 3
   },
   "file_extension": ".py",
   "mimetype": "text/x-python",
   "name": "python",
   "nbconvert_exporter": "python",
   "pygments_lexer": "ipython3",
   "version": "3.12.7"
  }
 },
 "nbformat": 4,
 "nbformat_minor": 5
}
