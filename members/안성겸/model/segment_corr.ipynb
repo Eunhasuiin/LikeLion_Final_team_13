{
 "cells": [
  {
   "cell_type": "code",
   "execution_count": 2,
   "id": "738be7a7-48e6-4c85-adff-8ea7a6bd4f9f",
   "metadata": {},
   "outputs": [
    {
     "name": "stdout",
     "output_type": "stream",
     "text": [
      "✅ train_주요변수.csv 저장 완료\n",
      "✅ test_주요변수.csv 저장 완료\n"
     ]
    }
   ],
   "source": [
    "import pandas as pd\n",
    "from category_encoders import CatBoostEncoder\n",
    "\n",
    "# ─── 1. 원본 데이터 불러오기 ──────────────────────────\n",
    "train = pd.read_parquet(\"회원_신용_청구.parquet\")\n",
    "test = pd.read_parquet(\"회원_신용_청구_test.parquet\")\n",
    "\n",
    "# ─── 2. CatBoostEncoder를 이용해 Segment 숫자화 ───────\n",
    "# Segment가 문자열일 때 → 숫자형으로 인코딩\n",
    "encoder = CatBoostEncoder()\n",
    "train['Segment_encoded'] = encoder.fit_transform(train[['Segment']], train['Segment'])\n",
    "\n",
    "# ─── 3. 숫자형 열 선택 ──────────────────────────────\n",
    "numeric_cols = train.select_dtypes(include='number').columns.tolist()\n",
    "\n",
    "# ─── 4. Segment_encoded와의 상관계수 계산 ──────────────\n",
    "correlations = train[numeric_cols].corr()['Segment_encoded'].drop('Segment_encoded')\n",
    "\n",
    "# ─── 5. 절댓값 기준으로 상관계수 필터링 (예: 0.1 이상) ─\n",
    "important_features = correlations[correlations.abs() > 0.1].index.tolist()\n",
    "\n",
    "# ─── 6. 주요 변수 + ID + Segment로 구성된 훈련 데이터 저장 ─\n",
    "columns_to_keep = ['ID', 'Segment'] + important_features\n",
    "train_reduced = train[columns_to_keep]\n",
    "train_reduced.to_csv(\"train_주요변수.csv\", index=False)\n",
    "print(\"✅ train_주요변수.csv 저장 완료\")\n",
    "\n",
    "# ─── 7. 테스트 파일에도 동일한 변수만 남기기 ─────────────\n",
    "test_reduced = test[['ID'] + important_features]\n",
    "test_reduced.to_csv(\"test_주요변수.csv\", index=False)\n",
    "print(\"✅ test_주요변수.csv 저장 완료\")\n"
   ]
  },
  {
   "cell_type": "code",
   "execution_count": 4,
   "id": "f3677ede-6808-457f-abe0-56e1c85a727a",
   "metadata": {},
   "outputs": [
    {
     "data": {
      "text/plain": [
       "기준년월              -0.000063\n",
       "남녀구분코드             0.060331\n",
       "연령                -0.004451\n",
       "회원여부_이용가능_CA      -0.087540\n",
       "소지카드수_이용가능_신용     -0.323115\n",
       "입회일자_신용            0.252286\n",
       "회원여부_연체           -0.027851\n",
       "동의여부_한도증액안내       -0.049462\n",
       "수신거부여부_메일         -0.106270\n",
       "수신거부여부_SMS        -0.094514\n",
       "가입통신회사코드          -0.074085\n",
       "최종탈회후경과월           0.001828\n",
       "탈회횟수_발급6개월이내       0.015517\n",
       "거주시도명              0.007140\n",
       "마케팅동의여부            0.047719\n",
       "이용가능카드수_신용체크      -0.352251\n",
       "이용카드수_신용_가족       -0.214798\n",
       "이용금액_R3M_체크       -0.209966\n",
       "_1순위카드이용건수        -0.383633\n",
       "_1순위신용체크구분         0.012089\n",
       "_2순위카드이용건수        -0.376548\n",
       "최종카드발급일자           0.010832\n",
       "이용여부_3M_해외겸용_본인   -0.231075\n",
       "기본연회비_B0M          0.010118\n",
       "제휴연회비_B0M         -0.019887\n",
       "카드신청건수             0.038930\n",
       "Life_Stage        -0.047110\n",
       "최초한도금액            -0.107082\n",
       "일시상환론한도금액         -0.094213\n",
       "월상환론한도금액          -0.050292\n",
       "CL이자율_할인전         -0.037258\n",
       "RV약정청구율           -0.054579\n",
       "RV최소결제비율          -0.031668\n",
       "자발한도감액금액_R12M     -0.006141\n",
       "자발한도감액후경과월         0.002106\n",
       "강제한도감액금액_R12M      0.037447\n",
       "강제한도감액후경과월        -0.044612\n",
       "한도증액후경과월           0.039391\n",
       "상향가능CA한도금액        -0.064599\n",
       "월상환론상향가능한도금액       0.011383\n",
       "일시불ONLY전환가능여부      0.019194\n",
       "카드이용한도금액_B2M      -0.303221\n",
       "연체감액여부_R3M        -0.013675\n",
       "대표결제일              0.003644\n",
       "대표청구지고객주소구분코드      0.068184\n",
       "청구서수령방법           -0.025962\n",
       "청구서발송여부_B0        -0.209554\n",
       "청구서발송여부_R6M       -0.153715\n",
       "청구금액_B0           -0.577912\n",
       "포인트_포인트_건별_B0M    -0.144535\n",
       "포인트_포인트_월적립_B0M   -0.115620\n",
       "포인트_잔여포인트_B0M      0.002584\n",
       "마일_적립포인트_R12M     -0.213678\n",
       "마일_잔여포인트_B0M      -0.183518\n",
       "할인건수_R3M          -0.243156\n",
       "할인건수_B0M          -0.091994\n",
       "할인금액_B0M          -0.180220\n",
       "선결제건수_R3M         -0.147398\n",
       "연체건수_R3M          -0.054821\n",
       "Name: Segment_encoded, dtype: float64"
      ]
     },
     "execution_count": 4,
     "metadata": {},
     "output_type": "execute_result"
    }
   ],
   "source": [
    "correlations"
   ]
  },
  {
   "cell_type": "code",
   "execution_count": null,
   "id": "335f5ef9-4876-4315-9c36-054afad5ee69",
   "metadata": {},
   "outputs": [],
   "source": []
  }
 ],
 "metadata": {
  "kernelspec": {
   "display_name": "Python 3 (ipykernel)",
   "language": "python",
   "name": "python3"
  },
  "language_info": {
   "codemirror_mode": {
    "name": "ipython",
    "version": 3
   },
   "file_extension": ".py",
   "mimetype": "text/x-python",
   "name": "python",
   "nbconvert_exporter": "python",
   "pygments_lexer": "ipython3",
   "version": "3.12.7"
  }
 },
 "nbformat": 4,
 "nbformat_minor": 5
}
