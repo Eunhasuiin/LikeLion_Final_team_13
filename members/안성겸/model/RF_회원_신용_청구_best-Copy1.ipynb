{
 "cells": [
  {
   "cell_type": "code",
   "execution_count": 1,
   "id": "7f6a6d40-574a-4d89-92ef-e3dd5e61baed",
   "metadata": {},
   "outputs": [],
   "source": [
    "import pandas as pd\n",
    "import os\n",
    "from glob import glob\n",
    "import numpy as np\n",
    "from pandas.api.types import CategoricalDtype\n",
    "from sklearn.model_selection import train_test_split\n",
    "from sklearn.ensemble import RandomForestClassifier\n",
    "from sklearn.metrics import classification_report, accuracy_score"
   ]
  },
  {
   "cell_type": "code",
   "execution_count": 8,
   "id": "fdb7a057-0659-41a2-82a0-30930d6773dc",
   "metadata": {},
   "outputs": [],
   "source": [
    "ex1 = pd.read_parquet('회원_신용_청구.parquet')"
   ]
  },
  {
   "cell_type": "code",
   "execution_count": 11,
   "id": "e6b28579-f840-4d84-b752-3e7ae2e4d386",
   "metadata": {
    "scrolled": true
   },
   "outputs": [
    {
     "ename": "AttributeError",
     "evalue": "'SMOTE' object has no attribute '_validate_data'",
     "output_type": "error",
     "traceback": [
      "\u001b[1;31m---------------------------------------------------------------------------\u001b[0m",
      "\u001b[1;31mAttributeError\u001b[0m                            Traceback (most recent call last)",
      "Cell \u001b[1;32mIn[11], line 19\u001b[0m\n\u001b[0;32m     17\u001b[0m \u001b[38;5;66;03m# ─── 4. SMOTE로 오버샘플링 ──────────────────────\u001b[39;00m\n\u001b[0;32m     18\u001b[0m smote \u001b[38;5;241m=\u001b[39m SMOTE(random_state\u001b[38;5;241m=\u001b[39m\u001b[38;5;241m42\u001b[39m)\n\u001b[1;32m---> 19\u001b[0m X_train_resampled, y_train_resampled \u001b[38;5;241m=\u001b[39m smote\u001b[38;5;241m.\u001b[39mfit_resample(X_train, y_train)\n\u001b[0;32m     21\u001b[0m \u001b[38;5;66;03m# ─── 5. 랜덤 포레스트 학습 ──────────────────────\u001b[39;00m\n\u001b[0;32m     22\u001b[0m rf \u001b[38;5;241m=\u001b[39m RandomForestClassifier(\n\u001b[0;32m     23\u001b[0m     n_estimators\u001b[38;5;241m=\u001b[39m\u001b[38;5;241m200\u001b[39m,\n\u001b[0;32m     24\u001b[0m     max_depth\u001b[38;5;241m=\u001b[39m\u001b[38;5;241m10\u001b[39m,\n\u001b[1;32m   (...)\u001b[0m\n\u001b[0;32m     27\u001b[0m     n_jobs\u001b[38;5;241m=\u001b[39m\u001b[38;5;241m-\u001b[39m\u001b[38;5;241m1\u001b[39m\n\u001b[0;32m     28\u001b[0m )\n",
      "File \u001b[1;32m~\\AppData\\Local\\anaconda3\\Lib\\site-packages\\imblearn\\base.py:208\u001b[0m, in \u001b[0;36mBaseSampler.fit_resample\u001b[1;34m(self, X, y)\u001b[0m\n\u001b[0;32m    187\u001b[0m \u001b[38;5;250m\u001b[39m\u001b[38;5;124;03m\"\"\"Resample the dataset.\u001b[39;00m\n\u001b[0;32m    188\u001b[0m \n\u001b[0;32m    189\u001b[0m \u001b[38;5;124;03mParameters\u001b[39;00m\n\u001b[1;32m   (...)\u001b[0m\n\u001b[0;32m    205\u001b[0m \u001b[38;5;124;03m    The corresponding label of `X_resampled`.\u001b[39;00m\n\u001b[0;32m    206\u001b[0m \u001b[38;5;124;03m\"\"\"\u001b[39;00m\n\u001b[0;32m    207\u001b[0m \u001b[38;5;28mself\u001b[39m\u001b[38;5;241m.\u001b[39m_validate_params()\n\u001b[1;32m--> 208\u001b[0m \u001b[38;5;28;01mreturn\u001b[39;00m \u001b[38;5;28msuper\u001b[39m()\u001b[38;5;241m.\u001b[39mfit_resample(X, y)\n",
      "File \u001b[1;32m~\\AppData\\Local\\anaconda3\\Lib\\site-packages\\imblearn\\base.py:106\u001b[0m, in \u001b[0;36mSamplerMixin.fit_resample\u001b[1;34m(self, X, y)\u001b[0m\n\u001b[0;32m    104\u001b[0m check_classification_targets(y)\n\u001b[0;32m    105\u001b[0m arrays_transformer \u001b[38;5;241m=\u001b[39m ArraysTransformer(X, y)\n\u001b[1;32m--> 106\u001b[0m X, y, binarize_y \u001b[38;5;241m=\u001b[39m \u001b[38;5;28mself\u001b[39m\u001b[38;5;241m.\u001b[39m_check_X_y(X, y)\n\u001b[0;32m    108\u001b[0m \u001b[38;5;28mself\u001b[39m\u001b[38;5;241m.\u001b[39msampling_strategy_ \u001b[38;5;241m=\u001b[39m check_sampling_strategy(\n\u001b[0;32m    109\u001b[0m     \u001b[38;5;28mself\u001b[39m\u001b[38;5;241m.\u001b[39msampling_strategy, y, \u001b[38;5;28mself\u001b[39m\u001b[38;5;241m.\u001b[39m_sampling_type\n\u001b[0;32m    110\u001b[0m )\n\u001b[0;32m    112\u001b[0m output \u001b[38;5;241m=\u001b[39m \u001b[38;5;28mself\u001b[39m\u001b[38;5;241m.\u001b[39m_fit_resample(X, y)\n",
      "File \u001b[1;32m~\\AppData\\Local\\anaconda3\\Lib\\site-packages\\imblearn\\base.py:161\u001b[0m, in \u001b[0;36mBaseSampler._check_X_y\u001b[1;34m(self, X, y, accept_sparse)\u001b[0m\n\u001b[0;32m    159\u001b[0m     accept_sparse \u001b[38;5;241m=\u001b[39m [\u001b[38;5;124m\"\u001b[39m\u001b[38;5;124mcsr\u001b[39m\u001b[38;5;124m\"\u001b[39m, \u001b[38;5;124m\"\u001b[39m\u001b[38;5;124mcsc\u001b[39m\u001b[38;5;124m\"\u001b[39m]\n\u001b[0;32m    160\u001b[0m y, binarize_y \u001b[38;5;241m=\u001b[39m check_target_type(y, indicate_one_vs_all\u001b[38;5;241m=\u001b[39m\u001b[38;5;28;01mTrue\u001b[39;00m)\n\u001b[1;32m--> 161\u001b[0m X, y \u001b[38;5;241m=\u001b[39m \u001b[38;5;28mself\u001b[39m\u001b[38;5;241m.\u001b[39m_validate_data(X, y, reset\u001b[38;5;241m=\u001b[39m\u001b[38;5;28;01mTrue\u001b[39;00m, accept_sparse\u001b[38;5;241m=\u001b[39maccept_sparse)\n\u001b[0;32m    162\u001b[0m \u001b[38;5;28;01mreturn\u001b[39;00m X, y, binarize_y\n",
      "\u001b[1;31mAttributeError\u001b[0m: 'SMOTE' object has no attribute '_validate_data'"
     ]
    }
   ],
   "source": [
    "import pandas as pd\n",
    "import numpy as np\n",
    "from sklearn.ensemble import RandomForestClassifier\n",
    "from sklearn.model_selection import train_test_split\n",
    "from sklearn.metrics import classification_report, accuracy_score\n",
    "from imblearn.over_sampling import SMOTE\n",
    "\n",
    "# ─── 2. 피처 및 라벨 정의 ──────────────────────\n",
    "X = ex1.drop(columns=['ID', '기준년월', 'Segment']).select_dtypes(include=[np.number])\n",
    "y, segment_labels = pd.factorize(ex1['Segment'], sort=True)  # A~E → 0~4\n",
    "\n",
    "# ─── 3. Train/Test 분할 ────────────────────────\n",
    "X_train, X_test, y_train, y_test = train_test_split(\n",
    "    X, y, test_size=0.3, stratify=y, random_state=42\n",
    ")\n",
    "\n",
    "# ─── 4. SMOTE로 오버샘플링 ──────────────────────\n",
    "smote = SMOTE(random_state=42)\n",
    "X_train_resampled, y_train_resampled = smote.fit_resample(X_train, y_train)\n",
    "\n",
    "# ─── 5. 랜덤 포레스트 학습 ──────────────────────\n",
    "rf = RandomForestClassifier(\n",
    "    n_estimators=200,\n",
    "    max_depth=10,\n",
    "    class_weight=None,  # SMOTE를 썼기 때문에 class_weight는 제거\n",
    "    random_state=42,\n",
    "    n_jobs=-1\n",
    ")\n",
    "rf.fit(X_train_resampled, y_train_resampled)\n",
    "\n",
    "# ─── 6. 검증 세트 평가 ─────────────────────────\n",
    "y_pred = rf.predict(X_test)\n",
    "print(\"★ Accuracy:\", accuracy_score(y_test, y_pred))\n",
    "print(classification_report(y_test, y_pred, digits=4))\n",
    "\n",
    "# ─── 7. 테스트 데이터 예측 ─────────────────────\n",
    "test_df = pd.read_parquet(\"회원_신용_청구_test.parquet\")\n",
    "X_submit = test_df.drop(columns=['ID', '기준년월']).select_dtypes(include=[np.number])\n",
    "y_submit_pred = rf.predict(X_submit)\n",
    "\n",
    "predicted_segments = segment_labels[y_submit_pred]\n",
    "\n",
    "predict = pd.DataFrame({\n",
    "    'ID': test_df['ID'],\n",
    "    'Segment': predicted_segments\n",
    "})\n",
    "\n",
    "# ─── 8. 저장 ──────────────────────────────────\n",
    "predict.to_csv(\"rf_segment_prediction_oversampled.csv\", index=False)\n",
    "print(\"▶ 예측 결과 저장 완료: rf_segment_prediction_oversampled.csv\")\n",
    "print(predict.head())\n"
   ]
  },
  {
   "cell_type": "code",
   "execution_count": 6,
   "id": "2adbdd3f-7d6f-4ddd-9add-d0238b25359c",
   "metadata": {},
   "outputs": [
    {
     "name": "stdout",
     "output_type": "stream",
     "text": [
      "샘플 행 수: 100000\n"
     ]
    }
   ],
   "source": [
    "\n",
    "df_pred = pd.read_csv(\"rf_segment_prediction1.csv\")  # ID, Segment\n",
    "\n",
    "df_mode = df_pred.groupby(\"ID\")[\"Segment\"].agg(lambda x: x.mode().iloc[0]).reset_index()\n",
    "\n",
    "# 3. sample_submission 포맷 확인\n",
    "sample = pd.read_csv(\"sample_submission.csv\")\n",
    "print(\"샘플 행 수:\", len(sample))  # 100,000\n",
    "\n",
    "# 4. ID 기준으로 merge\n",
    "final_submission = sample[['ID']].merge(df_mode, on='ID', how='left')\n",
    "\n",
    "# 5. Segment가 없는 경우 예비값 지정 (예: 'A')\n",
    "final_submission['Segment'] = final_submission['Segment'].fillna('A')\n",
    "\n",
    "# 6. 저장\n",
    "final_submission.to_csv(\"final_segment_submission.csv\", index=False)\n"
   ]
  },
  {
   "cell_type": "code",
   "execution_count": null,
   "id": "fa9811a1-ad4d-41d9-9616-e27ccd962ff9",
   "metadata": {},
   "outputs": [],
   "source": []
  },
  {
   "cell_type": "code",
   "execution_count": null,
   "id": "dad17803-466d-491e-81d7-d6795f03044d",
   "metadata": {},
   "outputs": [],
   "source": []
  }
 ],
 "metadata": {
  "kernelspec": {
   "display_name": "Python 3 (ipykernel)",
   "language": "python",
   "name": "python3"
  },
  "language_info": {
   "codemirror_mode": {
    "name": "ipython",
    "version": 3
   },
   "file_extension": ".py",
   "mimetype": "text/x-python",
   "name": "python",
   "nbconvert_exporter": "python",
   "pygments_lexer": "ipython3",
   "version": "3.12.3"
  }
 },
 "nbformat": 4,
 "nbformat_minor": 5
}
