{
 "cells": [
  {
   "cell_type": "code",
   "execution_count": 1,
   "id": "647f4bae-01c8-4f98-85f2-e381e3638611",
   "metadata": {},
   "outputs": [],
   "source": [
    "import pandas as pd\n",
    "import os\n",
    "from glob import glob\n",
    "import numpy as np\n",
    "from pandas.api.types import CategoricalDtype"
   ]
  },
  {
   "cell_type": "code",
   "execution_count": 2,
   "id": "c9e98283-fc1f-4c2a-81c7-a34c03b8f4db",
   "metadata": {},
   "outputs": [],
   "source": [
    "ex1 = pd.read_parquet('train/1.회원정보/2018_회원정보_전체.parquet')"
   ]
  },
  {
   "cell_type": "code",
   "execution_count": 3,
   "id": "5230d797-e92a-4344-8772-104f6c3344a3",
   "metadata": {},
   "outputs": [],
   "source": [
    "all_cols = ex1.columns.tolist()\n",
    "# print(\"전체 컬럼 이름:\")\n",
    "# print(all_cols)\n",
    "str_cols = ex1.select_dtypes(include=['object']).columns.tolist()\n",
    "# print(\"\\n문자형 컬럼 이름:\")\n",
    "# print(str_cols)\n",
    "num_cols = ex1.select_dtypes(include=[np.number]).columns.tolist()\n",
    "# print(\"\\n숫자형 컬럼 이름:\")\n",
    "# print(num_cols)"
   ]
  },
  {
   "cell_type": "code",
   "execution_count": 4,
   "id": "797de799-bb94-4ed4-b72a-47a80da2e21b",
   "metadata": {},
   "outputs": [],
   "source": [
    "cols = ['가입통신회사코드', '거주시도명', '직장시도명', '_1순위신용체크구분', '_2순위신용체크구분', '연회비발생카드수_B0M', '상품관련면제카드수_B0M', '임직원면제카드수_B0M', '우수회원면제카드수_B0M', '기타면제카드수_B0M', 'Life_Stage']  # 실제 열 이름으로 바꿔주세요"
   ]
  },
  {
   "cell_type": "code",
   "execution_count": 5,
   "id": "e8c71d0b-b4e6-46ca-91a7-b7b527144624",
   "metadata": {},
   "outputs": [],
   "source": [
    "mapping = {\n",
    "    'L사': 0,\n",
    "    'K사': 1,\n",
    "    'S사': 2\n",
    "}\n",
    "ex1['가입통신회사코드'] = (\n",
    "    ex1['가입통신회사코드']\n",
    "      .map(mapping)        # L사→0, K사→1, S사→2, 그 외→NaN\n",
    "      .fillna(-1)          # NaN→-1\n",
    "      .astype(int)         # 정수형\n",
    ")"
   ]
  },
  {
   "cell_type": "code",
   "execution_count": 6,
   "id": "799e709a-a122-40c0-8092-49520575c2d9",
   "metadata": {},
   "outputs": [],
   "source": [
    "ex1['연령'] = ex1['연령'].astype(str).str.replace('대', '', regex=False)\n",
    "\n",
    "# 2) 숫자로 변환, 에러는 NaN→fillna(-1)→정수형\n",
    "ex1['연령'] = (\n",
    "    pd.to_numeric(ex1['연령'], errors='coerce')\n",
    "      .fillna(-1)\n",
    "      .astype(int)\n",
    ")\n"
   ]
  },
  {
   "cell_type": "code",
   "execution_count": 7,
   "id": "7339453f-b2ab-4d35-9787-03360ba95479",
   "metadata": {},
   "outputs": [],
   "source": [
    "\n",
    "regions = [\n",
    "    '서울', '부산', '대구', '인천', '광주', '대전', '울산', '세종',\n",
    "    '경기', '강원', '충북', '충남', '전북', '전남', '경북', '경남', '제주'\n",
    "]\n",
    "\n",
    "region_type = CategoricalDtype(categories=regions, ordered=True)\n",
    "\n",
    "for col in ['거주시도명', '직장시도명']:\n",
    "    ex1[col] = (\n",
    "        ex1[col]\n",
    "           .astype(str)                   # 혹시 숫자 타입 섞여 있어도 문자열로\n",
    "           .astype(region_type)           # 카테고리로 변환\n",
    "           .cat.codes                     # 0~16, 리스트 외 값은 -1\n",
    "    )"
   ]
  },
  {
   "cell_type": "code",
   "execution_count": 8,
   "id": "cda49dd0-34b8-4279-a749-d180b8949b0d",
   "metadata": {},
   "outputs": [],
   "source": [
    "count_cols = [\n",
    "    '연회비발생카드수_B0M',\n",
    "    '상품관련면제카드수_B0M',\n",
    "    '임직원면제카드수_B0M',\n",
    "    '우수회원면제카드수_B0M',\n",
    "    '기타면제카드수_B0M'\n",
    "]\n",
    "\n",
    "for col in count_cols:\n",
    "    ex1[col] = (\n",
    "        ex1[col]\n",
    "          .astype(str)  # None → 'None', NaN → 'nan'\n",
    "          .str.replace('개', '', regex=False)  # '0개' → '0', 'None' → 'None'\n",
    "    )\n",
    "    # 숫자로 변환, 에러는 NaN 처리 → NaN → -1 로 채우기 → 정수형\n",
    "    ex1[col] = (\n",
    "        pd.to_numeric(ex1[col], errors='coerce')\n",
    "          .fillna(-1)\n",
    "          .astype(int)\n",
    "    )"
   ]
  },
  {
   "cell_type": "code",
   "execution_count": 9,
   "id": "1aab6e30-e812-48c6-aff0-096d38a48f45",
   "metadata": {},
   "outputs": [],
   "source": [
    "le_cols = ['_1순위신용체크구분', '_2순위신용체크구분', 'Life_Stage']\n",
    "\n",
    "for col in le_cols:\n",
    "    codes, uniques = pd.factorize(ex1[col], sort=True)\n",
    "    ex1[col] = codes "
   ]
  },
  {
   "cell_type": "code",
   "execution_count": 10,
   "id": "f9ac5cc8-0f62-4ebd-9d44-c7d026d99386",
   "metadata": {},
   "outputs": [
    {
     "name": "stdout",
     "output_type": "stream",
     "text": [
      "전체 컬럼 이름:\n",
      "['기준년월', 'ID', '남녀구분코드', '연령', 'Segment', '회원여부_이용가능', '회원여부_이용가능_CA', '회원여부_이용가능_카드론', '소지여부_신용', '소지카드수_유효_신용', '소지카드수_이용가능_신용', '입회일자_신용', '입회경과개월수_신용', '회원여부_연체', '이용거절여부_카드론', '동의여부_한도증액안내', '수신거부여부_TM', '수신거부여부_DM', '수신거부여부_메일', '수신거부여부_SMS', '가입통신회사코드', '탈회횟수_누적', '최종탈회후경과월', '탈회횟수_발급6개월이내', '탈회횟수_발급1년이내', '거주시도명', '직장시도명', '마케팅동의여부', '유효카드수_신용체크', '유효카드수_신용', '유효카드수_신용_가족', '유효카드수_체크', '유효카드수_체크_가족', '이용가능카드수_신용체크', '이용가능카드수_신용', '이용가능카드수_신용_가족', '이용가능카드수_체크', '이용가능카드수_체크_가족', '이용카드수_신용체크', '이용카드수_신용', '이용카드수_신용_가족', '이용카드수_체크', '이용카드수_체크_가족', '이용금액_R3M_신용체크', '이용금액_R3M_신용', '이용금액_R3M_신용_가족', '이용금액_R3M_체크', '이용금액_R3M_체크_가족', '_1순위카드이용금액', '_1순위카드이용건수', '_1순위신용체크구분', '_2순위카드이용금액', '_2순위카드이용건수', '_2순위신용체크구분', '최종유효년월_신용_이용가능', '최종유효년월_신용_이용', '최종카드발급일자', '보유여부_해외겸용_본인', '이용가능여부_해외겸용_본인', '이용여부_3M_해외겸용_본인', '보유여부_해외겸용_신용_본인', '이용가능여부_해외겸용_신용_본인', '이용여부_3M_해외겸용_신용_본인', '연회비발생카드수_B0M', '연회비할인카드수_B0M', '기본연회비_B0M', '제휴연회비_B0M', '할인금액_기본연회비_B0M', '할인금액_제휴연회비_B0M', '청구금액_기본연회비_B0M', '청구금액_제휴연회비_B0M', '상품관련면제카드수_B0M', '임직원면제카드수_B0M', '우수회원면제카드수_B0M', '기타면제카드수_B0M', '카드신청건수', 'Life_Stage', '최종카드발급경과월']\n",
      "\n",
      "문자형 컬럼 이름:\n",
      "['ID', 'Segment']\n",
      "\n",
      "숫자형 컬럼 이름:\n",
      "['기준년월', '남녀구분코드', '연령', '회원여부_이용가능', '회원여부_이용가능_CA', '회원여부_이용가능_카드론', '소지여부_신용', '소지카드수_유효_신용', '소지카드수_이용가능_신용', '입회일자_신용', '입회경과개월수_신용', '회원여부_연체', '이용거절여부_카드론', '동의여부_한도증액안내', '수신거부여부_TM', '수신거부여부_DM', '수신거부여부_메일', '수신거부여부_SMS', '가입통신회사코드', '탈회횟수_누적', '최종탈회후경과월', '탈회횟수_발급6개월이내', '탈회횟수_발급1년이내', '거주시도명', '직장시도명', '마케팅동의여부', '유효카드수_신용체크', '유효카드수_신용', '유효카드수_신용_가족', '유효카드수_체크', '유효카드수_체크_가족', '이용가능카드수_신용체크', '이용가능카드수_신용', '이용가능카드수_신용_가족', '이용가능카드수_체크', '이용가능카드수_체크_가족', '이용카드수_신용체크', '이용카드수_신용', '이용카드수_신용_가족', '이용카드수_체크', '이용카드수_체크_가족', '이용금액_R3M_신용체크', '이용금액_R3M_신용', '이용금액_R3M_신용_가족', '이용금액_R3M_체크', '이용금액_R3M_체크_가족', '_1순위카드이용금액', '_1순위카드이용건수', '_1순위신용체크구분', '_2순위카드이용금액', '_2순위카드이용건수', '_2순위신용체크구분', '최종유효년월_신용_이용가능', '최종유효년월_신용_이용', '최종카드발급일자', '보유여부_해외겸용_본인', '이용가능여부_해외겸용_본인', '이용여부_3M_해외겸용_본인', '보유여부_해외겸용_신용_본인', '이용가능여부_해외겸용_신용_본인', '이용여부_3M_해외겸용_신용_본인', '연회비발생카드수_B0M', '연회비할인카드수_B0M', '기본연회비_B0M', '제휴연회비_B0M', '할인금액_기본연회비_B0M', '할인금액_제휴연회비_B0M', '청구금액_기본연회비_B0M', '청구금액_제휴연회비_B0M', '상품관련면제카드수_B0M', '임직원면제카드수_B0M', '우수회원면제카드수_B0M', '기타면제카드수_B0M', '카드신청건수', 'Life_Stage', '최종카드발급경과월']\n"
     ]
    }
   ],
   "source": [
    "all_cols = ex1.columns.tolist()\n",
    "print(\"전체 컬럼 이름:\")\n",
    "print(all_cols)\n",
    "str_cols = ex1.select_dtypes(include=['object']).columns.tolist()\n",
    "print(\"\\n문자형 컬럼 이름:\")\n",
    "print(str_cols)\n",
    "num_cols = ex1.select_dtypes(include=[np.number]).columns.tolist()\n",
    "print(\"\\n숫자형 컬럼 이름:\")\n",
    "print(num_cols)"
   ]
  },
  {
   "cell_type": "code",
   "execution_count": 11,
   "id": "c4c4296e-7ba7-4cc4-a18d-f030c0465552",
   "metadata": {},
   "outputs": [
    {
     "data": {
      "text/plain": [
       "['회원여부_이용가능',\n",
       " '소지여부_신용',\n",
       " '유효카드수_체크_가족',\n",
       " '이용가능카드수_체크_가족',\n",
       " '이용카드수_체크_가족',\n",
       " '이용금액_R3M_체크_가족',\n",
       " '연회비할인카드수_B0M',\n",
       " '할인금액_기본연회비_B0M',\n",
       " '할인금액_제휴연회비_B0M',\n",
       " '상품관련면제카드수_B0M',\n",
       " '임직원면제카드수_B0M',\n",
       " '우수회원면제카드수_B0M',\n",
       " '기타면제카드수_B0M']"
      ]
     },
     "execution_count": 11,
     "metadata": {},
     "output_type": "execute_result"
    }
   ],
   "source": [
    "num_df = ex1.select_dtypes(include=[np.number]).dropna()\n",
    "low_var = num_df.var()[ num_df.var() < 0.001 ].index.tolist()\n",
    "low_var"
   ]
  },
  {
   "cell_type": "code",
   "execution_count": 12,
   "id": "5946d297-a0c3-443f-b3fc-a8e79ebbf795",
   "metadata": {},
   "outputs": [],
   "source": [
    "cols_to_drop = ['회원여부_이용가능',\n",
    " '소지여부_신용',\n",
    " '유효카드수_체크_가족',\n",
    " '이용가능카드수_체크_가족',\n",
    " '이용카드수_체크_가족',\n",
    " '이용금액_R3M_체크_가족',\n",
    " '연회비할인카드수_B0M',\n",
    " '할인금액_기본연회비_B0M',\n",
    " '할인금액_제휴연회비_B0M',\n",
    " '상품관련면제카드수_B0M',\n",
    " '임직원면제카드수_B0M',\n",
    " '우수회원면제카드수_B0M',\n",
    " '기타면제카드수_B0M']\n",
    "ex1.drop(columns=cols_to_drop, inplace=True)"
   ]
  },
  {
   "cell_type": "code",
   "execution_count": 13,
   "id": "e5dde745-7ee1-4819-88dc-88ffc840cacd",
   "metadata": {},
   "outputs": [
    {
     "name": "stdout",
     "output_type": "stream",
     "text": [
      "결측(또는 -1) 비율 > 20% 컬럼: ['_2순위신용체크구분']\n"
     ]
    }
   ],
   "source": [
    "missing_mask = ex1.isna() | (ex1 == -1)\n",
    "\n",
    "missing_ratio = missing_mask.mean()\n",
    "\n",
    "high_na = missing_ratio[missing_ratio > 0.3].index.tolist()\n",
    "\n",
    "print(\"결측(또는 -1) 비율 > 20% 컬럼:\", high_na)"
   ]
  },
  {
   "cell_type": "code",
   "execution_count": 14,
   "id": "70fb237f-e278-43e4-afed-4a7871eb2da4",
   "metadata": {},
   "outputs": [],
   "source": [
    "cols_to_drop = ['_2순위신용체크구분']\n",
    "ex1.drop(columns=cols_to_drop, inplace=True)"
   ]
  },
  {
   "cell_type": "code",
   "execution_count": 15,
   "id": "71576374-561f-4e15-a993-9582fff0b222",
   "metadata": {},
   "outputs": [
    {
     "name": "stdout",
     "output_type": "stream",
     "text": [
      "상관계수 초과 피처 목록: ['소지카드수_이용가능_신용', '유효카드수_신용', '이용가능카드수_신용', '이용카드수_신용', '입회경과개월수_신용', '수신거부여부_DM', '수신거부여부_메일', '최종탈회후경과월', '탈회횟수_발급1년이내', '직장시도명', '이용가능카드수_신용체크', '이용카드수_신용체크', '_2순위카드이용금액', '이용가능카드수_신용_가족', '이용카드수_신용_가족', '이용금액_R3M_신용_가족', '이용가능카드수_체크', '_2순위카드이용건수', '이용금액_R3M_신용', '_1순위카드이용금액', '_1순위카드이용건수', '최종유효년월_신용_이용', '최종카드발급일자', '최종카드발급경과월', '이용가능여부_해외겸용_본인', '이용여부_3M_해외겸용_본인', '보유여부_해외겸용_신용_본인', '이용가능여부_해외겸용_신용_본인', '이용여부_3M_해외겸용_신용_본인', '기본연회비_B0M', '청구금액_기본연회비_B0M', '청구금액_제휴연회비_B0M']\n"
     ]
    }
   ],
   "source": [
    "num_df = (\n",
    "    ex1\n",
    "    .select_dtypes(include=[np.number])\n",
    "    .drop(columns=['기준년월'], errors='ignore')\n",
    "    .dropna()\n",
    ")\n",
    "\n",
    "corr_matrix = num_df.corr().abs()\n",
    "threshold = 0.7  # 상관계수 기준\n",
    "\n",
    "high_corr_pairs = (\n",
    "    corr_matrix.where(np.triu(np.ones(corr_matrix.shape), k=1).astype(bool))\n",
    "    .stack()\n",
    "    .reset_index()\n",
    ")\n",
    "high_corr_pairs.columns = ['Feature_1', 'Feature_2', 'Correlation']\n",
    "high_corr_pairs = high_corr_pairs[high_corr_pairs['Correlation'] > threshold]\n",
    "\n",
    "high_corr_feature_list = high_corr_pairs['Feature_2'].unique().tolist()\n",
    "\n",
    "print(\"상관계수 초과 피처 목록:\", high_corr_feature_list)\n"
   ]
  },
  {
   "cell_type": "code",
   "execution_count": 16,
   "id": "21de6f64-1d64-41b6-a9e7-56bac59f32f9",
   "metadata": {},
   "outputs": [],
   "source": [
    "cols_to_drop = ['소지카드수_이용가능_신용', '유효카드수_신용', '이용가능카드수_신용', '이용카드수_신용', '입회경과개월수_신용', '수신거부여부_DM', '수신거부여부_메일', '최종탈회후경과월', '탈회횟수_발급1년이내', '직장시도명', '이용가능카드수_신용체크', '이용카드수_신용체크', '_2순위카드이용금액', '이용가능카드수_신용_가족', '이용카드수_신용_가족', '이용금액_R3M_신용_가족', '이용가능카드수_체크', '_2순위카드이용건수', '이용금액_R3M_신용', '_1순위카드이용금액', '_1순위카드이용건수', '최종유효년월_신용_이용', '최종카드발급일자', '최종카드발급경과월', '이용가능여부_해외겸용_본인', '이용여부_3M_해외겸용_본인', '보유여부_해외겸용_신용_본인', '이용가능여부_해외겸용_신용_본인', '이용여부_3M_해외겸용_신용_본인', '기본연회비_B0M', '청구금액_기본연회비_B0M', '청구금액_제휴연회비_B0M']\n",
    "ex1.drop(columns=cols_to_drop, inplace=True)"
   ]
  },
  {
   "cell_type": "code",
   "execution_count": null,
   "id": "68c62e4b-4ae2-4487-8f6c-84ff9bbdb268",
   "metadata": {},
   "outputs": [
    {
     "name": "stderr",
     "output_type": "stream",
     "text": [
      "C:\\Users\\AHN\\AppData\\Local\\anaconda3\\Lib\\site-packages\\statsmodels\\regression\\linear_model.py:1782: RuntimeWarning: divide by zero encountered in scalar divide\n",
      "  return 1 - self.ssr/self.centered_tss\n"
     ]
    }
   ],
   "source": [
    "from statsmodels.tools.tools import add_constant\n",
    "from statsmodels.stats.outliers_influence import variance_inflation_factor\n",
    "\n",
    "num_df = (\n",
    "    ex1\n",
    "    .select_dtypes(include=[np.number])\n",
    "    .drop(columns=['기준년월'], errors='ignore')\n",
    "    .dropna()\n",
    ")\n",
    "\n",
    "\n",
    "X = add_constant(num_df)\n",
    "\n",
    "vif_df = pd.DataFrame({\n",
    "    'feature': X.columns,\n",
    "    'VIF': [variance_inflation_factor(X.values, i)\n",
    "            for i in range(X.shape[1])]\n",
    "})\n",
    "\n",
    "vif_df = vif_df[vif_df['feature'] != 'const'].reset_index(drop=True)\n",
    "\n",
    "high_vif = vif_df[vif_df['VIF'] > 5]\n",
    "\n",
    "print(\"VIF > 5인 컬럼들:\", high_vif['feature'].tolist())\n",
    "print(high_vif)\n"
   ]
  },
  {
   "cell_type": "code",
   "execution_count": null,
   "id": "136e5ec7-7b0a-49ff-b4bd-4ee15987a255",
   "metadata": {},
   "outputs": [],
   "source": [
    "cols_to_drop = ['유효카드수_신용체크']\n",
    "ex1.drop(columns=cols_to_drop, inplace=True)\n",
    "\n",
    "num_df = (\n",
    "    ex1\n",
    "    .select_dtypes(include=[np.number])\n",
    "    .drop(columns=['기준년월'], errors='ignore')\n",
    "    .dropna()\n",
    ")\n",
    "\n",
    "\n",
    "X = add_constant(num_df)\n",
    "\n",
    "vif_df = pd.DataFrame({\n",
    "    'feature': X.columns,\n",
    "    'VIF': [variance_inflation_factor(X.values, i)\n",
    "            for i in range(X.shape[1])]\n",
    "})\n",
    "\n",
    "vif_df = vif_df[vif_df['feature'] != 'const'].reset_index(drop=True)\n",
    "\n",
    "high_vif = vif_df[vif_df['VIF'] > 5]\n",
    "\n",
    "print(\"VIF > 5인 컬럼들:\", high_vif['feature'].tolist())\n",
    "print(high_vif)"
   ]
  },
  {
   "cell_type": "code",
   "execution_count": null,
   "id": "63c33444-4d0a-49ea-8e9c-d3dcf94f9bcc",
   "metadata": {},
   "outputs": [],
   "source": [
    "ex1"
   ]
  },
  {
   "cell_type": "code",
   "execution_count": null,
   "id": "eac827e1-e740-4275-850c-e5be3e761078",
   "metadata": {},
   "outputs": [],
   "source": [
    "ex1.to_parquet('회원_전처리.parquet', index=False)"
   ]
  },
  {
   "cell_type": "code",
   "execution_count": null,
   "id": "dd981ad5-a759-47b9-8e83-079bbdf3a018",
   "metadata": {},
   "outputs": [],
   "source": []
  },
  {
   "cell_type": "code",
   "execution_count": null,
   "id": "79b954b8-4822-4ad7-b73f-3f88e62342bf",
   "metadata": {},
   "outputs": [],
   "source": []
  },
  {
   "cell_type": "code",
   "execution_count": null,
   "id": "be14311c-c85c-4b28-8c8d-3bf4519ad7d7",
   "metadata": {},
   "outputs": [],
   "source": []
  },
  {
   "cell_type": "code",
   "execution_count": null,
   "id": "ba2ac87a-a471-4678-b88e-7e371166ffe8",
   "metadata": {},
   "outputs": [],
   "source": []
  },
  {
   "cell_type": "code",
   "execution_count": null,
   "id": "8a79deef-1189-43bf-b8fe-e244bd42c6ca",
   "metadata": {},
   "outputs": [],
   "source": []
  },
  {
   "cell_type": "code",
   "execution_count": null,
   "id": "5fb16db7-27f8-4721-b3fd-cd5077e4f343",
   "metadata": {},
   "outputs": [],
   "source": []
  }
 ],
 "metadata": {
  "kernelspec": {
   "display_name": "Python 3 (ipykernel)",
   "language": "python",
   "name": "python3"
  },
  "language_info": {
   "codemirror_mode": {
    "name": "ipython",
    "version": 3
   },
   "file_extension": ".py",
   "mimetype": "text/x-python",
   "name": "python",
   "nbconvert_exporter": "python",
   "pygments_lexer": "ipython3",
   "version": "3.12.3"
  }
 },
 "nbformat": 4,
 "nbformat_minor": 5
}
