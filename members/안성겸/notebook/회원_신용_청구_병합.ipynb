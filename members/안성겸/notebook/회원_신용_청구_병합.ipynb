{
 "cells": [
  {
   "cell_type": "code",
   "execution_count": 51,
   "id": "fd91307a-a95a-4f69-9e53-135d4fda63d9",
   "metadata": {},
   "outputs": [],
   "source": [
    "import pandas as pd\n",
    "import os\n",
    "from glob import glob\n",
    "import numpy as np\n",
    "from pandas.api.types import CategoricalDtype"
   ]
  },
  {
   "cell_type": "code",
   "execution_count": 52,
   "id": "40043305-9bcb-4782-8cce-383a34fe952f",
   "metadata": {},
   "outputs": [
    {
     "name": "stdout",
     "output_type": "stream",
     "text": [
      "(2400000, 93)\n",
      "['기준년월', 'ID', '남녀구분코드', '연령', 'Segment', '회원여부_이용가능_CA', '회원여부_이용가능_카드론', '소지카드수_이용가능_신용', '입회일자_신용', '회원여부_연체', '이용거절여부_카드론', '동의여부_한도증액안내', '수신거부여부_TM', '수신거부여부_메일', '수신거부여부_SMS', '가입통신회사코드', '탈회횟수_누적', '최종탈회후경과월', '탈회횟수_발급6개월이내', '탈회횟수_발급1년이내', '거주시도명', '직장시도명', '마케팅동의여부', '이용가능카드수_신용체크', '이용카드수_신용체크', '이용카드수_신용_가족', '이용금액_R3M_체크', '_1순위카드이용금액', '_1순위카드이용건수', '_1순위신용체크구분', '_2순위카드이용건수', '최종유효년월_신용_이용', '최종카드발급일자', '보유여부_해외겸용_본인', '이용여부_3M_해외겸용_본인', '보유여부_해외겸용_신용_본인', '연회비발생카드수_B0M', '기본연회비_B0M', '제휴연회비_B0M', '카드신청건수', 'Life_Stage', '최초한도금액', 'CA한도금액', '일시상환론한도금액', '월상환론한도금액', 'CA이자율_할인전', 'CL이자율_할인전', 'RV일시불이자율_할인전', 'RV현금서비스이자율_할인전', 'RV약정청구율', 'RV최소결제비율', '자발한도감액횟수_R12M', '자발한도감액금액_R12M', '자발한도감액후경과월', '강제한도감액횟수_R12M', '강제한도감액금액_R12M', '강제한도감액후경과월', '한도증액금액_R12M', '한도증액후경과월', '상향가능CA한도금액', '카드론동의여부', '월상환론상향가능한도금액', '일시불ONLY전환가능여부', '카드이용한도금액_B2M', '연체감액여부_R3M', '대표결제일', '대표청구지고객주소구분코드', '청구서수령방법', '청구서발송여부_B0', '청구서발송여부_R3M', '청구서발송여부_R6M', '청구금액_B0', '청구금액_R6M', '포인트_포인트_건별_B0M', '포인트_마일리지_월적립_B0M', '포인트_포인트_월적립_B0M', '포인트_포인트_월적립_R3M', '포인트_적립포인트_R12M', '포인트_적립포인트_R3M', '포인트_이용포인트_R12M', '포인트_잔여포인트_B0M', '마일_적립포인트_R12M', '마일_잔여포인트_B0M', '할인건수_R3M', '할인건수_B0M', '할인금액_B0M', '할인금액_청구서_B0M', '상환개월수_결제일_R6M', '선결제건수_R6M', '선결제건수_R3M', '연체건수_R6M', '연체건수_R3M', '혜택수혜금액_R3M']\n"
     ]
    }
   ],
   "source": [
    "df_member  = pd.read_parquet('회원정보_전처리.parquet')       \n",
    "df_credit  = pd.read_parquet('신용정보_전처리.parquet')\n",
    "df_payment = pd.read_parquet('청구입금정보_전처리.parquet')\n",
    "\n",
    "df_merged = (\n",
    "    df_member\n",
    "    .merge(df_credit,  on=['기준년월','ID'], how='left')\n",
    "    .merge(df_payment, on=['기준년월','ID'], how='left'))\n",
    "\n",
    "print(df_merged.shape)\n",
    "print(df_merged.columns.tolist())\n",
    "\n",
    "df_merged.to_parquet('회원_신용_청구_병합.parquet', index=False)\n"
   ]
  },
  {
   "cell_type": "code",
   "execution_count": 53,
   "id": "b353817b-8667-4a56-abdb-fa81e1f2fb74",
   "metadata": {},
   "outputs": [],
   "source": [
    "ex1 = df_merged"
   ]
  },
  {
   "cell_type": "code",
   "execution_count": 54,
   "id": "79663ec7-06f7-42bb-a542-1bc91b799357",
   "metadata": {},
   "outputs": [
    {
     "name": "stdout",
     "output_type": "stream",
     "text": [
      "전체 컬럼 이름:\n",
      "['기준년월', 'ID', '남녀구분코드', '연령', 'Segment', '회원여부_이용가능_CA', '회원여부_이용가능_카드론', '소지카드수_이용가능_신용', '입회일자_신용', '회원여부_연체', '이용거절여부_카드론', '동의여부_한도증액안내', '수신거부여부_TM', '수신거부여부_메일', '수신거부여부_SMS', '가입통신회사코드', '탈회횟수_누적', '최종탈회후경과월', '탈회횟수_발급6개월이내', '탈회횟수_발급1년이내', '거주시도명', '직장시도명', '마케팅동의여부', '이용가능카드수_신용체크', '이용카드수_신용체크', '이용카드수_신용_가족', '이용금액_R3M_체크', '_1순위카드이용금액', '_1순위카드이용건수', '_1순위신용체크구분', '_2순위카드이용건수', '최종유효년월_신용_이용', '최종카드발급일자', '보유여부_해외겸용_본인', '이용여부_3M_해외겸용_본인', '보유여부_해외겸용_신용_본인', '연회비발생카드수_B0M', '기본연회비_B0M', '제휴연회비_B0M', '카드신청건수', 'Life_Stage', '최초한도금액', 'CA한도금액', '일시상환론한도금액', '월상환론한도금액', 'CA이자율_할인전', 'CL이자율_할인전', 'RV일시불이자율_할인전', 'RV현금서비스이자율_할인전', 'RV약정청구율', 'RV최소결제비율', '자발한도감액횟수_R12M', '자발한도감액금액_R12M', '자발한도감액후경과월', '강제한도감액횟수_R12M', '강제한도감액금액_R12M', '강제한도감액후경과월', '한도증액금액_R12M', '한도증액후경과월', '상향가능CA한도금액', '카드론동의여부', '월상환론상향가능한도금액', '일시불ONLY전환가능여부', '카드이용한도금액_B2M', '연체감액여부_R3M', '대표결제일', '대표청구지고객주소구분코드', '청구서수령방법', '청구서발송여부_B0', '청구서발송여부_R3M', '청구서발송여부_R6M', '청구금액_B0', '청구금액_R6M', '포인트_포인트_건별_B0M', '포인트_마일리지_월적립_B0M', '포인트_포인트_월적립_B0M', '포인트_포인트_월적립_R3M', '포인트_적립포인트_R12M', '포인트_적립포인트_R3M', '포인트_이용포인트_R12M', '포인트_잔여포인트_B0M', '마일_적립포인트_R12M', '마일_잔여포인트_B0M', '할인건수_R3M', '할인건수_B0M', '할인금액_B0M', '할인금액_청구서_B0M', '상환개월수_결제일_R6M', '선결제건수_R6M', '선결제건수_R3M', '연체건수_R6M', '연체건수_R3M', '혜택수혜금액_R3M']\n",
      "\n",
      "문자형 컬럼 이름:\n",
      "['ID', 'Segment']\n",
      "\n",
      "숫자형 컬럼 이름:\n",
      "['기준년월', '남녀구분코드', '연령', '회원여부_이용가능_CA', '회원여부_이용가능_카드론', '소지카드수_이용가능_신용', '입회일자_신용', '회원여부_연체', '이용거절여부_카드론', '동의여부_한도증액안내', '수신거부여부_TM', '수신거부여부_메일', '수신거부여부_SMS', '가입통신회사코드', '탈회횟수_누적', '최종탈회후경과월', '탈회횟수_발급6개월이내', '탈회횟수_발급1년이내', '거주시도명', '직장시도명', '마케팅동의여부', '이용가능카드수_신용체크', '이용카드수_신용체크', '이용카드수_신용_가족', '이용금액_R3M_체크', '_1순위카드이용금액', '_1순위카드이용건수', '_1순위신용체크구분', '_2순위카드이용건수', '최종유효년월_신용_이용', '최종카드발급일자', '보유여부_해외겸용_본인', '이용여부_3M_해외겸용_본인', '보유여부_해외겸용_신용_본인', '연회비발생카드수_B0M', '기본연회비_B0M', '제휴연회비_B0M', '카드신청건수', 'Life_Stage', '최초한도금액', 'CA한도금액', '일시상환론한도금액', '월상환론한도금액', 'CA이자율_할인전', 'CL이자율_할인전', 'RV일시불이자율_할인전', 'RV현금서비스이자율_할인전', 'RV약정청구율', 'RV최소결제비율', '자발한도감액횟수_R12M', '자발한도감액금액_R12M', '자발한도감액후경과월', '강제한도감액횟수_R12M', '강제한도감액금액_R12M', '강제한도감액후경과월', '한도증액금액_R12M', '한도증액후경과월', '상향가능CA한도금액', '카드론동의여부', '월상환론상향가능한도금액', '일시불ONLY전환가능여부', '카드이용한도금액_B2M', '연체감액여부_R3M', '대표결제일', '대표청구지고객주소구분코드', '청구서수령방법', '청구서발송여부_B0', '청구서발송여부_R3M', '청구서발송여부_R6M', '청구금액_B0', '청구금액_R6M', '포인트_포인트_건별_B0M', '포인트_마일리지_월적립_B0M', '포인트_포인트_월적립_B0M', '포인트_포인트_월적립_R3M', '포인트_적립포인트_R12M', '포인트_적립포인트_R3M', '포인트_이용포인트_R12M', '포인트_잔여포인트_B0M', '마일_적립포인트_R12M', '마일_잔여포인트_B0M', '할인건수_R3M', '할인건수_B0M', '할인금액_B0M', '할인금액_청구서_B0M', '상환개월수_결제일_R6M', '선결제건수_R6M', '선결제건수_R3M', '연체건수_R6M', '연체건수_R3M', '혜택수혜금액_R3M']\n"
     ]
    }
   ],
   "source": [
    "all_cols = ex1.columns.tolist()\n",
    "print(\"전체 컬럼 이름:\")\n",
    "print(all_cols)\n",
    "str_cols = ex1.select_dtypes(include=['object']).columns.tolist()\n",
    "print(\"\\n문자형 컬럼 이름:\")\n",
    "print(str_cols)\n",
    "num_cols = ex1.select_dtypes(include=[np.number]).columns.tolist()\n",
    "print(\"\\n숫자형 컬럼 이름:\")\n",
    "print(num_cols)"
   ]
  },
  {
   "cell_type": "code",
   "execution_count": 55,
   "id": "5afbfb0b-b91f-4049-a183-ac7e3a657ec5",
   "metadata": {},
   "outputs": [
    {
     "data": {
      "text/plain": [
       "[]"
      ]
     },
     "execution_count": 55,
     "metadata": {},
     "output_type": "execute_result"
    }
   ],
   "source": [
    "num_df = ex1.select_dtypes(include=[np.number]).dropna()\n",
    "low_var = num_df.var()[ num_df.var() < 0.001 ].index.tolist()\n",
    "low_var"
   ]
  },
  {
   "cell_type": "code",
   "execution_count": 56,
   "id": "2eba4a1d-e919-4822-a9dc-7337b0ace6ad",
   "metadata": {},
   "outputs": [
    {
     "name": "stdout",
     "output_type": "stream",
     "text": [
      "결측(또는 -1) 비율 > 30% 컬럼: []\n"
     ]
    }
   ],
   "source": [
    "missing_mask = ex1.isna() | (ex1 == -1)\n",
    "\n",
    "missing_ratio = missing_mask.mean()\n",
    "\n",
    "high_na = missing_ratio[missing_ratio > 0.3].index.tolist()\n",
    "\n",
    "print(\"결측(또는 -1) 비율 > 30% 컬럼:\", high_na)"
   ]
  },
  {
   "cell_type": "code",
   "execution_count": 22,
   "id": "8b737070-5121-401b-8792-64ec5e301a87",
   "metadata": {},
   "outputs": [
    {
     "name": "stderr",
     "output_type": "stream",
     "text": [
      "C:\\Users\\AHN\\AppData\\Local\\anaconda3\\Lib\\site-packages\\statsmodels\\regression\\linear_model.py:1782: RuntimeWarning: divide by zero encountered in scalar divide\n",
      "  return 1 - self.ssr/self.centered_tss\n",
      "C:\\Users\\AHN\\AppData\\Local\\anaconda3\\Lib\\site-packages\\statsmodels\\stats\\outliers_influence.py:197: RuntimeWarning: divide by zero encountered in scalar divide\n",
      "  vif = 1. / (1. - r_squared_i)\n"
     ]
    },
    {
     "name": "stdout",
     "output_type": "stream",
     "text": [
      "VIF > 10인 컬럼들: ['회원여부_이용가능_카드론', '이용거절여부_카드론', '카드론동의여부']\n",
      "          feature        VIF\n",
      "3   회원여부_이용가능_카드론  10.055791\n",
      "7      이용거절여부_카드론        inf\n",
      "57        카드론동의여부        inf\n"
     ]
    }
   ],
   "source": [
    "from statsmodels.tools.tools import add_constant\n",
    "from statsmodels.stats.outliers_influence import variance_inflation_factor\n",
    "\n",
    "num_df = (\n",
    "    ex1\n",
    "    .select_dtypes(include=[np.number])\n",
    "    .drop(columns=['기준년월'], errors='ignore')\n",
    "    .dropna()\n",
    ")\n",
    "\n",
    "\n",
    "X = add_constant(num_df)\n",
    "\n",
    "vif_df = pd.DataFrame({\n",
    "    'feature': X.columns,\n",
    "    'VIF': [variance_inflation_factor(X.values, i)\n",
    "            for i in range(X.shape[1])]\n",
    "})\n",
    "\n",
    "vif_df = vif_df[vif_df['feature'] != 'const'].reset_index(drop=True)\n",
    "\n",
    "high_vif = vif_df[vif_df['VIF'] > 10]\n",
    "\n",
    "print(\"VIF > 10인 컬럼들:\", high_vif['feature'].tolist())\n",
    "print(high_vif)\n"
   ]
  },
  {
   "cell_type": "code",
   "execution_count": 57,
   "id": "29f170c6-c130-4a47-9180-b7e353cd0bb2",
   "metadata": {},
   "outputs": [],
   "source": [
    "cols_to_drop = ['이용거절여부_카드론','카드론동의여부']\n",
    "ex1.drop(columns=cols_to_drop, inplace=True)\n"
   ]
  },
  {
   "cell_type": "code",
   "execution_count": 58,
   "id": "990cb8e7-4f1f-4ac9-b5ed-64c31c2c9d30",
   "metadata": {},
   "outputs": [],
   "source": [
    "num_df = ex1.select_dtypes(include=[np.number]).dropna()"
   ]
  },
  {
   "cell_type": "code",
   "execution_count": 59,
   "id": "b86e04b1-11fe-4388-ac64-ee91e5180931",
   "metadata": {},
   "outputs": [],
   "source": [
    "corr = num_df.corr().abs()\n",
    "high_corr = (\n",
    "  corr.where(np.triu(np.ones(corr.shape), k=1).astype(bool))\n",
    "      .stack()\n",
    "      .loc[lambda x: x > 0.9]\n",
    ")"
   ]
  },
  {
   "cell_type": "code",
   "execution_count": 60,
   "id": "f77b6b11-7139-4ffd-ae7a-700e6cb03e5c",
   "metadata": {
    "scrolled": true
   },
   "outputs": [
    {
     "data": {
      "text/plain": [
       "CA한도금액            카드이용한도금액_B2M      0.919630\n",
       "CA이자율_할인전         RV현금서비스이자율_할인전    0.902279\n",
       "자발한도감액횟수_R12M     자발한도감액금액_R12M     0.906917\n",
       "포인트_마일리지_월적립_B0M  마일_잔여포인트_B0M      0.913859\n",
       "선결제건수_R6M         선결제건수_R3M         0.935369\n",
       "연체건수_R6M          연체건수_R3M          0.929644\n",
       "dtype: float64"
      ]
     },
     "execution_count": 60,
     "metadata": {},
     "output_type": "execute_result"
    }
   ],
   "source": [
    "high_corr"
   ]
  },
  {
   "cell_type": "code",
   "execution_count": 61,
   "id": "4a5aa616-dce6-42e3-8c3b-261a0013dcbc",
   "metadata": {},
   "outputs": [],
   "source": [
    "cols_to_drop = ['CA한도금액','CA이자율_할인전','자발한도감액횟수_R12M','포인트_마일리지_월적립_B0M','선결제건수_R6M','연체건수_R6M']\n",
    "ex1.drop(columns=cols_to_drop, inplace=True)"
   ]
  },
  {
   "cell_type": "code",
   "execution_count": 62,
   "id": "826d79bc-8503-4b6f-9f15-4247adf784d4",
   "metadata": {},
   "outputs": [],
   "source": [
    "num_df = ex1.select_dtypes(include=[np.number]).dropna()"
   ]
  },
  {
   "cell_type": "code",
   "execution_count": 63,
   "id": "b6bec6fa-8a9c-4e82-bf15-9684355888ae",
   "metadata": {},
   "outputs": [],
   "source": [
    "corr = num_df.corr().abs()\n",
    "high_corr = (\n",
    "  corr.where(np.triu(np.ones(corr.shape), k=1).astype(bool))\n",
    "      .stack()\n",
    "      .loc[lambda x: x > 0.8]\n",
    ")"
   ]
  },
  {
   "cell_type": "code",
   "execution_count": 64,
   "id": "5d5f9001-d887-4997-90c2-3343bc3bd044",
   "metadata": {},
   "outputs": [
    {
     "data": {
      "text/plain": [
       "회원여부_이용가능_카드론    월상환론한도금액           0.831981\n",
       "수신거부여부_TM        수신거부여부_메일          0.804954\n",
       "거주시도명            직장시도명              0.846373\n",
       "이용가능카드수_신용체크     이용카드수_신용체크         0.801260\n",
       "최종유효년월_신용_이용     최종카드발급일자           0.878220\n",
       "보유여부_해외겸용_본인     이용여부_3M_해외겸용_본인    0.832151\n",
       "이용여부_3M_해외겸용_본인  보유여부_해외겸용_신용_본인    0.883300\n",
       "RV일시불이자율_할인전     RV현금서비스이자율_할인전     0.887543\n",
       "강제한도감액횟수_R12M    강제한도감액금액_R12M      0.889812\n",
       "청구금액_B0          청구금액_R6M           0.888810\n",
       "포인트_포인트_건별_B0M   포인트_적립포인트_R12M     0.874437\n",
       "포인트_적립포인트_R3M    포인트_이용포인트_R12M     0.824769\n",
       "할인금액_B0M         할인금액_청구서_B0M       0.836687\n",
       "dtype: float64"
      ]
     },
     "execution_count": 64,
     "metadata": {},
     "output_type": "execute_result"
    }
   ],
   "source": [
    "high_corr"
   ]
  },
  {
   "cell_type": "code",
   "execution_count": 65,
   "id": "1702d998-1a04-4cd5-be17-373482a0a4a8",
   "metadata": {},
   "outputs": [],
   "source": [
    "cols_to_drop = ['회원여부_이용가능_카드론','수신거부여부_TM','직장시도명','최종유효년월_신용_이용','보유여부_해외겸용_본인','보유여부_해외겸용_신용_본인',\n",
    "               'RV일시불이자율_할인전','강제한도감액횟수_R12M','청구금액_R6M','포인트_적립포인트_R12M','포인트_이용포인트_R12M','할인금액_청구서_B0M']\n",
    "ex1.drop(columns=cols_to_drop, inplace=True)"
   ]
  },
  {
   "cell_type": "code",
   "execution_count": 66,
   "id": "1e4fa94c-525d-43ab-b8d2-cdfee98297f0",
   "metadata": {},
   "outputs": [],
   "source": [
    "num_df = ex1.select_dtypes(include=[np.number]).dropna()"
   ]
  },
  {
   "cell_type": "code",
   "execution_count": 67,
   "id": "c53a4eb6-15fb-48b2-828b-0557d8d402b0",
   "metadata": {},
   "outputs": [
    {
     "data": {
      "text/plain": [
       "청구서발송여부_B0  청구서발송여부_R3M    0.844067\n",
       "dtype: float64"
      ]
     },
     "execution_count": 67,
     "metadata": {},
     "output_type": "execute_result"
    }
   ],
   "source": [
    "corr = num_df.corr().abs()\n",
    "high_corr = (\n",
    "  corr.where(np.triu(np.ones(corr.shape), k=1).astype(bool))\n",
    "      .stack()\n",
    "      .loc[lambda x: x > 0.8]\n",
    ")\n",
    "high_corr"
   ]
  },
  {
   "cell_type": "code",
   "execution_count": 68,
   "id": "277068a7-c386-46bc-a28a-d8eaf6fab141",
   "metadata": {},
   "outputs": [],
   "source": [
    "cols_to_drop = ['청구서발송여부_R3M']\n",
    "ex1.drop(columns=cols_to_drop, inplace=True)\n",
    "num_df = ex1.select_dtypes(include=[np.number]).dropna()"
   ]
  },
  {
   "cell_type": "code",
   "execution_count": 69,
   "id": "36e21e8d-ec95-4b84-b20f-194428f8d984",
   "metadata": {},
   "outputs": [
    {
     "data": {
      "text/plain": [
       "탈회횟수_누적          최종탈회후경과월           0.727153\n",
       "탈회횟수_발급6개월이내     탈회횟수_발급1년이내        0.788505\n",
       "이용가능카드수_신용체크     이용카드수_신용체크         0.747823\n",
       "_1순위카드이용금액       _1순위카드이용건수         0.748154\n",
       "                 청구금액_B0            0.775376\n",
       "연회비발생카드수_B0M     기본연회비_B0M          0.750968\n",
       "CL이자율_할인전        RV현금서비스이자율_할인전     0.753065\n",
       "RV현금서비스이자율_할인전   RV최소결제비율           0.746637\n",
       "한도증액금액_R12M      한도증액후경과월           0.762566\n",
       "청구서발송여부_B0       상환개월수_결제일_R6M      0.706292\n",
       "포인트_포인트_건별_B0M   포인트_적립포인트_R3M      0.751925\n",
       "포인트_포인트_월적립_B0M  포인트_포인트_월적립_R3M    0.761493\n",
       "할인금액_B0M         혜택수혜금액_R3M         0.720768\n",
       "dtype: float64"
      ]
     },
     "execution_count": 69,
     "metadata": {},
     "output_type": "execute_result"
    }
   ],
   "source": [
    "corr = num_df.corr().abs()\n",
    "high_corr = (\n",
    "  corr.where(np.triu(np.ones(corr.shape), k=1).astype(bool))\n",
    "      .stack()\n",
    "      .loc[lambda x: x > 0.7]\n",
    ")\n",
    "high_corr"
   ]
  },
  {
   "cell_type": "code",
   "execution_count": 70,
   "id": "27428adc-abb4-4682-8aa3-2db5411934d9",
   "metadata": {},
   "outputs": [],
   "source": [
    "cols_to_drop = ['탈회횟수_누적','탈회횟수_발급1년이내','연회비발생카드수_B0M','이용카드수_신용체크','_1순위카드이용금액','RV현금서비스이자율_할인전',\n",
    "                '한도증액금액_R12M','상환개월수_결제일_R6M','포인트_적립포인트_R3M','포인트_포인트_월적립_R3M','혜택수혜금액_R3M']\n",
    "ex1.drop(columns=cols_to_drop, inplace=True)\n",
    "num_df = ex1.select_dtypes(include=[np.number]).dropna()"
   ]
  },
  {
   "cell_type": "code",
   "execution_count": 71,
   "id": "63dc7652-170c-46b9-a05b-4076b5f57d66",
   "metadata": {},
   "outputs": [
    {
     "data": {
      "text/plain": [
       "Series([], dtype: float64)"
      ]
     },
     "execution_count": 71,
     "metadata": {},
     "output_type": "execute_result"
    }
   ],
   "source": [
    "corr = num_df.corr().abs()\n",
    "high_corr = (\n",
    "  corr.where(np.triu(np.ones(corr.shape), k=1).astype(bool))\n",
    "      .stack()\n",
    "      .loc[lambda x: x > 0.7]\n",
    ")\n",
    "high_corr"
   ]
  },
  {
   "cell_type": "code",
   "execution_count": 72,
   "id": "3915b77e-83cc-4bc3-8965-2e9a221b2d7f",
   "metadata": {},
   "outputs": [
    {
     "data": {
      "text/html": [
       "<div>\n",
       "<style scoped>\n",
       "    .dataframe tbody tr th:only-of-type {\n",
       "        vertical-align: middle;\n",
       "    }\n",
       "\n",
       "    .dataframe tbody tr th {\n",
       "        vertical-align: top;\n",
       "    }\n",
       "\n",
       "    .dataframe thead th {\n",
       "        text-align: right;\n",
       "    }\n",
       "</style>\n",
       "<table border=\"1\" class=\"dataframe\">\n",
       "  <thead>\n",
       "    <tr style=\"text-align: right;\">\n",
       "      <th></th>\n",
       "      <th>기준년월</th>\n",
       "      <th>ID</th>\n",
       "      <th>남녀구분코드</th>\n",
       "      <th>연령</th>\n",
       "      <th>Segment</th>\n",
       "      <th>회원여부_이용가능_CA</th>\n",
       "      <th>소지카드수_이용가능_신용</th>\n",
       "      <th>입회일자_신용</th>\n",
       "      <th>회원여부_연체</th>\n",
       "      <th>동의여부_한도증액안내</th>\n",
       "      <th>...</th>\n",
       "      <th>포인트_포인트_건별_B0M</th>\n",
       "      <th>포인트_포인트_월적립_B0M</th>\n",
       "      <th>포인트_잔여포인트_B0M</th>\n",
       "      <th>마일_적립포인트_R12M</th>\n",
       "      <th>마일_잔여포인트_B0M</th>\n",
       "      <th>할인건수_R3M</th>\n",
       "      <th>할인건수_B0M</th>\n",
       "      <th>할인금액_B0M</th>\n",
       "      <th>선결제건수_R3M</th>\n",
       "      <th>연체건수_R3M</th>\n",
       "    </tr>\n",
       "  </thead>\n",
       "  <tbody>\n",
       "    <tr>\n",
       "      <th>0</th>\n",
       "      <td>201807</td>\n",
       "      <td>TRAIN_000000</td>\n",
       "      <td>2</td>\n",
       "      <td>40</td>\n",
       "      <td>D</td>\n",
       "      <td>1</td>\n",
       "      <td>1</td>\n",
       "      <td>20130101</td>\n",
       "      <td>0</td>\n",
       "      <td>1</td>\n",
       "      <td>...</td>\n",
       "      <td>1444</td>\n",
       "      <td>0</td>\n",
       "      <td>0</td>\n",
       "      <td>0</td>\n",
       "      <td>0</td>\n",
       "      <td>1</td>\n",
       "      <td>1</td>\n",
       "      <td>0</td>\n",
       "      <td>0</td>\n",
       "      <td>0</td>\n",
       "    </tr>\n",
       "    <tr>\n",
       "      <th>1</th>\n",
       "      <td>201807</td>\n",
       "      <td>TRAIN_000001</td>\n",
       "      <td>1</td>\n",
       "      <td>30</td>\n",
       "      <td>E</td>\n",
       "      <td>1</td>\n",
       "      <td>1</td>\n",
       "      <td>20170801</td>\n",
       "      <td>0</td>\n",
       "      <td>0</td>\n",
       "      <td>...</td>\n",
       "      <td>0</td>\n",
       "      <td>0</td>\n",
       "      <td>0</td>\n",
       "      <td>0</td>\n",
       "      <td>0</td>\n",
       "      <td>1</td>\n",
       "      <td>1</td>\n",
       "      <td>0</td>\n",
       "      <td>0</td>\n",
       "      <td>0</td>\n",
       "    </tr>\n",
       "    <tr>\n",
       "      <th>2</th>\n",
       "      <td>201807</td>\n",
       "      <td>TRAIN_000002</td>\n",
       "      <td>1</td>\n",
       "      <td>30</td>\n",
       "      <td>C</td>\n",
       "      <td>1</td>\n",
       "      <td>1</td>\n",
       "      <td>20080401</td>\n",
       "      <td>0</td>\n",
       "      <td>1</td>\n",
       "      <td>...</td>\n",
       "      <td>2305</td>\n",
       "      <td>0</td>\n",
       "      <td>0</td>\n",
       "      <td>0</td>\n",
       "      <td>0</td>\n",
       "      <td>1</td>\n",
       "      <td>1</td>\n",
       "      <td>0</td>\n",
       "      <td>0</td>\n",
       "      <td>0</td>\n",
       "    </tr>\n",
       "    <tr>\n",
       "      <th>3</th>\n",
       "      <td>201807</td>\n",
       "      <td>TRAIN_000003</td>\n",
       "      <td>2</td>\n",
       "      <td>40</td>\n",
       "      <td>D</td>\n",
       "      <td>1</td>\n",
       "      <td>2</td>\n",
       "      <td>20160501</td>\n",
       "      <td>0</td>\n",
       "      <td>1</td>\n",
       "      <td>...</td>\n",
       "      <td>1452</td>\n",
       "      <td>0</td>\n",
       "      <td>0</td>\n",
       "      <td>0</td>\n",
       "      <td>0</td>\n",
       "      <td>1</td>\n",
       "      <td>1</td>\n",
       "      <td>0</td>\n",
       "      <td>0</td>\n",
       "      <td>0</td>\n",
       "    </tr>\n",
       "    <tr>\n",
       "      <th>4</th>\n",
       "      <td>201807</td>\n",
       "      <td>TRAIN_000004</td>\n",
       "      <td>2</td>\n",
       "      <td>40</td>\n",
       "      <td>E</td>\n",
       "      <td>1</td>\n",
       "      <td>1</td>\n",
       "      <td>20180601</td>\n",
       "      <td>0</td>\n",
       "      <td>0</td>\n",
       "      <td>...</td>\n",
       "      <td>0</td>\n",
       "      <td>0</td>\n",
       "      <td>0</td>\n",
       "      <td>0</td>\n",
       "      <td>0</td>\n",
       "      <td>1</td>\n",
       "      <td>1</td>\n",
       "      <td>0</td>\n",
       "      <td>0</td>\n",
       "      <td>0</td>\n",
       "    </tr>\n",
       "    <tr>\n",
       "      <th>...</th>\n",
       "      <td>...</td>\n",
       "      <td>...</td>\n",
       "      <td>...</td>\n",
       "      <td>...</td>\n",
       "      <td>...</td>\n",
       "      <td>...</td>\n",
       "      <td>...</td>\n",
       "      <td>...</td>\n",
       "      <td>...</td>\n",
       "      <td>...</td>\n",
       "      <td>...</td>\n",
       "      <td>...</td>\n",
       "      <td>...</td>\n",
       "      <td>...</td>\n",
       "      <td>...</td>\n",
       "      <td>...</td>\n",
       "      <td>...</td>\n",
       "      <td>...</td>\n",
       "      <td>...</td>\n",
       "      <td>...</td>\n",
       "      <td>...</td>\n",
       "    </tr>\n",
       "    <tr>\n",
       "      <th>2399995</th>\n",
       "      <td>201812</td>\n",
       "      <td>TRAIN_399995</td>\n",
       "      <td>2</td>\n",
       "      <td>-1</td>\n",
       "      <td>E</td>\n",
       "      <td>1</td>\n",
       "      <td>1</td>\n",
       "      <td>20010701</td>\n",
       "      <td>0</td>\n",
       "      <td>0</td>\n",
       "      <td>...</td>\n",
       "      <td>0</td>\n",
       "      <td>0</td>\n",
       "      <td>0</td>\n",
       "      <td>0</td>\n",
       "      <td>0</td>\n",
       "      <td>1</td>\n",
       "      <td>1</td>\n",
       "      <td>0</td>\n",
       "      <td>0</td>\n",
       "      <td>0</td>\n",
       "    </tr>\n",
       "    <tr>\n",
       "      <th>2399996</th>\n",
       "      <td>201812</td>\n",
       "      <td>TRAIN_399996</td>\n",
       "      <td>2</td>\n",
       "      <td>50</td>\n",
       "      <td>D</td>\n",
       "      <td>1</td>\n",
       "      <td>1</td>\n",
       "      <td>20170701</td>\n",
       "      <td>0</td>\n",
       "      <td>0</td>\n",
       "      <td>...</td>\n",
       "      <td>3339</td>\n",
       "      <td>0</td>\n",
       "      <td>0</td>\n",
       "      <td>0</td>\n",
       "      <td>0</td>\n",
       "      <td>1</td>\n",
       "      <td>1</td>\n",
       "      <td>0</td>\n",
       "      <td>0</td>\n",
       "      <td>0</td>\n",
       "    </tr>\n",
       "    <tr>\n",
       "      <th>2399997</th>\n",
       "      <td>201812</td>\n",
       "      <td>TRAIN_399997</td>\n",
       "      <td>1</td>\n",
       "      <td>30</td>\n",
       "      <td>C</td>\n",
       "      <td>1</td>\n",
       "      <td>1</td>\n",
       "      <td>20090501</td>\n",
       "      <td>0</td>\n",
       "      <td>0</td>\n",
       "      <td>...</td>\n",
       "      <td>0</td>\n",
       "      <td>0</td>\n",
       "      <td>0</td>\n",
       "      <td>0</td>\n",
       "      <td>0</td>\n",
       "      <td>1</td>\n",
       "      <td>1</td>\n",
       "      <td>0</td>\n",
       "      <td>0</td>\n",
       "      <td>0</td>\n",
       "    </tr>\n",
       "    <tr>\n",
       "      <th>2399998</th>\n",
       "      <td>201812</td>\n",
       "      <td>TRAIN_399998</td>\n",
       "      <td>1</td>\n",
       "      <td>40</td>\n",
       "      <td>E</td>\n",
       "      <td>1</td>\n",
       "      <td>1</td>\n",
       "      <td>20130101</td>\n",
       "      <td>0</td>\n",
       "      <td>0</td>\n",
       "      <td>...</td>\n",
       "      <td>0</td>\n",
       "      <td>0</td>\n",
       "      <td>0</td>\n",
       "      <td>0</td>\n",
       "      <td>0</td>\n",
       "      <td>1</td>\n",
       "      <td>1</td>\n",
       "      <td>0</td>\n",
       "      <td>0</td>\n",
       "      <td>0</td>\n",
       "    </tr>\n",
       "    <tr>\n",
       "      <th>2399999</th>\n",
       "      <td>201812</td>\n",
       "      <td>TRAIN_399999</td>\n",
       "      <td>2</td>\n",
       "      <td>40</td>\n",
       "      <td>E</td>\n",
       "      <td>1</td>\n",
       "      <td>1</td>\n",
       "      <td>20180501</td>\n",
       "      <td>0</td>\n",
       "      <td>0</td>\n",
       "      <td>...</td>\n",
       "      <td>0</td>\n",
       "      <td>0</td>\n",
       "      <td>0</td>\n",
       "      <td>0</td>\n",
       "      <td>0</td>\n",
       "      <td>1</td>\n",
       "      <td>1</td>\n",
       "      <td>0</td>\n",
       "      <td>0</td>\n",
       "      <td>0</td>\n",
       "    </tr>\n",
       "  </tbody>\n",
       "</table>\n",
       "<p>2400000 rows × 61 columns</p>\n",
       "</div>"
      ],
      "text/plain": [
       "           기준년월            ID  남녀구분코드  연령 Segment  회원여부_이용가능_CA  \\\n",
       "0        201807  TRAIN_000000       2  40       D             1   \n",
       "1        201807  TRAIN_000001       1  30       E             1   \n",
       "2        201807  TRAIN_000002       1  30       C             1   \n",
       "3        201807  TRAIN_000003       2  40       D             1   \n",
       "4        201807  TRAIN_000004       2  40       E             1   \n",
       "...         ...           ...     ...  ..     ...           ...   \n",
       "2399995  201812  TRAIN_399995       2  -1       E             1   \n",
       "2399996  201812  TRAIN_399996       2  50       D             1   \n",
       "2399997  201812  TRAIN_399997       1  30       C             1   \n",
       "2399998  201812  TRAIN_399998       1  40       E             1   \n",
       "2399999  201812  TRAIN_399999       2  40       E             1   \n",
       "\n",
       "         소지카드수_이용가능_신용   입회일자_신용  회원여부_연체  동의여부_한도증액안내  ...  포인트_포인트_건별_B0M  \\\n",
       "0                    1  20130101        0            1  ...            1444   \n",
       "1                    1  20170801        0            0  ...               0   \n",
       "2                    1  20080401        0            1  ...            2305   \n",
       "3                    2  20160501        0            1  ...            1452   \n",
       "4                    1  20180601        0            0  ...               0   \n",
       "...                ...       ...      ...          ...  ...             ...   \n",
       "2399995              1  20010701        0            0  ...               0   \n",
       "2399996              1  20170701        0            0  ...            3339   \n",
       "2399997              1  20090501        0            0  ...               0   \n",
       "2399998              1  20130101        0            0  ...               0   \n",
       "2399999              1  20180501        0            0  ...               0   \n",
       "\n",
       "         포인트_포인트_월적립_B0M  포인트_잔여포인트_B0M  마일_적립포인트_R12M  마일_잔여포인트_B0M  \\\n",
       "0                      0              0              0             0   \n",
       "1                      0              0              0             0   \n",
       "2                      0              0              0             0   \n",
       "3                      0              0              0             0   \n",
       "4                      0              0              0             0   \n",
       "...                  ...            ...            ...           ...   \n",
       "2399995                0              0              0             0   \n",
       "2399996                0              0              0             0   \n",
       "2399997                0              0              0             0   \n",
       "2399998                0              0              0             0   \n",
       "2399999                0              0              0             0   \n",
       "\n",
       "         할인건수_R3M  할인건수_B0M  할인금액_B0M  선결제건수_R3M  연체건수_R3M  \n",
       "0               1         1         0          0         0  \n",
       "1               1         1         0          0         0  \n",
       "2               1         1         0          0         0  \n",
       "3               1         1         0          0         0  \n",
       "4               1         1         0          0         0  \n",
       "...           ...       ...       ...        ...       ...  \n",
       "2399995         1         1         0          0         0  \n",
       "2399996         1         1         0          0         0  \n",
       "2399997         1         1         0          0         0  \n",
       "2399998         1         1         0          0         0  \n",
       "2399999         1         1         0          0         0  \n",
       "\n",
       "[2400000 rows x 61 columns]"
      ]
     },
     "execution_count": 72,
     "metadata": {},
     "output_type": "execute_result"
    }
   ],
   "source": [
    "ex1"
   ]
  },
  {
   "cell_type": "code",
   "execution_count": 73,
   "id": "011960cb-7183-4114-8240-5f6128990816",
   "metadata": {},
   "outputs": [],
   "source": [
    "ex1.to_parquet('회원_신용_청구.parquet', index=False)"
   ]
  },
  {
   "cell_type": "code",
   "execution_count": null,
   "id": "50cf5854-eb2d-49be-9307-3b723768825c",
   "metadata": {},
   "outputs": [],
   "source": []
  }
 ],
 "metadata": {
  "kernelspec": {
   "display_name": "Python 3 (ipykernel)",
   "language": "python",
   "name": "python3"
  },
  "language_info": {
   "codemirror_mode": {
    "name": "ipython",
    "version": 3
   },
   "file_extension": ".py",
   "mimetype": "text/x-python",
   "name": "python",
   "nbconvert_exporter": "python",
   "pygments_lexer": "ipython3",
   "version": "3.12.7"
  }
 },
 "nbformat": 4,
 "nbformat_minor": 5
}
