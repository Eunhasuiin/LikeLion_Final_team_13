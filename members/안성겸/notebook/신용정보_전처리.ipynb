{
 "cells": [
  {
   "cell_type": "code",
   "execution_count": 15,
   "id": "4df07a22-852a-4411-8b6c-a9c60444d2ec",
   "metadata": {},
   "outputs": [],
   "source": [
    "import pandas as pd\n",
    "import os\n",
    "from glob import glob\n",
    "import numpy as np\n",
    "from pandas.api.types import CategoricalDtype"
   ]
  },
  {
   "cell_type": "code",
   "execution_count": 16,
   "id": "7b9e8a59-5be1-46ae-b885-995cfd25d147",
   "metadata": {},
   "outputs": [],
   "source": [
    "ex1 = pd.read_parquet('train/2.신용정보/2018_신용정보_전체.parquet')"
   ]
  },
  {
   "cell_type": "code",
   "execution_count": 17,
   "id": "650b47fc-cba4-4403-88d7-a783ecfc92ff",
   "metadata": {},
   "outputs": [
    {
     "name": "stdout",
     "output_type": "stream",
     "text": [
      "전체 컬럼 이름:\n",
      "['기준년월', 'ID', '최초한도금액', '카드이용한도금액', 'CA한도금액', '일시상환론한도금액', '월상환론한도금액', 'CA이자율_할인전', 'CL이자율_할인전', 'RV일시불이자율_할인전', 'RV현금서비스이자율_할인전', 'RV신청일자', 'RV약정청구율', 'RV최소결제비율', '자발한도감액횟수_R12M', '자발한도감액금액_R12M', '자발한도감액후경과월', '강제한도감액횟수_R12M', '강제한도감액금액_R12M', '강제한도감액후경과월', '한도증액횟수_R12M', '한도증액금액_R12M', '한도증액후경과월', '상향가능한도금액', '상향가능CA한도금액', '카드론동의여부', '월상환론상향가능한도금액', 'RV전환가능여부', '일시불ONLY전환가능여부', '카드이용한도금액_B1M', '카드이용한도금액_B2M', '특별한도보유여부_R3M', '연체감액여부_R3M', '한도심사요청건수', '한도요청거절건수', '한도심사요청후경과월', '한도심사거절후경과월', '시장단기연체여부_R6M', '시장단기연체여부_R3M', '시장연체상환여부_R6M', '시장연체상환여부_R3M', 'rv최초시작후경과일']\n",
      "\n",
      "문자형 컬럼 이름:\n",
      "['ID', '자발한도감액횟수_R12M', '한도증액횟수_R12M', '카드론동의여부', 'RV전환가능여부', '한도심사요청건수']\n",
      "\n",
      "숫자형 컬럼 이름:\n",
      "['기준년월', '최초한도금액', '카드이용한도금액', 'CA한도금액', '일시상환론한도금액', '월상환론한도금액', 'CA이자율_할인전', 'CL이자율_할인전', 'RV일시불이자율_할인전', 'RV현금서비스이자율_할인전', 'RV신청일자', 'RV약정청구율', 'RV최소결제비율', '자발한도감액금액_R12M', '자발한도감액후경과월', '강제한도감액횟수_R12M', '강제한도감액금액_R12M', '강제한도감액후경과월', '한도증액금액_R12M', '한도증액후경과월', '상향가능한도금액', '상향가능CA한도금액', '월상환론상향가능한도금액', '일시불ONLY전환가능여부', '카드이용한도금액_B1M', '카드이용한도금액_B2M', '특별한도보유여부_R3M', '연체감액여부_R3M', '한도요청거절건수', '한도심사요청후경과월', '한도심사거절후경과월', '시장단기연체여부_R6M', '시장단기연체여부_R3M', '시장연체상환여부_R6M', '시장연체상환여부_R3M', 'rv최초시작후경과일']\n"
     ]
    }
   ],
   "source": [
    "all_cols = ex1.columns.tolist()\n",
    "print(\"전체 컬럼 이름:\")\n",
    "print(all_cols)\n",
    "str_cols = ex1.select_dtypes(include=['object']).columns.tolist()\n",
    "print(\"\\n문자형 컬럼 이름:\")\n",
    "print(str_cols)\n",
    "num_cols = ex1.select_dtypes(include=[np.number]).columns.tolist()\n",
    "print(\"\\n숫자형 컬럼 이름:\")\n",
    "print(num_cols)"
   ]
  },
  {
   "cell_type": "code",
   "execution_count": 18,
   "id": "81cee1b0-64e3-46a5-ae83-90f3709013d6",
   "metadata": {},
   "outputs": [
    {
     "name": "stdout",
     "output_type": "stream",
     "text": [
      "  자발한도감액횟수_R12M 한도증액횟수_R12M 카드론동의여부 RV전환가능여부 한도심사요청건수\n",
      "0            0회          0회       Y        N       0회\n",
      "1            0회          0회       Y        Z       0회\n",
      "2            0회          0회       Y        N       0회\n",
      "3            0회          0회       Y        N       0회\n",
      "4            0회          0회       Y        Z       0회\n"
     ]
    }
   ],
   "source": [
    "cols = ['자발한도감액횟수_R12M', '한도증액횟수_R12M', '카드론동의여부', 'RV전환가능여부', '한도심사요청건수']\n",
    "print(ex1[cols].head())"
   ]
  },
  {
   "cell_type": "code",
   "execution_count": 19,
   "id": "cebe2222-ea3c-43bf-b0f8-60fa265095d4",
   "metadata": {},
   "outputs": [],
   "source": [
    "count_cols2 = [\n",
    "    '자발한도감액횟수_R12M',\n",
    "    '한도증액횟수_R12M',\n",
    "    '한도심사요청건수'\n",
    "]\n",
    "\n",
    "for col in count_cols2:\n",
    "    # 1) 문자열로 바꾼 뒤 “회” 제거\n",
    "    ex1[col] = ex1[col].astype(str).str.replace('회', '', regex=False)\n",
    "    \n",
    "    # 2) 숫자로 변환, 변환 불가(예: 'nan', 'None')는 NaN → fillna(-1) → 정수형\n",
    "    ex1[col] = (\n",
    "        pd.to_numeric(ex1[col], errors='coerce')\n",
    "          .fillna(-1)\n",
    "          .astype(int)\n",
    "    )"
   ]
  },
  {
   "cell_type": "code",
   "execution_count": 20,
   "id": "36e2a29e-b1eb-460b-968a-bd197db002d2",
   "metadata": {},
   "outputs": [],
   "source": [
    "le_cols = ['카드론동의여부', 'RV전환가능여부']\n",
    "\n",
    "for col in le_cols:\n",
    "    codes, uniques = pd.factorize(ex1[col], sort=True)\n",
    "    ex1[col] = codes\n"
   ]
  },
  {
   "cell_type": "code",
   "execution_count": 21,
   "id": "823b31e2-4346-4df2-825e-93592cbb541d",
   "metadata": {},
   "outputs": [
    {
     "data": {
      "text/html": [
       "<div>\n",
       "<style scoped>\n",
       "    .dataframe tbody tr th:only-of-type {\n",
       "        vertical-align: middle;\n",
       "    }\n",
       "\n",
       "    .dataframe tbody tr th {\n",
       "        vertical-align: top;\n",
       "    }\n",
       "\n",
       "    .dataframe thead th {\n",
       "        text-align: right;\n",
       "    }\n",
       "</style>\n",
       "<table border=\"1\" class=\"dataframe\">\n",
       "  <thead>\n",
       "    <tr style=\"text-align: right;\">\n",
       "      <th></th>\n",
       "      <th>기준년월</th>\n",
       "      <th>ID</th>\n",
       "      <th>최초한도금액</th>\n",
       "      <th>카드이용한도금액</th>\n",
       "      <th>CA한도금액</th>\n",
       "      <th>일시상환론한도금액</th>\n",
       "      <th>월상환론한도금액</th>\n",
       "      <th>CA이자율_할인전</th>\n",
       "      <th>CL이자율_할인전</th>\n",
       "      <th>RV일시불이자율_할인전</th>\n",
       "      <th>...</th>\n",
       "      <th>연체감액여부_R3M</th>\n",
       "      <th>한도심사요청건수</th>\n",
       "      <th>한도요청거절건수</th>\n",
       "      <th>한도심사요청후경과월</th>\n",
       "      <th>한도심사거절후경과월</th>\n",
       "      <th>시장단기연체여부_R6M</th>\n",
       "      <th>시장단기연체여부_R3M</th>\n",
       "      <th>시장연체상환여부_R6M</th>\n",
       "      <th>시장연체상환여부_R3M</th>\n",
       "      <th>rv최초시작후경과일</th>\n",
       "    </tr>\n",
       "  </thead>\n",
       "  <tbody>\n",
       "    <tr>\n",
       "      <th>0</th>\n",
       "      <td>201807</td>\n",
       "      <td>TRAIN_000000</td>\n",
       "      <td>0</td>\n",
       "      <td>19354</td>\n",
       "      <td>7270</td>\n",
       "      <td>0</td>\n",
       "      <td>0</td>\n",
       "      <td>22.995207</td>\n",
       "      <td>18.254978</td>\n",
       "      <td>17.264967</td>\n",
       "      <td>...</td>\n",
       "      <td>0</td>\n",
       "      <td>0</td>\n",
       "      <td>0</td>\n",
       "      <td>3</td>\n",
       "      <td>3</td>\n",
       "      <td>0</td>\n",
       "      <td>0</td>\n",
       "      <td>0</td>\n",
       "      <td>0</td>\n",
       "      <td>99999999</td>\n",
       "    </tr>\n",
       "    <tr>\n",
       "      <th>1</th>\n",
       "      <td>201807</td>\n",
       "      <td>TRAIN_000001</td>\n",
       "      <td>0</td>\n",
       "      <td>9996</td>\n",
       "      <td>5718</td>\n",
       "      <td>41996</td>\n",
       "      <td>90611</td>\n",
       "      <td>14.793821</td>\n",
       "      <td>14.834873</td>\n",
       "      <td>10.622446</td>\n",
       "      <td>...</td>\n",
       "      <td>0</td>\n",
       "      <td>0</td>\n",
       "      <td>0</td>\n",
       "      <td>3</td>\n",
       "      <td>3</td>\n",
       "      <td>0</td>\n",
       "      <td>0</td>\n",
       "      <td>0</td>\n",
       "      <td>0</td>\n",
       "      <td>322</td>\n",
       "    </tr>\n",
       "    <tr>\n",
       "      <th>2</th>\n",
       "      <td>201807</td>\n",
       "      <td>TRAIN_000002</td>\n",
       "      <td>0</td>\n",
       "      <td>88193</td>\n",
       "      <td>35207</td>\n",
       "      <td>0</td>\n",
       "      <td>0</td>\n",
       "      <td>22.014276</td>\n",
       "      <td>17.875321</td>\n",
       "      <td>17.155829</td>\n",
       "      <td>...</td>\n",
       "      <td>0</td>\n",
       "      <td>0</td>\n",
       "      <td>0</td>\n",
       "      <td>3</td>\n",
       "      <td>3</td>\n",
       "      <td>0</td>\n",
       "      <td>0</td>\n",
       "      <td>0</td>\n",
       "      <td>0</td>\n",
       "      <td>2378</td>\n",
       "    </tr>\n",
       "    <tr>\n",
       "      <th>3</th>\n",
       "      <td>201807</td>\n",
       "      <td>TRAIN_000003</td>\n",
       "      <td>0</td>\n",
       "      <td>19062</td>\n",
       "      <td>6531</td>\n",
       "      <td>0</td>\n",
       "      <td>0</td>\n",
       "      <td>22.998014</td>\n",
       "      <td>22.999453</td>\n",
       "      <td>19.293674</td>\n",
       "      <td>...</td>\n",
       "      <td>0</td>\n",
       "      <td>0</td>\n",
       "      <td>0</td>\n",
       "      <td>3</td>\n",
       "      <td>3</td>\n",
       "      <td>0</td>\n",
       "      <td>0</td>\n",
       "      <td>0</td>\n",
       "      <td>0</td>\n",
       "      <td>99999999</td>\n",
       "    </tr>\n",
       "    <tr>\n",
       "      <th>4</th>\n",
       "      <td>201807</td>\n",
       "      <td>TRAIN_000004</td>\n",
       "      <td>0</td>\n",
       "      <td>177222</td>\n",
       "      <td>47149</td>\n",
       "      <td>48000</td>\n",
       "      <td>155020</td>\n",
       "      <td>14.661948</td>\n",
       "      <td>10.897410</td>\n",
       "      <td>10.654587</td>\n",
       "      <td>...</td>\n",
       "      <td>0</td>\n",
       "      <td>0</td>\n",
       "      <td>0</td>\n",
       "      <td>3</td>\n",
       "      <td>3</td>\n",
       "      <td>0</td>\n",
       "      <td>0</td>\n",
       "      <td>0</td>\n",
       "      <td>0</td>\n",
       "      <td>99999999</td>\n",
       "    </tr>\n",
       "  </tbody>\n",
       "</table>\n",
       "<p>5 rows × 42 columns</p>\n",
       "</div>"
      ],
      "text/plain": [
       "     기준년월            ID  최초한도금액  카드이용한도금액  CA한도금액  일시상환론한도금액  월상환론한도금액  \\\n",
       "0  201807  TRAIN_000000       0     19354    7270          0         0   \n",
       "1  201807  TRAIN_000001       0      9996    5718      41996     90611   \n",
       "2  201807  TRAIN_000002       0     88193   35207          0         0   \n",
       "3  201807  TRAIN_000003       0     19062    6531          0         0   \n",
       "4  201807  TRAIN_000004       0    177222   47149      48000    155020   \n",
       "\n",
       "   CA이자율_할인전  CL이자율_할인전  RV일시불이자율_할인전  ...  연체감액여부_R3M  한도심사요청건수  한도요청거절건수  \\\n",
       "0  22.995207  18.254978     17.264967  ...           0         0         0   \n",
       "1  14.793821  14.834873     10.622446  ...           0         0         0   \n",
       "2  22.014276  17.875321     17.155829  ...           0         0         0   \n",
       "3  22.998014  22.999453     19.293674  ...           0         0         0   \n",
       "4  14.661948  10.897410     10.654587  ...           0         0         0   \n",
       "\n",
       "   한도심사요청후경과월  한도심사거절후경과월  시장단기연체여부_R6M  시장단기연체여부_R3M  시장연체상환여부_R6M  \\\n",
       "0           3           3             0             0             0   \n",
       "1           3           3             0             0             0   \n",
       "2           3           3             0             0             0   \n",
       "3           3           3             0             0             0   \n",
       "4           3           3             0             0             0   \n",
       "\n",
       "   시장연체상환여부_R3M  rv최초시작후경과일  \n",
       "0             0    99999999  \n",
       "1             0         322  \n",
       "2             0        2378  \n",
       "3             0    99999999  \n",
       "4             0    99999999  \n",
       "\n",
       "[5 rows x 42 columns]"
      ]
     },
     "execution_count": 21,
     "metadata": {},
     "output_type": "execute_result"
    }
   ],
   "source": [
    "ex1.head()"
   ]
  },
  {
   "cell_type": "code",
   "execution_count": 22,
   "id": "1d29f6f7-5a47-425d-9af9-b941318fbba8",
   "metadata": {},
   "outputs": [
    {
     "name": "stdout",
     "output_type": "stream",
     "text": [
      "전체 컬럼 이름:\n",
      "['기준년월', 'ID', '최초한도금액', '카드이용한도금액', 'CA한도금액', '일시상환론한도금액', '월상환론한도금액', 'CA이자율_할인전', 'CL이자율_할인전', 'RV일시불이자율_할인전', 'RV현금서비스이자율_할인전', 'RV신청일자', 'RV약정청구율', 'RV최소결제비율', '자발한도감액횟수_R12M', '자발한도감액금액_R12M', '자발한도감액후경과월', '강제한도감액횟수_R12M', '강제한도감액금액_R12M', '강제한도감액후경과월', '한도증액횟수_R12M', '한도증액금액_R12M', '한도증액후경과월', '상향가능한도금액', '상향가능CA한도금액', '카드론동의여부', '월상환론상향가능한도금액', 'RV전환가능여부', '일시불ONLY전환가능여부', '카드이용한도금액_B1M', '카드이용한도금액_B2M', '특별한도보유여부_R3M', '연체감액여부_R3M', '한도심사요청건수', '한도요청거절건수', '한도심사요청후경과월', '한도심사거절후경과월', '시장단기연체여부_R6M', '시장단기연체여부_R3M', '시장연체상환여부_R6M', '시장연체상환여부_R3M', 'rv최초시작후경과일']\n",
      "\n",
      "문자형 컬럼 이름:\n",
      "['ID']\n",
      "\n",
      "숫자형 컬럼 이름:\n",
      "['기준년월', '최초한도금액', '카드이용한도금액', 'CA한도금액', '일시상환론한도금액', '월상환론한도금액', 'CA이자율_할인전', 'CL이자율_할인전', 'RV일시불이자율_할인전', 'RV현금서비스이자율_할인전', 'RV신청일자', 'RV약정청구율', 'RV최소결제비율', '자발한도감액횟수_R12M', '자발한도감액금액_R12M', '자발한도감액후경과월', '강제한도감액횟수_R12M', '강제한도감액금액_R12M', '강제한도감액후경과월', '한도증액횟수_R12M', '한도증액금액_R12M', '한도증액후경과월', '상향가능한도금액', '상향가능CA한도금액', '카드론동의여부', '월상환론상향가능한도금액', 'RV전환가능여부', '일시불ONLY전환가능여부', '카드이용한도금액_B1M', '카드이용한도금액_B2M', '특별한도보유여부_R3M', '연체감액여부_R3M', '한도심사요청건수', '한도요청거절건수', '한도심사요청후경과월', '한도심사거절후경과월', '시장단기연체여부_R6M', '시장단기연체여부_R3M', '시장연체상환여부_R6M', '시장연체상환여부_R3M', 'rv최초시작후경과일']\n"
     ]
    }
   ],
   "source": [
    "all_cols = ex1.columns.tolist()\n",
    "print(\"전체 컬럼 이름:\")\n",
    "print(all_cols)\n",
    "str_cols = ex1.select_dtypes(include=['object']).columns.tolist()\n",
    "print(\"\\n문자형 컬럼 이름:\")\n",
    "print(str_cols)\n",
    "num_cols = ex1.select_dtypes(include=[np.number]).columns.tolist()\n",
    "print(\"\\n숫자형 컬럼 이름:\")\n",
    "print(num_cols)"
   ]
  },
  {
   "cell_type": "code",
   "execution_count": 23,
   "id": "04278f5f-4c68-46a5-acf7-c4b0db089309",
   "metadata": {},
   "outputs": [
    {
     "data": {
      "text/plain": [
       "['특별한도보유여부_R3M',\n",
       " '한도심사요청건수',\n",
       " '한도요청거절건수',\n",
       " '한도심사요청후경과월',\n",
       " '한도심사거절후경과월',\n",
       " '시장단기연체여부_R6M',\n",
       " '시장단기연체여부_R3M',\n",
       " '시장연체상환여부_R6M',\n",
       " '시장연체상환여부_R3M']"
      ]
     },
     "execution_count": 23,
     "metadata": {},
     "output_type": "execute_result"
    }
   ],
   "source": [
    "num_df = ex1.select_dtypes(include=[np.number]).dropna()\n",
    "low_var = num_df.var()[ num_df.var() < 0.001 ].index.tolist()\n",
    "low_var"
   ]
  },
  {
   "cell_type": "code",
   "execution_count": 24,
   "id": "69fd9677-405b-463f-bf41-6136c457c530",
   "metadata": {},
   "outputs": [
    {
     "name": "stdout",
     "output_type": "stream",
     "text": [
      "NaN 또는 -1 이 0.001% 초과인 컬럼들: ['RV신청일자', '한도증액횟수_R12M', 'RV전환가능여부']\n"
     ]
    }
   ],
   "source": [
    "missing_mask = ex1.isna() | (ex1 == -1)\n",
    "\n",
    "missing_ratio = missing_mask.mean()\n",
    "\n",
    "threshold = 0.001\n",
    "high_missing = missing_ratio[missing_ratio > threshold].index.tolist()\n",
    "\n",
    "print(\"NaN 또는 -1 이 0.001% 초과인 컬럼들:\", high_missing)"
   ]
  },
  {
   "cell_type": "code",
   "execution_count": 25,
   "id": "2d5c01e3-6c0e-4afd-ba7d-9ebc88ee1d98",
   "metadata": {},
   "outputs": [],
   "source": [
    "cols_to_drop = ['특별한도보유여부_R3M',\n",
    " '한도심사요청건수',\n",
    " '한도요청거절건수',\n",
    " '한도심사요청후경과월',\n",
    " '한도심사거절후경과월',\n",
    " '시장단기연체여부_R6M',\n",
    " '시장단기연체여부_R3M',\n",
    " '시장연체상환여부_R6M',\n",
    " '시장연체상환여부_R3M',\n",
    " 'RV신청일자', \n",
    " '한도증액횟수_R12M', \n",
    " 'RV전환가능여부']\n",
    "ex1.drop(columns=cols_to_drop, inplace=True)"
   ]
  },
  {
   "cell_type": "code",
   "execution_count": 26,
   "id": "e7410fe1-63ab-41e2-80ae-7e9cb30d11c8",
   "metadata": {},
   "outputs": [
    {
     "name": "stderr",
     "output_type": "stream",
     "text": [
      "C:\\Users\\AHN\\AppData\\Local\\anaconda3\\Lib\\site-packages\\statsmodels\\regression\\linear_model.py:1782: RuntimeWarning: divide by zero encountered in scalar divide\n",
      "  return 1 - self.ssr/self.centered_tss\n"
     ]
    },
    {
     "name": "stdout",
     "output_type": "stream",
     "text": [
      "VIF > 10인 컬럼들: ['카드이용한도금액', 'RV일시불이자율_할인전', 'RV약정청구율', '상향가능한도금액', '상향가능CA한도금액', '카드이용한도금액_B1M', '카드이용한도금액_B2M', 'rv최초시작후경과일']\n",
      "         feature        VIF\n",
      "1       카드이용한도금액  26.227882\n",
      "7   RV일시불이자율_할인전  10.961903\n",
      "9        RV약정청구율  10.543097\n",
      "19      상향가능한도금액  14.741417\n",
      "20    상향가능CA한도금액  14.114034\n",
      "24  카드이용한도금액_B1M  48.679786\n",
      "25  카드이용한도금액_B2M  34.780340\n",
      "27    rv최초시작후경과일  11.408180\n"
     ]
    }
   ],
   "source": [
    "from statsmodels.tools.tools import add_constant\n",
    "from statsmodels.stats.outliers_influence import variance_inflation_factor\n",
    "\n",
    "num_df = (\n",
    "    ex1\n",
    "    .select_dtypes(include=[np.number])\n",
    "    .drop(columns=['기준년월'], errors='ignore')\n",
    "    .dropna()\n",
    ")\n",
    "\n",
    "X = add_constant(num_df)\n",
    "\n",
    "vif_df = pd.DataFrame({\n",
    "    'feature': X.columns,\n",
    "    'VIF': [variance_inflation_factor(X.values, i)\n",
    "            for i in range(X.shape[1])]\n",
    "})\n",
    "\n",
    "vif_df = vif_df[vif_df['feature'] != 'const'].reset_index(drop=True)\n",
    "\n",
    "high_vif = vif_df[vif_df['VIF'] > 10]\n",
    "\n",
    "print(\"VIF > 10인 컬럼들:\", high_vif['feature'].tolist())\n",
    "print(high_vif)\n"
   ]
  },
  {
   "cell_type": "code",
   "execution_count": 27,
   "id": "e72d9f20-8b84-4783-ae25-fa2f14dcfc4b",
   "metadata": {},
   "outputs": [
    {
     "name": "stderr",
     "output_type": "stream",
     "text": [
      "C:\\Users\\AHN\\AppData\\Local\\anaconda3\\Lib\\site-packages\\statsmodels\\regression\\linear_model.py:1782: RuntimeWarning: divide by zero encountered in scalar divide\n",
      "  return 1 - self.ssr/self.centered_tss\n"
     ]
    },
    {
     "name": "stdout",
     "output_type": "stream",
     "text": [
      "VIF > 10인 컬럼들: ['카드이용한도금액', 'RV일시불이자율_할인전', 'RV약정청구율', '상향가능한도금액', '상향가능CA한도금액', '카드이용한도금액_B2M', 'rv최초시작후경과일']\n",
      "         feature        VIF\n",
      "1       카드이용한도금액  19.598822\n",
      "7   RV일시불이자율_할인전  10.961133\n",
      "9        RV약정청구율  10.543017\n",
      "19      상향가능한도금액  14.737936\n",
      "20    상향가능CA한도금액  14.113277\n",
      "24  카드이용한도금액_B2M  17.582144\n",
      "26    rv최초시작후경과일  11.407751\n"
     ]
    }
   ],
   "source": [
    "cols_to_drop = ['카드이용한도금액_B1M']\n",
    "ex1.drop(columns=cols_to_drop, inplace=True)\n",
    "\n",
    "num_df = (\n",
    "    ex1\n",
    "    .select_dtypes(include=[np.number])\n",
    "    .drop(columns=['기준년월'], errors='ignore')\n",
    "    .dropna()\n",
    ")\n",
    "\n",
    "X = add_constant(num_df)\n",
    "\n",
    "vif_df = pd.DataFrame({\n",
    "    'feature': X.columns,\n",
    "    'VIF': [variance_inflation_factor(X.values, i)\n",
    "            for i in range(X.shape[1])]\n",
    "})\n",
    "\n",
    "vif_df = vif_df[vif_df['feature'] != 'const'].reset_index(drop=True)\n",
    "\n",
    "high_vif = vif_df[vif_df['VIF'] > 10]\n",
    "\n",
    "print(\"VIF > 10인 컬럼들:\", high_vif['feature'].tolist())\n",
    "print(high_vif)"
   ]
  },
  {
   "cell_type": "code",
   "execution_count": 28,
   "id": "2b24d725-5a94-4d29-bbf7-94737c47942d",
   "metadata": {},
   "outputs": [
    {
     "name": "stderr",
     "output_type": "stream",
     "text": [
      "C:\\Users\\AHN\\AppData\\Local\\anaconda3\\Lib\\site-packages\\statsmodels\\regression\\linear_model.py:1782: RuntimeWarning: divide by zero encountered in scalar divide\n",
      "  return 1 - self.ssr/self.centered_tss\n"
     ]
    },
    {
     "name": "stdout",
     "output_type": "stream",
     "text": [
      "VIF > 10인 컬럼들: ['RV일시불이자율_할인전', 'RV약정청구율', '상향가능한도금액', '상향가능CA한도금액', 'rv최초시작후경과일']\n",
      "         feature        VIF\n",
      "6   RV일시불이자율_할인전  10.957730\n",
      "8        RV약정청구율  10.542469\n",
      "18      상향가능한도금액  14.737724\n",
      "19    상향가능CA한도금액  14.111732\n",
      "25    rv최초시작후경과일  11.405041\n"
     ]
    }
   ],
   "source": [
    "cols_to_drop = ['카드이용한도금액']\n",
    "ex1.drop(columns=cols_to_drop, inplace=True)\n",
    "\n",
    "num_df = (\n",
    "    ex1\n",
    "    .select_dtypes(include=[np.number])\n",
    "    .drop(columns=['기준년월'], errors='ignore')\n",
    "    .dropna()\n",
    ")\n",
    "\n",
    "X = add_constant(num_df)\n",
    "\n",
    "vif_df = pd.DataFrame({\n",
    "    'feature': X.columns,\n",
    "    'VIF': [variance_inflation_factor(X.values, i)\n",
    "            for i in range(X.shape[1])]\n",
    "})\n",
    "\n",
    "vif_df = vif_df[vif_df['feature'] != 'const'].reset_index(drop=True)\n",
    "\n",
    "high_vif = vif_df[vif_df['VIF'] > 10]\n",
    "\n",
    "print(\"VIF > 10인 컬럼들:\", high_vif['feature'].tolist())\n",
    "print(high_vif)"
   ]
  },
  {
   "cell_type": "code",
   "execution_count": 29,
   "id": "98f52fb5-e866-432a-a96d-2ba233b2a0e7",
   "metadata": {},
   "outputs": [
    {
     "name": "stderr",
     "output_type": "stream",
     "text": [
      "C:\\Users\\AHN\\AppData\\Local\\anaconda3\\Lib\\site-packages\\statsmodels\\regression\\linear_model.py:1782: RuntimeWarning: divide by zero encountered in scalar divide\n",
      "  return 1 - self.ssr/self.centered_tss\n"
     ]
    },
    {
     "name": "stdout",
     "output_type": "stream",
     "text": [
      "VIF > 10인 컬럼들: ['RV일시불이자율_할인전', 'RV약정청구율', 'rv최초시작후경과일']\n",
      "         feature        VIF\n",
      "6   RV일시불이자율_할인전  10.947999\n",
      "8        RV약정청구율  10.540523\n",
      "24    rv최초시작후경과일  11.402176\n"
     ]
    }
   ],
   "source": [
    "cols_to_drop = ['상향가능한도금액']\n",
    "ex1.drop(columns=cols_to_drop, inplace=True)\n",
    "\n",
    "num_df = (\n",
    "    ex1\n",
    "    .select_dtypes(include=[np.number])\n",
    "    .drop(columns=['기준년월'], errors='ignore')\n",
    "    .dropna()\n",
    ")\n",
    "\n",
    "X = add_constant(num_df)\n",
    "\n",
    "vif_df = pd.DataFrame({\n",
    "    'feature': X.columns,\n",
    "    'VIF': [variance_inflation_factor(X.values, i)\n",
    "            for i in range(X.shape[1])]\n",
    "})\n",
    "\n",
    "vif_df = vif_df[vif_df['feature'] != 'const'].reset_index(drop=True)\n",
    "\n",
    "high_vif = vif_df[vif_df['VIF'] > 10]\n",
    "\n",
    "print(\"VIF > 10인 컬럼들:\", high_vif['feature'].tolist())\n",
    "print(high_vif)"
   ]
  },
  {
   "cell_type": "code",
   "execution_count": 30,
   "id": "d01175f5-3a34-4d59-a7b8-b7fa5429c087",
   "metadata": {},
   "outputs": [
    {
     "name": "stdout",
     "output_type": "stream",
     "text": [
      "VIF > 10인 컬럼들: []\n",
      "Empty DataFrame\n",
      "Columns: [feature, VIF]\n",
      "Index: []\n"
     ]
    }
   ],
   "source": [
    "cols_to_drop = ['rv최초시작후경과일']\n",
    "ex1.drop(columns=cols_to_drop, inplace=True)\n",
    "\n",
    "num_df = (\n",
    "    ex1\n",
    "    .select_dtypes(include=[np.number])\n",
    "    .drop(columns=['기준년월'], errors='ignore')\n",
    "    .dropna()\n",
    ")\n",
    "\n",
    "X = add_constant(num_df)\n",
    "\n",
    "vif_df = pd.DataFrame({\n",
    "    'feature': X.columns,\n",
    "    'VIF': [variance_inflation_factor(X.values, i)\n",
    "            for i in range(X.shape[1])]\n",
    "})\n",
    "\n",
    "vif_df = vif_df[vif_df['feature'] != 'const'].reset_index(drop=True)\n",
    "\n",
    "high_vif = vif_df[vif_df['VIF'] > 10]\n",
    "\n",
    "print(\"VIF > 10인 컬럼들:\", high_vif['feature'].tolist())\n",
    "print(high_vif)"
   ]
  },
  {
   "cell_type": "code",
   "execution_count": 31,
   "id": "5613d093-7c89-4acc-8cff-f7e4eef65567",
   "metadata": {},
   "outputs": [],
   "source": [
    "ex1.to_parquet('신용정보_전처리.parquet', index=False)"
   ]
  },
  {
   "cell_type": "code",
   "execution_count": null,
   "id": "7ed28b80-2c2c-49db-bb74-3b0320fc50d2",
   "metadata": {},
   "outputs": [],
   "source": []
  }
 ],
 "metadata": {
  "kernelspec": {
   "display_name": "Python 3 (ipykernel)",
   "language": "python",
   "name": "python3"
  },
  "language_info": {
   "codemirror_mode": {
    "name": "ipython",
    "version": 3
   },
   "file_extension": ".py",
   "mimetype": "text/x-python",
   "name": "python",
   "nbconvert_exporter": "python",
   "pygments_lexer": "ipython3",
   "version": "3.12.7"
  }
 },
 "nbformat": 4,
 "nbformat_minor": 5
}
