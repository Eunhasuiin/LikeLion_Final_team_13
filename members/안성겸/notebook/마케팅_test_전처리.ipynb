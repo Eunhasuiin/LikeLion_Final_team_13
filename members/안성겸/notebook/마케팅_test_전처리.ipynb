{
 "cells": [
  {
   "cell_type": "code",
   "execution_count": 1,
   "id": "096da835-69d2-4b9c-8e33-31043514979b",
   "metadata": {},
   "outputs": [],
   "source": [
    "import pandas as pd\n",
    "import os\n",
    "from glob import glob\n",
    "import numpy as np\n",
    "from pandas.api.types import CategoricalDtype"
   ]
  },
  {
   "cell_type": "code",
   "execution_count": 2,
   "id": "ff624bd5-030f-4350-b7a3-63c6f5e8d9f0",
   "metadata": {},
   "outputs": [],
   "source": [
    "ex1 = pd.read_parquet('test/7.마케팅정보/2018_마케팅정보_전체.parquet')"
   ]
  },
  {
   "cell_type": "code",
   "execution_count": 3,
   "id": "a681d03b-0709-4f1d-81e1-2938cef445d2",
   "metadata": {},
   "outputs": [
    {
     "name": "stdout",
     "output_type": "stream",
     "text": [
      "전체 컬럼 이름:\n",
      "['기준년월', 'ID', '컨택건수_카드론_TM_B0M', '컨택건수_리볼빙_TM_B0M', '컨택건수_CA_TM_B0M', '컨택건수_이용유도_TM_B0M', '컨택건수_신용발급_TM_B0M', '컨택건수_부대서비스_TM_B0M', '컨택건수_포인트소진_TM_B0M', '컨택건수_보험_TM_B0M', '컨택건수_카드론_LMS_B0M', '컨택건수_CA_LMS_B0M', '컨택건수_리볼빙_LMS_B0M', '컨택건수_이용유도_LMS_B0M', '컨택건수_카드론_EM_B0M', '컨택건수_CA_EM_B0M', '컨택건수_리볼빙_EM_B0M', '컨택건수_이용유도_EM_B0M', '컨택건수_카드론_청구서_B0M', '컨택건수_CA_청구서_B0M', '컨택건수_리볼빙_청구서_B0M', '컨택건수_이용유도_청구서_B0M', '컨택건수_카드론_인터넷_B0M', '컨택건수_CA_인터넷_B0M', '컨택건수_리볼빙_인터넷_B0M', '컨택건수_이용유도_인터넷_B0M', '컨택건수_카드론_당사앱_B0M', '컨택건수_CA_당사앱_B0M', '컨택건수_리볼빙_당사앱_B0M', '컨택건수_이용유도_당사앱_B0M', '컨택건수_카드론_TM_R6M', '컨택건수_CA_TM_R6M', '컨택건수_리볼빙_TM_R6M', '컨택건수_이용유도_TM_R6M', '컨택건수_신용발급_TM_R6M', '컨택건수_부대서비스_TM_R6M', '컨택건수_포인트소진_TM_R6M', '컨택건수_보험_TM_R6M', '컨택건수_카드론_LMS_R6M', '컨택건수_CA_LMS_R6M', '컨택건수_리볼빙_LMS_R6M', '컨택건수_이용유도_LMS_R6M', '컨택건수_카드론_EM_R6M', '컨택건수_CA_EM_R6M', '컨택건수_리볼빙_EM_R6M', '컨택건수_이용유도_EM_R6M', '컨택건수_카드론_청구서_R6M', '컨택건수_CA_청구서_R6M', '컨택건수_리볼빙_청구서_R6M', '컨택건수_이용유도_청구서_R6M', '컨택건수_카드론_인터넷_R6M', '컨택건수_CA_인터넷_R6M', '컨택건수_리볼빙_인터넷_R6M', '컨택건수_이용유도_인터넷_R6M', '컨택건수_카드론_당사앱_R6M', '컨택건수_CA_당사앱_R6M', '컨택건수_리볼빙_당사앱_R6M', '컨택건수_이용유도_당사앱_R6M', '컨택건수_채권_B0M', '컨택건수_FDS_B0M', '컨택건수_채권_R6M', '컨택건수_FDS_R6M', '캠페인접촉건수_R12M', '캠페인접촉일수_R12M']\n",
      "\n",
      "문자형 컬럼 이름:\n",
      "['ID', '캠페인접촉건수_R12M', '캠페인접촉일수_R12M']\n",
      "\n",
      "숫자형 컬럼 이름:\n",
      "['기준년월', '컨택건수_카드론_TM_B0M', '컨택건수_리볼빙_TM_B0M', '컨택건수_CA_TM_B0M', '컨택건수_이용유도_TM_B0M', '컨택건수_신용발급_TM_B0M', '컨택건수_부대서비스_TM_B0M', '컨택건수_포인트소진_TM_B0M', '컨택건수_보험_TM_B0M', '컨택건수_카드론_LMS_B0M', '컨택건수_CA_LMS_B0M', '컨택건수_리볼빙_LMS_B0M', '컨택건수_이용유도_LMS_B0M', '컨택건수_카드론_EM_B0M', '컨택건수_CA_EM_B0M', '컨택건수_리볼빙_EM_B0M', '컨택건수_이용유도_EM_B0M', '컨택건수_카드론_청구서_B0M', '컨택건수_CA_청구서_B0M', '컨택건수_리볼빙_청구서_B0M', '컨택건수_이용유도_청구서_B0M', '컨택건수_카드론_인터넷_B0M', '컨택건수_CA_인터넷_B0M', '컨택건수_리볼빙_인터넷_B0M', '컨택건수_이용유도_인터넷_B0M', '컨택건수_카드론_당사앱_B0M', '컨택건수_CA_당사앱_B0M', '컨택건수_리볼빙_당사앱_B0M', '컨택건수_이용유도_당사앱_B0M', '컨택건수_카드론_TM_R6M', '컨택건수_CA_TM_R6M', '컨택건수_리볼빙_TM_R6M', '컨택건수_이용유도_TM_R6M', '컨택건수_신용발급_TM_R6M', '컨택건수_부대서비스_TM_R6M', '컨택건수_포인트소진_TM_R6M', '컨택건수_보험_TM_R6M', '컨택건수_카드론_LMS_R6M', '컨택건수_CA_LMS_R6M', '컨택건수_리볼빙_LMS_R6M', '컨택건수_이용유도_LMS_R6M', '컨택건수_카드론_EM_R6M', '컨택건수_CA_EM_R6M', '컨택건수_리볼빙_EM_R6M', '컨택건수_이용유도_EM_R6M', '컨택건수_카드론_청구서_R6M', '컨택건수_CA_청구서_R6M', '컨택건수_리볼빙_청구서_R6M', '컨택건수_이용유도_청구서_R6M', '컨택건수_카드론_인터넷_R6M', '컨택건수_CA_인터넷_R6M', '컨택건수_리볼빙_인터넷_R6M', '컨택건수_이용유도_인터넷_R6M', '컨택건수_카드론_당사앱_R6M', '컨택건수_CA_당사앱_R6M', '컨택건수_리볼빙_당사앱_R6M', '컨택건수_이용유도_당사앱_R6M', '컨택건수_채권_B0M', '컨택건수_FDS_B0M', '컨택건수_채권_R6M', '컨택건수_FDS_R6M']\n"
     ]
    }
   ],
   "source": [
    "all_cols = ex1.columns.tolist()\n",
    "print(\"전체 컬럼 이름:\")\n",
    "print(all_cols)\n",
    "str_cols = ex1.select_dtypes(include=['object']).columns.tolist()\n",
    "print(\"\\n문자형 컬럼 이름:\")\n",
    "print(str_cols)\n",
    "num_cols = ex1.select_dtypes(include=[np.number]).columns.tolist()\n",
    "print(\"\\n숫자형 컬럼 이름:\")\n",
    "print(num_cols)"
   ]
  },
  {
   "cell_type": "code",
   "execution_count": 4,
   "id": "9a9f33c9-cc4e-4898-82fc-8b1b7353ad97",
   "metadata": {},
   "outputs": [
    {
     "name": "stdout",
     "output_type": "stream",
     "text": [
      "  캠페인접촉건수_R12M 캠페인접촉일수_R12M\n",
      "0        1회 이상        1일 이상\n",
      "1        5회 이상        5일 이상\n",
      "2       10회 이상       10일 이상\n",
      "3       15회 이상       15일 이상\n",
      "4        1회 이상        1일 이상\n"
     ]
    }
   ],
   "source": [
    "cols = ['캠페인접촉건수_R12M', '캠페인접촉일수_R12M']\n",
    "print(ex1[cols].head())"
   ]
  },
  {
   "cell_type": "code",
   "execution_count": 5,
   "id": "cf3beb47-3088-4d9b-9051-0d405ccb8598",
   "metadata": {},
   "outputs": [],
   "source": [
    "count_cols2 = ['캠페인접촉건수_R12M']\n",
    "for col in count_cols2:\n",
    "    ex1[col] = ex1[col].astype(str).str.replace('회 이상', '', regex=False)\n",
    "    \n",
    "    ex1[col] = (\n",
    "        pd.to_numeric(ex1[col], errors='coerce')\n",
    "          .fillna(-1)\n",
    "          .astype(int)\n",
    "    )"
   ]
  },
  {
   "cell_type": "code",
   "execution_count": 6,
   "id": "15764e9c-d73c-459d-83c0-050a14d484df",
   "metadata": {},
   "outputs": [],
   "source": [
    "count_cols2 = ['캠페인접촉일수_R12M']\n",
    "for col in count_cols2:\n",
    "    ex1[col] = ex1[col].astype(str).str.replace('일 이상', '', regex=False)\n",
    "    \n",
    "    ex1[col] = (\n",
    "        pd.to_numeric(ex1[col], errors='coerce')\n",
    "          .fillna(-1)\n",
    "          .astype(int)\n",
    "    )"
   ]
  },
  {
   "cell_type": "code",
   "execution_count": 7,
   "id": "bd340625-e474-45ca-b392-e33aa7d50104",
   "metadata": {},
   "outputs": [
    {
     "data": {
      "text/html": [
       "<div>\n",
       "<style scoped>\n",
       "    .dataframe tbody tr th:only-of-type {\n",
       "        vertical-align: middle;\n",
       "    }\n",
       "\n",
       "    .dataframe tbody tr th {\n",
       "        vertical-align: top;\n",
       "    }\n",
       "\n",
       "    .dataframe thead th {\n",
       "        text-align: right;\n",
       "    }\n",
       "</style>\n",
       "<table border=\"1\" class=\"dataframe\">\n",
       "  <thead>\n",
       "    <tr style=\"text-align: right;\">\n",
       "      <th></th>\n",
       "      <th>기준년월</th>\n",
       "      <th>ID</th>\n",
       "      <th>컨택건수_카드론_TM_B0M</th>\n",
       "      <th>컨택건수_리볼빙_TM_B0M</th>\n",
       "      <th>컨택건수_CA_TM_B0M</th>\n",
       "      <th>컨택건수_이용유도_TM_B0M</th>\n",
       "      <th>컨택건수_신용발급_TM_B0M</th>\n",
       "      <th>컨택건수_부대서비스_TM_B0M</th>\n",
       "      <th>컨택건수_포인트소진_TM_B0M</th>\n",
       "      <th>컨택건수_보험_TM_B0M</th>\n",
       "      <th>...</th>\n",
       "      <th>컨택건수_카드론_당사앱_R6M</th>\n",
       "      <th>컨택건수_CA_당사앱_R6M</th>\n",
       "      <th>컨택건수_리볼빙_당사앱_R6M</th>\n",
       "      <th>컨택건수_이용유도_당사앱_R6M</th>\n",
       "      <th>컨택건수_채권_B0M</th>\n",
       "      <th>컨택건수_FDS_B0M</th>\n",
       "      <th>컨택건수_채권_R6M</th>\n",
       "      <th>컨택건수_FDS_R6M</th>\n",
       "      <th>캠페인접촉건수_R12M</th>\n",
       "      <th>캠페인접촉일수_R12M</th>\n",
       "    </tr>\n",
       "  </thead>\n",
       "  <tbody>\n",
       "    <tr>\n",
       "      <th>0</th>\n",
       "      <td>201807</td>\n",
       "      <td>TEST_00000</td>\n",
       "      <td>0</td>\n",
       "      <td>0</td>\n",
       "      <td>0</td>\n",
       "      <td>0</td>\n",
       "      <td>0</td>\n",
       "      <td>0</td>\n",
       "      <td>0</td>\n",
       "      <td>0</td>\n",
       "      <td>...</td>\n",
       "      <td>0</td>\n",
       "      <td>0</td>\n",
       "      <td>0</td>\n",
       "      <td>0</td>\n",
       "      <td>0</td>\n",
       "      <td>0</td>\n",
       "      <td>0</td>\n",
       "      <td>0</td>\n",
       "      <td>1</td>\n",
       "      <td>1</td>\n",
       "    </tr>\n",
       "    <tr>\n",
       "      <th>1</th>\n",
       "      <td>201807</td>\n",
       "      <td>TEST_00001</td>\n",
       "      <td>0</td>\n",
       "      <td>0</td>\n",
       "      <td>0</td>\n",
       "      <td>0</td>\n",
       "      <td>0</td>\n",
       "      <td>0</td>\n",
       "      <td>0</td>\n",
       "      <td>0</td>\n",
       "      <td>...</td>\n",
       "      <td>0</td>\n",
       "      <td>0</td>\n",
       "      <td>0</td>\n",
       "      <td>0</td>\n",
       "      <td>0</td>\n",
       "      <td>0</td>\n",
       "      <td>0</td>\n",
       "      <td>0</td>\n",
       "      <td>5</td>\n",
       "      <td>5</td>\n",
       "    </tr>\n",
       "    <tr>\n",
       "      <th>2</th>\n",
       "      <td>201807</td>\n",
       "      <td>TEST_00002</td>\n",
       "      <td>0</td>\n",
       "      <td>0</td>\n",
       "      <td>0</td>\n",
       "      <td>0</td>\n",
       "      <td>0</td>\n",
       "      <td>0</td>\n",
       "      <td>0</td>\n",
       "      <td>0</td>\n",
       "      <td>...</td>\n",
       "      <td>0</td>\n",
       "      <td>0</td>\n",
       "      <td>0</td>\n",
       "      <td>0</td>\n",
       "      <td>0</td>\n",
       "      <td>0</td>\n",
       "      <td>0</td>\n",
       "      <td>0</td>\n",
       "      <td>10</td>\n",
       "      <td>10</td>\n",
       "    </tr>\n",
       "    <tr>\n",
       "      <th>3</th>\n",
       "      <td>201807</td>\n",
       "      <td>TEST_00003</td>\n",
       "      <td>3</td>\n",
       "      <td>0</td>\n",
       "      <td>0</td>\n",
       "      <td>0</td>\n",
       "      <td>0</td>\n",
       "      <td>0</td>\n",
       "      <td>0</td>\n",
       "      <td>0</td>\n",
       "      <td>...</td>\n",
       "      <td>0</td>\n",
       "      <td>0</td>\n",
       "      <td>0</td>\n",
       "      <td>0</td>\n",
       "      <td>0</td>\n",
       "      <td>0</td>\n",
       "      <td>0</td>\n",
       "      <td>0</td>\n",
       "      <td>15</td>\n",
       "      <td>15</td>\n",
       "    </tr>\n",
       "    <tr>\n",
       "      <th>4</th>\n",
       "      <td>201807</td>\n",
       "      <td>TEST_00004</td>\n",
       "      <td>0</td>\n",
       "      <td>0</td>\n",
       "      <td>0</td>\n",
       "      <td>0</td>\n",
       "      <td>0</td>\n",
       "      <td>0</td>\n",
       "      <td>0</td>\n",
       "      <td>0</td>\n",
       "      <td>...</td>\n",
       "      <td>0</td>\n",
       "      <td>0</td>\n",
       "      <td>0</td>\n",
       "      <td>0</td>\n",
       "      <td>0</td>\n",
       "      <td>0</td>\n",
       "      <td>0</td>\n",
       "      <td>0</td>\n",
       "      <td>1</td>\n",
       "      <td>1</td>\n",
       "    </tr>\n",
       "  </tbody>\n",
       "</table>\n",
       "<p>5 rows × 64 columns</p>\n",
       "</div>"
      ],
      "text/plain": [
       "     기준년월          ID  컨택건수_카드론_TM_B0M  컨택건수_리볼빙_TM_B0M  컨택건수_CA_TM_B0M  \\\n",
       "0  201807  TEST_00000                0                0               0   \n",
       "1  201807  TEST_00001                0                0               0   \n",
       "2  201807  TEST_00002                0                0               0   \n",
       "3  201807  TEST_00003                3                0               0   \n",
       "4  201807  TEST_00004                0                0               0   \n",
       "\n",
       "   컨택건수_이용유도_TM_B0M  컨택건수_신용발급_TM_B0M  컨택건수_부대서비스_TM_B0M  컨택건수_포인트소진_TM_B0M  \\\n",
       "0                 0                 0                  0                  0   \n",
       "1                 0                 0                  0                  0   \n",
       "2                 0                 0                  0                  0   \n",
       "3                 0                 0                  0                  0   \n",
       "4                 0                 0                  0                  0   \n",
       "\n",
       "   컨택건수_보험_TM_B0M  ...  컨택건수_카드론_당사앱_R6M  컨택건수_CA_당사앱_R6M  컨택건수_리볼빙_당사앱_R6M  \\\n",
       "0               0  ...                 0                0                 0   \n",
       "1               0  ...                 0                0                 0   \n",
       "2               0  ...                 0                0                 0   \n",
       "3               0  ...                 0                0                 0   \n",
       "4               0  ...                 0                0                 0   \n",
       "\n",
       "   컨택건수_이용유도_당사앱_R6M  컨택건수_채권_B0M  컨택건수_FDS_B0M  컨택건수_채권_R6M  컨택건수_FDS_R6M  \\\n",
       "0                  0            0             0            0             0   \n",
       "1                  0            0             0            0             0   \n",
       "2                  0            0             0            0             0   \n",
       "3                  0            0             0            0             0   \n",
       "4                  0            0             0            0             0   \n",
       "\n",
       "   캠페인접촉건수_R12M  캠페인접촉일수_R12M  \n",
       "0             1             1  \n",
       "1             5             5  \n",
       "2            10            10  \n",
       "3            15            15  \n",
       "4             1             1  \n",
       "\n",
       "[5 rows x 64 columns]"
      ]
     },
     "execution_count": 7,
     "metadata": {},
     "output_type": "execute_result"
    }
   ],
   "source": [
    "ex1.head()"
   ]
  },
  {
   "cell_type": "code",
   "execution_count": 8,
   "id": "03c7fe02-936d-4c86-b25a-fc5fa20a750c",
   "metadata": {},
   "outputs": [
    {
     "name": "stdout",
     "output_type": "stream",
     "text": [
      "전체 컬럼 이름:\n",
      "['기준년월', 'ID', '컨택건수_카드론_TM_B0M', '컨택건수_리볼빙_TM_B0M', '컨택건수_CA_TM_B0M', '컨택건수_이용유도_TM_B0M', '컨택건수_신용발급_TM_B0M', '컨택건수_부대서비스_TM_B0M', '컨택건수_포인트소진_TM_B0M', '컨택건수_보험_TM_B0M', '컨택건수_카드론_LMS_B0M', '컨택건수_CA_LMS_B0M', '컨택건수_리볼빙_LMS_B0M', '컨택건수_이용유도_LMS_B0M', '컨택건수_카드론_EM_B0M', '컨택건수_CA_EM_B0M', '컨택건수_리볼빙_EM_B0M', '컨택건수_이용유도_EM_B0M', '컨택건수_카드론_청구서_B0M', '컨택건수_CA_청구서_B0M', '컨택건수_리볼빙_청구서_B0M', '컨택건수_이용유도_청구서_B0M', '컨택건수_카드론_인터넷_B0M', '컨택건수_CA_인터넷_B0M', '컨택건수_리볼빙_인터넷_B0M', '컨택건수_이용유도_인터넷_B0M', '컨택건수_카드론_당사앱_B0M', '컨택건수_CA_당사앱_B0M', '컨택건수_리볼빙_당사앱_B0M', '컨택건수_이용유도_당사앱_B0M', '컨택건수_카드론_TM_R6M', '컨택건수_CA_TM_R6M', '컨택건수_리볼빙_TM_R6M', '컨택건수_이용유도_TM_R6M', '컨택건수_신용발급_TM_R6M', '컨택건수_부대서비스_TM_R6M', '컨택건수_포인트소진_TM_R6M', '컨택건수_보험_TM_R6M', '컨택건수_카드론_LMS_R6M', '컨택건수_CA_LMS_R6M', '컨택건수_리볼빙_LMS_R6M', '컨택건수_이용유도_LMS_R6M', '컨택건수_카드론_EM_R6M', '컨택건수_CA_EM_R6M', '컨택건수_리볼빙_EM_R6M', '컨택건수_이용유도_EM_R6M', '컨택건수_카드론_청구서_R6M', '컨택건수_CA_청구서_R6M', '컨택건수_리볼빙_청구서_R6M', '컨택건수_이용유도_청구서_R6M', '컨택건수_카드론_인터넷_R6M', '컨택건수_CA_인터넷_R6M', '컨택건수_리볼빙_인터넷_R6M', '컨택건수_이용유도_인터넷_R6M', '컨택건수_카드론_당사앱_R6M', '컨택건수_CA_당사앱_R6M', '컨택건수_리볼빙_당사앱_R6M', '컨택건수_이용유도_당사앱_R6M', '컨택건수_채권_B0M', '컨택건수_FDS_B0M', '컨택건수_채권_R6M', '컨택건수_FDS_R6M', '캠페인접촉건수_R12M', '캠페인접촉일수_R12M']\n",
      "\n",
      "문자형 컬럼 이름:\n",
      "['ID']\n",
      "\n",
      "숫자형 컬럼 이름:\n",
      "['기준년월', '컨택건수_카드론_TM_B0M', '컨택건수_리볼빙_TM_B0M', '컨택건수_CA_TM_B0M', '컨택건수_이용유도_TM_B0M', '컨택건수_신용발급_TM_B0M', '컨택건수_부대서비스_TM_B0M', '컨택건수_포인트소진_TM_B0M', '컨택건수_보험_TM_B0M', '컨택건수_카드론_LMS_B0M', '컨택건수_CA_LMS_B0M', '컨택건수_리볼빙_LMS_B0M', '컨택건수_이용유도_LMS_B0M', '컨택건수_카드론_EM_B0M', '컨택건수_CA_EM_B0M', '컨택건수_리볼빙_EM_B0M', '컨택건수_이용유도_EM_B0M', '컨택건수_카드론_청구서_B0M', '컨택건수_CA_청구서_B0M', '컨택건수_리볼빙_청구서_B0M', '컨택건수_이용유도_청구서_B0M', '컨택건수_카드론_인터넷_B0M', '컨택건수_CA_인터넷_B0M', '컨택건수_리볼빙_인터넷_B0M', '컨택건수_이용유도_인터넷_B0M', '컨택건수_카드론_당사앱_B0M', '컨택건수_CA_당사앱_B0M', '컨택건수_리볼빙_당사앱_B0M', '컨택건수_이용유도_당사앱_B0M', '컨택건수_카드론_TM_R6M', '컨택건수_CA_TM_R6M', '컨택건수_리볼빙_TM_R6M', '컨택건수_이용유도_TM_R6M', '컨택건수_신용발급_TM_R6M', '컨택건수_부대서비스_TM_R6M', '컨택건수_포인트소진_TM_R6M', '컨택건수_보험_TM_R6M', '컨택건수_카드론_LMS_R6M', '컨택건수_CA_LMS_R6M', '컨택건수_리볼빙_LMS_R6M', '컨택건수_이용유도_LMS_R6M', '컨택건수_카드론_EM_R6M', '컨택건수_CA_EM_R6M', '컨택건수_리볼빙_EM_R6M', '컨택건수_이용유도_EM_R6M', '컨택건수_카드론_청구서_R6M', '컨택건수_CA_청구서_R6M', '컨택건수_리볼빙_청구서_R6M', '컨택건수_이용유도_청구서_R6M', '컨택건수_카드론_인터넷_R6M', '컨택건수_CA_인터넷_R6M', '컨택건수_리볼빙_인터넷_R6M', '컨택건수_이용유도_인터넷_R6M', '컨택건수_카드론_당사앱_R6M', '컨택건수_CA_당사앱_R6M', '컨택건수_리볼빙_당사앱_R6M', '컨택건수_이용유도_당사앱_R6M', '컨택건수_채권_B0M', '컨택건수_FDS_B0M', '컨택건수_채권_R6M', '컨택건수_FDS_R6M', '캠페인접촉건수_R12M', '캠페인접촉일수_R12M']\n"
     ]
    }
   ],
   "source": [
    "all_cols = ex1.columns.tolist()\n",
    "print(\"전체 컬럼 이름:\")\n",
    "print(all_cols)\n",
    "str_cols = ex1.select_dtypes(include=['object']).columns.tolist()\n",
    "print(\"\\n문자형 컬럼 이름:\")\n",
    "print(str_cols)\n",
    "num_cols = ex1.select_dtypes(include=[np.number]).columns.tolist()\n",
    "print(\"\\n숫자형 컬럼 이름:\")\n",
    "print(num_cols)"
   ]
  },
  {
   "cell_type": "code",
   "execution_count": 10,
   "id": "b69aafe5-a59d-4d0c-bf32-b219b10dfae7",
   "metadata": {},
   "outputs": [],
   "source": [
    "cols = ['기준년월', 'ID', '컨택건수_이용유도_TM_R6M', '컨택건수_이용유도_EM_R6M']\n",
    "ex1 = ex1[cols]"
   ]
  },
  {
   "cell_type": "code",
   "execution_count": 11,
   "id": "e5ff0b28-458e-4118-9ab1-3d4bcdccfc6c",
   "metadata": {},
   "outputs": [],
   "source": [
    "ex1 = ex1.fillna(-1)"
   ]
  },
  {
   "cell_type": "code",
   "execution_count": 12,
   "id": "ac5d6996-3a83-4ce6-8136-dc6789a890d6",
   "metadata": {},
   "outputs": [],
   "source": [
    "ex1.to_parquet('마케팅_전처리_test.parquet', index=False)"
   ]
  },
  {
   "cell_type": "code",
   "execution_count": null,
   "id": "25861a63-ddba-4d5c-b983-572fb2c06e1d",
   "metadata": {},
   "outputs": [],
   "source": []
  }
 ],
 "metadata": {
  "kernelspec": {
   "display_name": "Python 3 (ipykernel)",
   "language": "python",
   "name": "python3"
  },
  "language_info": {
   "codemirror_mode": {
    "name": "ipython",
    "version": 3
   },
   "file_extension": ".py",
   "mimetype": "text/x-python",
   "name": "python",
   "nbconvert_exporter": "python",
   "pygments_lexer": "ipython3",
   "version": "3.12.3"
  }
 },
 "nbformat": 4,
 "nbformat_minor": 5
}
