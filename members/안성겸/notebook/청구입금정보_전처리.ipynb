{
 "cells": [
  {
   "cell_type": "code",
   "execution_count": 17,
   "id": "eb3db0c7-e707-46e9-95f7-6a800c3f0c5c",
   "metadata": {},
   "outputs": [],
   "source": [
    "import pandas as pd\n",
    "import os\n",
    "from glob import glob\n",
    "import numpy as np\n",
    "from pandas.api.types import CategoricalDtype"
   ]
  },
  {
   "cell_type": "code",
   "execution_count": 18,
   "id": "b2b7bc14-f7c6-4b3c-b9c9-bfb69b5a28ff",
   "metadata": {},
   "outputs": [],
   "source": [
    "ex1 = pd.read_parquet('train/4.청구입금정보/2018_청구정보_전체.parquet')"
   ]
  },
  {
   "cell_type": "code",
   "execution_count": 19,
   "id": "502932b3-afef-45c3-be20-fe1ffa3bc872",
   "metadata": {},
   "outputs": [
    {
     "name": "stdout",
     "output_type": "stream",
     "text": [
      "전체 컬럼 이름:\n",
      "['기준년월', 'ID', '대표결제일', '대표결제방법코드', '대표청구지고객주소구분코드', '대표청구서수령지구분코드', '청구서수령방법', '청구서발송여부_B0', '청구서발송여부_R3M', '청구서발송여부_R6M', '청구금액_B0', '청구금액_R3M', '청구금액_R6M', '포인트_마일리지_건별_B0M', '포인트_마일리지_건별_R3M', '포인트_포인트_건별_B0M', '포인트_포인트_건별_R3M', '포인트_마일리지_월적립_B0M', '포인트_마일리지_월적립_R3M', '포인트_포인트_월적립_B0M', '포인트_포인트_월적립_R3M', '포인트_적립포인트_R12M', '포인트_적립포인트_R3M', '포인트_이용포인트_R12M', '포인트_이용포인트_R3M', '포인트_잔여포인트_B0M', '마일_적립포인트_R12M', '마일_적립포인트_R3M', '마일_이용포인트_R12M', '마일_이용포인트_R3M', '마일_잔여포인트_B0M', '할인건수_R3M', '할인금액_R3M', '할인건수_B0M', '할인금액_B0M', '할인금액_청구서_R3M', '할인금액_청구서_B0M', '상환개월수_결제일_R6M', '상환개월수_결제일_R3M', '선결제건수_R6M', '선결제건수_R3M', '연체건수_R6M', '연체건수_R3M', '혜택수혜금액_R3M', '포인트_마일리지_환산_B0M', '혜택수혜금액']\n",
      "\n",
      "문자형 컬럼 이름:\n",
      "['ID', '대표결제방법코드', '대표청구지고객주소구분코드', '대표청구서수령지구분코드', '청구서수령방법', '할인건수_R3M', '할인건수_B0M']\n",
      "\n",
      "숫자형 컬럼 이름:\n",
      "['기준년월', '대표결제일', '청구서발송여부_B0', '청구서발송여부_R3M', '청구서발송여부_R6M', '청구금액_B0', '청구금액_R3M', '청구금액_R6M', '포인트_마일리지_건별_B0M', '포인트_마일리지_건별_R3M', '포인트_포인트_건별_B0M', '포인트_포인트_건별_R3M', '포인트_마일리지_월적립_B0M', '포인트_마일리지_월적립_R3M', '포인트_포인트_월적립_B0M', '포인트_포인트_월적립_R3M', '포인트_적립포인트_R12M', '포인트_적립포인트_R3M', '포인트_이용포인트_R12M', '포인트_이용포인트_R3M', '포인트_잔여포인트_B0M', '마일_적립포인트_R12M', '마일_적립포인트_R3M', '마일_이용포인트_R12M', '마일_이용포인트_R3M', '마일_잔여포인트_B0M', '할인금액_R3M', '할인금액_B0M', '할인금액_청구서_R3M', '할인금액_청구서_B0M', '상환개월수_결제일_R6M', '상환개월수_결제일_R3M', '선결제건수_R6M', '선결제건수_R3M', '연체건수_R6M', '연체건수_R3M', '혜택수혜금액_R3M', '포인트_마일리지_환산_B0M', '혜택수혜금액']\n"
     ]
    }
   ],
   "source": [
    "all_cols = ex1.columns.tolist()\n",
    "print(\"전체 컬럼 이름:\")\n",
    "print(all_cols)\n",
    "str_cols = ex1.select_dtypes(include=['object']).columns.tolist()\n",
    "print(\"\\n문자형 컬럼 이름:\")\n",
    "print(str_cols)\n",
    "num_cols = ex1.select_dtypes(include=[np.number]).columns.tolist()\n",
    "print(\"\\n숫자형 컬럼 이름:\")\n",
    "print(num_cols)"
   ]
  },
  {
   "cell_type": "code",
   "execution_count": 20,
   "id": "c8e79c76-6d5b-4c7d-9a76-8161ff09513a",
   "metadata": {},
   "outputs": [
    {
     "name": "stdout",
     "output_type": "stream",
     "text": [
      "  대표결제방법코드 대표청구지고객주소구분코드 대표청구서수령지구분코드 청구서수령방법 할인건수_R3M 할인건수_B0M\n",
      "0     자동이체           미확인    당사페이앱+이메일   문자메세지    1회 이상    1회 이상\n",
      "1     자동이체           주거지           우편      우편    1회 이상    1회 이상\n",
      "2     자동이체           미확인          이메일     이메일    1회 이상    1회 이상\n",
      "3     자동이체           주거지           우편      우편    1회 이상    1회 이상\n",
      "4     자동이체           주거지           우편      우편    1회 이상    1회 이상\n"
     ]
    }
   ],
   "source": [
    "cols = ['대표결제방법코드', '대표청구지고객주소구분코드', '대표청구서수령지구분코드', '청구서수령방법', '할인건수_R3M', '할인건수_B0M']\n",
    "print(ex1[cols].head())"
   ]
  },
  {
   "cell_type": "code",
   "execution_count": 21,
   "id": "06fddcc2-ef67-43c1-8adc-aa9d44647d31",
   "metadata": {},
   "outputs": [
    {
     "name": "stdout",
     "output_type": "stream",
     "text": [
      "할인건수_R3M unique values:\n",
      "['1회 이상' '10회 이상' '20회 이상' '30회 이상' '40회 이상']\n",
      "\n",
      "할인건수_B0M unique values:\n",
      "['1회 이상' '10회 이상']\n"
     ]
    }
   ],
   "source": [
    "print(\"할인건수_R3M unique values:\")\n",
    "print(ex1['할인건수_R3M'].unique())\n",
    "\n",
    "print(\"\\n할인건수_B0M unique values:\")\n",
    "print(ex1['할인건수_B0M'].unique())"
   ]
  },
  {
   "cell_type": "code",
   "execution_count": 22,
   "id": "dbaf11e8-d716-46fa-ad94-0600c036d59e",
   "metadata": {},
   "outputs": [],
   "source": [
    "count_cols2 = ['할인건수_R3M', '할인건수_B0M']\n",
    "\n",
    "for col in count_cols2:\n",
    "    # 1) 문자열로 바꾼 뒤 “회” 제거\n",
    "    ex1[col] = ex1[col].astype(str).str.replace('회 이상', '', regex=False)\n",
    "    \n",
    "    # 2) 숫자로 변환, 변환 불가(예: 'nan', 'None')는 NaN → fillna(-1) → 정수형\n",
    "    ex1[col] = (\n",
    "        pd.to_numeric(ex1[col], errors='coerce')\n",
    "          .fillna(-1)\n",
    "          .astype(int)\n",
    "    )"
   ]
  },
  {
   "cell_type": "code",
   "execution_count": 23,
   "id": "7c1b1f92-c64e-4c19-b97a-0a4721eb39ee",
   "metadata": {},
   "outputs": [],
   "source": [
    "le_cols = ['대표결제방법코드', '대표청구지고객주소구분코드', '대표청구서수령지구분코드', '청구서수령방법']\n",
    "\n",
    "for col in le_cols:\n",
    "    codes, uniques = pd.factorize(ex1[col], sort=True)\n",
    "    ex1[col] = codes\n"
   ]
  },
  {
   "cell_type": "code",
   "execution_count": 24,
   "id": "56e9d6e8-dab6-4e72-a33f-67dbe1d13801",
   "metadata": {},
   "outputs": [
    {
     "data": {
      "text/html": [
       "<div>\n",
       "<style scoped>\n",
       "    .dataframe tbody tr th:only-of-type {\n",
       "        vertical-align: middle;\n",
       "    }\n",
       "\n",
       "    .dataframe tbody tr th {\n",
       "        vertical-align: top;\n",
       "    }\n",
       "\n",
       "    .dataframe thead th {\n",
       "        text-align: right;\n",
       "    }\n",
       "</style>\n",
       "<table border=\"1\" class=\"dataframe\">\n",
       "  <thead>\n",
       "    <tr style=\"text-align: right;\">\n",
       "      <th></th>\n",
       "      <th>기준년월</th>\n",
       "      <th>ID</th>\n",
       "      <th>대표결제일</th>\n",
       "      <th>대표결제방법코드</th>\n",
       "      <th>대표청구지고객주소구분코드</th>\n",
       "      <th>대표청구서수령지구분코드</th>\n",
       "      <th>청구서수령방법</th>\n",
       "      <th>청구서발송여부_B0</th>\n",
       "      <th>청구서발송여부_R3M</th>\n",
       "      <th>청구서발송여부_R6M</th>\n",
       "      <th>...</th>\n",
       "      <th>할인금액_청구서_B0M</th>\n",
       "      <th>상환개월수_결제일_R6M</th>\n",
       "      <th>상환개월수_결제일_R3M</th>\n",
       "      <th>선결제건수_R6M</th>\n",
       "      <th>선결제건수_R3M</th>\n",
       "      <th>연체건수_R6M</th>\n",
       "      <th>연체건수_R3M</th>\n",
       "      <th>혜택수혜금액_R3M</th>\n",
       "      <th>포인트_마일리지_환산_B0M</th>\n",
       "      <th>혜택수혜금액</th>\n",
       "    </tr>\n",
       "  </thead>\n",
       "  <tbody>\n",
       "    <tr>\n",
       "      <th>0</th>\n",
       "      <td>201807</td>\n",
       "      <td>TRAIN_000000</td>\n",
       "      <td>27</td>\n",
       "      <td>0</td>\n",
       "      <td>0</td>\n",
       "      <td>2</td>\n",
       "      <td>2</td>\n",
       "      <td>1</td>\n",
       "      <td>1</td>\n",
       "      <td>1</td>\n",
       "      <td>...</td>\n",
       "      <td>0</td>\n",
       "      <td>5</td>\n",
       "      <td>3</td>\n",
       "      <td>0</td>\n",
       "      <td>0</td>\n",
       "      <td>1</td>\n",
       "      <td>0</td>\n",
       "      <td>3</td>\n",
       "      <td>0</td>\n",
       "      <td>0</td>\n",
       "    </tr>\n",
       "    <tr>\n",
       "      <th>1</th>\n",
       "      <td>201807</td>\n",
       "      <td>TRAIN_000001</td>\n",
       "      <td>13</td>\n",
       "      <td>0</td>\n",
       "      <td>1</td>\n",
       "      <td>5</td>\n",
       "      <td>4</td>\n",
       "      <td>1</td>\n",
       "      <td>1</td>\n",
       "      <td>1</td>\n",
       "      <td>...</td>\n",
       "      <td>163</td>\n",
       "      <td>6</td>\n",
       "      <td>3</td>\n",
       "      <td>0</td>\n",
       "      <td>0</td>\n",
       "      <td>0</td>\n",
       "      <td>0</td>\n",
       "      <td>0</td>\n",
       "      <td>0</td>\n",
       "      <td>0</td>\n",
       "    </tr>\n",
       "    <tr>\n",
       "      <th>2</th>\n",
       "      <td>201807</td>\n",
       "      <td>TRAIN_000002</td>\n",
       "      <td>1</td>\n",
       "      <td>0</td>\n",
       "      <td>0</td>\n",
       "      <td>6</td>\n",
       "      <td>5</td>\n",
       "      <td>1</td>\n",
       "      <td>1</td>\n",
       "      <td>1</td>\n",
       "      <td>...</td>\n",
       "      <td>0</td>\n",
       "      <td>6</td>\n",
       "      <td>3</td>\n",
       "      <td>0</td>\n",
       "      <td>0</td>\n",
       "      <td>0</td>\n",
       "      <td>0</td>\n",
       "      <td>121</td>\n",
       "      <td>0</td>\n",
       "      <td>50</td>\n",
       "    </tr>\n",
       "    <tr>\n",
       "      <th>3</th>\n",
       "      <td>201807</td>\n",
       "      <td>TRAIN_000003</td>\n",
       "      <td>5</td>\n",
       "      <td>0</td>\n",
       "      <td>1</td>\n",
       "      <td>5</td>\n",
       "      <td>4</td>\n",
       "      <td>1</td>\n",
       "      <td>1</td>\n",
       "      <td>1</td>\n",
       "      <td>...</td>\n",
       "      <td>0</td>\n",
       "      <td>5</td>\n",
       "      <td>3</td>\n",
       "      <td>2</td>\n",
       "      <td>0</td>\n",
       "      <td>0</td>\n",
       "      <td>0</td>\n",
       "      <td>3</td>\n",
       "      <td>0</td>\n",
       "      <td>2</td>\n",
       "    </tr>\n",
       "    <tr>\n",
       "      <th>4</th>\n",
       "      <td>201807</td>\n",
       "      <td>TRAIN_000004</td>\n",
       "      <td>13</td>\n",
       "      <td>0</td>\n",
       "      <td>1</td>\n",
       "      <td>5</td>\n",
       "      <td>4</td>\n",
       "      <td>0</td>\n",
       "      <td>1</td>\n",
       "      <td>1</td>\n",
       "      <td>...</td>\n",
       "      <td>0</td>\n",
       "      <td>1</td>\n",
       "      <td>1</td>\n",
       "      <td>0</td>\n",
       "      <td>0</td>\n",
       "      <td>0</td>\n",
       "      <td>0</td>\n",
       "      <td>0</td>\n",
       "      <td>0</td>\n",
       "      <td>0</td>\n",
       "    </tr>\n",
       "  </tbody>\n",
       "</table>\n",
       "<p>5 rows × 46 columns</p>\n",
       "</div>"
      ],
      "text/plain": [
       "     기준년월            ID  대표결제일  대표결제방법코드  대표청구지고객주소구분코드  대표청구서수령지구분코드  \\\n",
       "0  201807  TRAIN_000000     27         0              0             2   \n",
       "1  201807  TRAIN_000001     13         0              1             5   \n",
       "2  201807  TRAIN_000002      1         0              0             6   \n",
       "3  201807  TRAIN_000003      5         0              1             5   \n",
       "4  201807  TRAIN_000004     13         0              1             5   \n",
       "\n",
       "   청구서수령방법  청구서발송여부_B0  청구서발송여부_R3M  청구서발송여부_R6M  ...  할인금액_청구서_B0M  \\\n",
       "0        2           1            1            1  ...             0   \n",
       "1        4           1            1            1  ...           163   \n",
       "2        5           1            1            1  ...             0   \n",
       "3        4           1            1            1  ...             0   \n",
       "4        4           0            1            1  ...             0   \n",
       "\n",
       "   상환개월수_결제일_R6M  상환개월수_결제일_R3M  선결제건수_R6M  선결제건수_R3M  연체건수_R6M  연체건수_R3M  \\\n",
       "0              5              3          0          0         1         0   \n",
       "1              6              3          0          0         0         0   \n",
       "2              6              3          0          0         0         0   \n",
       "3              5              3          2          0         0         0   \n",
       "4              1              1          0          0         0         0   \n",
       "\n",
       "   혜택수혜금액_R3M  포인트_마일리지_환산_B0M  혜택수혜금액  \n",
       "0           3                0       0  \n",
       "1           0                0       0  \n",
       "2         121                0      50  \n",
       "3           3                0       2  \n",
       "4           0                0       0  \n",
       "\n",
       "[5 rows x 46 columns]"
      ]
     },
     "execution_count": 24,
     "metadata": {},
     "output_type": "execute_result"
    }
   ],
   "source": [
    "ex1.head()"
   ]
  },
  {
   "cell_type": "code",
   "execution_count": 25,
   "id": "2380eb74-becf-46b8-80c7-dbd5779b0aea",
   "metadata": {},
   "outputs": [
    {
     "name": "stdout",
     "output_type": "stream",
     "text": [
      "전체 컬럼 이름:\n",
      "['기준년월', 'ID', '대표결제일', '대표결제방법코드', '대표청구지고객주소구분코드', '대표청구서수령지구분코드', '청구서수령방법', '청구서발송여부_B0', '청구서발송여부_R3M', '청구서발송여부_R6M', '청구금액_B0', '청구금액_R3M', '청구금액_R6M', '포인트_마일리지_건별_B0M', '포인트_마일리지_건별_R3M', '포인트_포인트_건별_B0M', '포인트_포인트_건별_R3M', '포인트_마일리지_월적립_B0M', '포인트_마일리지_월적립_R3M', '포인트_포인트_월적립_B0M', '포인트_포인트_월적립_R3M', '포인트_적립포인트_R12M', '포인트_적립포인트_R3M', '포인트_이용포인트_R12M', '포인트_이용포인트_R3M', '포인트_잔여포인트_B0M', '마일_적립포인트_R12M', '마일_적립포인트_R3M', '마일_이용포인트_R12M', '마일_이용포인트_R3M', '마일_잔여포인트_B0M', '할인건수_R3M', '할인금액_R3M', '할인건수_B0M', '할인금액_B0M', '할인금액_청구서_R3M', '할인금액_청구서_B0M', '상환개월수_결제일_R6M', '상환개월수_결제일_R3M', '선결제건수_R6M', '선결제건수_R3M', '연체건수_R6M', '연체건수_R3M', '혜택수혜금액_R3M', '포인트_마일리지_환산_B0M', '혜택수혜금액']\n",
      "\n",
      "문자형 컬럼 이름:\n",
      "['ID']\n",
      "\n",
      "숫자형 컬럼 이름:\n",
      "['기준년월', '대표결제일', '대표결제방법코드', '대표청구지고객주소구분코드', '대표청구서수령지구분코드', '청구서수령방법', '청구서발송여부_B0', '청구서발송여부_R3M', '청구서발송여부_R6M', '청구금액_B0', '청구금액_R3M', '청구금액_R6M', '포인트_마일리지_건별_B0M', '포인트_마일리지_건별_R3M', '포인트_포인트_건별_B0M', '포인트_포인트_건별_R3M', '포인트_마일리지_월적립_B0M', '포인트_마일리지_월적립_R3M', '포인트_포인트_월적립_B0M', '포인트_포인트_월적립_R3M', '포인트_적립포인트_R12M', '포인트_적립포인트_R3M', '포인트_이용포인트_R12M', '포인트_이용포인트_R3M', '포인트_잔여포인트_B0M', '마일_적립포인트_R12M', '마일_적립포인트_R3M', '마일_이용포인트_R12M', '마일_이용포인트_R3M', '마일_잔여포인트_B0M', '할인건수_R3M', '할인금액_R3M', '할인건수_B0M', '할인금액_B0M', '할인금액_청구서_R3M', '할인금액_청구서_B0M', '상환개월수_결제일_R6M', '상환개월수_결제일_R3M', '선결제건수_R6M', '선결제건수_R3M', '연체건수_R6M', '연체건수_R3M', '혜택수혜금액_R3M', '포인트_마일리지_환산_B0M', '혜택수혜금액']\n"
     ]
    }
   ],
   "source": [
    "all_cols = ex1.columns.tolist()\n",
    "print(\"전체 컬럼 이름:\")\n",
    "print(all_cols)\n",
    "str_cols = ex1.select_dtypes(include=['object']).columns.tolist()\n",
    "print(\"\\n문자형 컬럼 이름:\")\n",
    "print(str_cols)\n",
    "num_cols = ex1.select_dtypes(include=[np.number]).columns.tolist()\n",
    "print(\"\\n숫자형 컬럼 이름:\")\n",
    "print(num_cols)"
   ]
  },
  {
   "cell_type": "code",
   "execution_count": 26,
   "id": "588e47a5-28eb-4c73-9791-f44b377a959e",
   "metadata": {},
   "outputs": [
    {
     "data": {
      "text/plain": [
       "['대표결제방법코드']"
      ]
     },
     "execution_count": 26,
     "metadata": {},
     "output_type": "execute_result"
    }
   ],
   "source": [
    "num_df = ex1.select_dtypes(include=[np.number]).dropna()\n",
    "low_var = num_df.var()[ num_df.var() < 0.001 ].index.tolist()\n",
    "low_var"
   ]
  },
  {
   "cell_type": "code",
   "execution_count": 27,
   "id": "8ab0d08f-45ca-4684-bd6b-f2a70d94d09d",
   "metadata": {},
   "outputs": [
    {
     "name": "stdout",
     "output_type": "stream",
     "text": [
      "결측(또는 -1) 비율 > 30% 컬럼: []\n"
     ]
    }
   ],
   "source": [
    "missing_mask = ex1.isna() | (ex1 == -1)\n",
    "\n",
    "missing_ratio = missing_mask.mean()\n",
    "\n",
    "high_na = missing_ratio[missing_ratio > 0.3].index.tolist()\n",
    "\n",
    "print(\"결측(또는 -1) 비율 > 30% 컬럼:\", high_na)"
   ]
  },
  {
   "cell_type": "code",
   "execution_count": 28,
   "id": "1c435c60-cdfe-46d3-9924-24523e39b4a9",
   "metadata": {},
   "outputs": [
    {
     "name": "stdout",
     "output_type": "stream",
     "text": [
      "[27 13  1  5 20 25 23 15 12 21 10]\n"
     ]
    }
   ],
   "source": [
    "print(ex1['대표결제일'].unique())"
   ]
  },
  {
   "cell_type": "code",
   "execution_count": null,
   "id": "39997727-0bad-427c-ba89-67d471d28023",
   "metadata": {},
   "outputs": [],
   "source": []
  },
  {
   "cell_type": "code",
   "execution_count": 29,
   "id": "ba76a64c-7a9a-4c69-a850-14d0cb9adf88",
   "metadata": {},
   "outputs": [],
   "source": [
    "cols_to_drop = ['대표결제방법코드']\n",
    "ex1.drop(columns=cols_to_drop, inplace=True)"
   ]
  },
  {
   "cell_type": "code",
   "execution_count": 30,
   "id": "d3213931-a3cb-47ac-bbd9-c58f01c40ef5",
   "metadata": {},
   "outputs": [
    {
     "name": "stdout",
     "output_type": "stream",
     "text": [
      "VIF > 10인 컬럼들: ['대표청구서수령지구분코드', '청구서수령방법', '청구금액_B0', '청구금액_R3M', '포인트_마일리지_건별_B0M', '포인트_마일리지_건별_R3M', '포인트_포인트_건별_B0M', '포인트_포인트_건별_R3M', '포인트_마일리지_월적립_B0M', '포인트_마일리지_월적립_R3M', '포인트_적립포인트_R3M', '포인트_이용포인트_R3M', '마일_적립포인트_R12M', '마일_적립포인트_R3M', '마일_이용포인트_R12M', '마일_이용포인트_R3M', '할인금액_R3M', '할인금액_B0M', '할인금액_청구서_R3M', '할인금액_청구서_B0M', '상환개월수_결제일_R6M', '상환개월수_결제일_R3M', '혜택수혜금액_R3M', '포인트_마일리지_환산_B0M', '혜택수혜금액']\n",
      "             feature         VIF\n",
      "2       대표청구서수령지구분코드  118.889631\n",
      "3            청구서수령방법  118.808725\n",
      "7            청구금액_B0   11.609959\n",
      "8           청구금액_R3M   19.879950\n",
      "10   포인트_마일리지_건별_B0M   81.410345\n",
      "11   포인트_마일리지_건별_R3M  110.774195\n",
      "12    포인트_포인트_건별_B0M   30.510475\n",
      "13    포인트_포인트_건별_R3M   34.298948\n",
      "14  포인트_마일리지_월적립_B0M   30.002055\n",
      "15  포인트_마일리지_월적립_R3M   36.844567\n",
      "19     포인트_적립포인트_R3M   10.457670\n",
      "21     포인트_이용포인트_R3M   16.059861\n",
      "23     마일_적립포인트_R12M   15.916083\n",
      "24      마일_적립포인트_R3M   57.292190\n",
      "25     마일_이용포인트_R12M   40.487618\n",
      "26      마일_이용포인트_R3M   40.905447\n",
      "29          할인금액_R3M   20.882744\n",
      "31          할인금액_B0M   18.204264\n",
      "32      할인금액_청구서_R3M   15.812904\n",
      "33      할인금액_청구서_B0M   14.874226\n",
      "34     상환개월수_결제일_R6M   11.753195\n",
      "35     상환개월수_결제일_R3M   14.524376\n",
      "40        혜택수혜금액_R3M   14.221854\n",
      "41   포인트_마일리지_환산_B0M   34.055024\n",
      "42            혜택수혜금액   14.306106\n"
     ]
    }
   ],
   "source": [
    "from statsmodels.tools.tools import add_constant\n",
    "from statsmodels.stats.outliers_influence import variance_inflation_factor\n",
    "\n",
    "num_df = (\n",
    "    ex1\n",
    "    .select_dtypes(include=[np.number])\n",
    "    .drop(columns=['기준년월'], errors='ignore')\n",
    "    .dropna()\n",
    ")\n",
    "\n",
    "X = add_constant(num_df)\n",
    "\n",
    "vif_df = pd.DataFrame({\n",
    "    'feature': X.columns,\n",
    "    'VIF': [variance_inflation_factor(X.values, i)\n",
    "            for i in range(X.shape[1])]\n",
    "})\n",
    "\n",
    "vif_df = vif_df[vif_df['feature'] != 'const'].reset_index(drop=True)\n",
    "\n",
    "high_vif = vif_df[vif_df['VIF'] > 10]\n",
    "\n",
    "print(\"VIF > 10인 컬럼들:\", high_vif['feature'].tolist())\n",
    "print(high_vif)\n"
   ]
  },
  {
   "cell_type": "code",
   "execution_count": 31,
   "id": "6b81ae80-e6a4-4b80-b6c3-3608b48c4a11",
   "metadata": {},
   "outputs": [
    {
     "name": "stdout",
     "output_type": "stream",
     "text": [
      "VIF > 10인 컬럼들: ['청구금액_B0', '청구금액_R3M', '포인트_마일리지_건별_B0M', '포인트_마일리지_건별_R3M', '포인트_포인트_건별_B0M', '포인트_포인트_건별_R3M', '포인트_마일리지_월적립_B0M', '포인트_마일리지_월적립_R3M', '포인트_적립포인트_R3M', '포인트_이용포인트_R3M', '마일_적립포인트_R12M', '마일_적립포인트_R3M', '마일_이용포인트_R12M', '마일_이용포인트_R3M', '할인금액_R3M', '할인금액_B0M', '할인금액_청구서_R3M', '할인금액_청구서_B0M', '상환개월수_결제일_R6M', '상환개월수_결제일_R3M', '혜택수혜금액_R3M', '포인트_마일리지_환산_B0M', '혜택수혜금액']\n",
      "             feature         VIF\n",
      "6            청구금액_B0   11.609919\n",
      "7           청구금액_R3M   19.879933\n",
      "9    포인트_마일리지_건별_B0M   81.410126\n",
      "10   포인트_마일리지_건별_R3M  110.774195\n",
      "11    포인트_포인트_건별_B0M   30.510473\n",
      "12    포인트_포인트_건별_R3M   34.298876\n",
      "13  포인트_마일리지_월적립_B0M   30.001736\n",
      "14  포인트_마일리지_월적립_R3M   36.844497\n",
      "18     포인트_적립포인트_R3M   10.457124\n",
      "20     포인트_이용포인트_R3M   16.058813\n",
      "22     마일_적립포인트_R12M   15.915891\n",
      "23      마일_적립포인트_R3M   57.291851\n",
      "24     마일_이용포인트_R12M   40.487477\n",
      "25      마일_이용포인트_R3M   40.905131\n",
      "28          할인금액_R3M   20.882071\n",
      "30          할인금액_B0M   18.204200\n",
      "31      할인금액_청구서_R3M   15.812532\n",
      "32      할인금액_청구서_B0M   14.874034\n",
      "33     상환개월수_결제일_R6M   11.731908\n",
      "34     상환개월수_결제일_R3M   14.523583\n",
      "39        혜택수혜금액_R3M   14.221782\n",
      "40   포인트_마일리지_환산_B0M   34.054547\n",
      "41            혜택수혜금액   14.305831\n"
     ]
    }
   ],
   "source": [
    "cols_to_drop = ['대표청구서수령지구분코드']\n",
    "ex1.drop(columns=cols_to_drop, inplace=True)\n",
    "\n",
    "num_df = (\n",
    "    ex1\n",
    "    .select_dtypes(include=[np.number])\n",
    "    .drop(columns=['기준년월'], errors='ignore')\n",
    "    .dropna()\n",
    ")\n",
    "\n",
    "X = add_constant(num_df)\n",
    "\n",
    "vif_df = pd.DataFrame({\n",
    "    'feature': X.columns,\n",
    "    'VIF': [variance_inflation_factor(X.values, i)\n",
    "            for i in range(X.shape[1])]\n",
    "})\n",
    "\n",
    "vif_df = vif_df[vif_df['feature'] != 'const'].reset_index(drop=True)\n",
    "\n",
    "high_vif = vif_df[vif_df['VIF'] > 10]\n",
    "\n",
    "print(\"VIF > 10인 컬럼들:\", high_vif['feature'].tolist())\n",
    "print(high_vif)"
   ]
  },
  {
   "cell_type": "code",
   "execution_count": 32,
   "id": "560f9ecd-f592-4202-92e3-45835fa19eb2",
   "metadata": {},
   "outputs": [
    {
     "name": "stdout",
     "output_type": "stream",
     "text": [
      "VIF > 10인 컬럼들: ['청구금액_B0', '청구금액_R3M', '포인트_마일리지_건별_B0M', '포인트_포인트_건별_B0M', '포인트_포인트_건별_R3M', '포인트_마일리지_월적립_B0M', '포인트_마일리지_월적립_R3M', '포인트_적립포인트_R3M', '포인트_이용포인트_R3M', '마일_적립포인트_R12M', '마일_적립포인트_R3M', '마일_이용포인트_R12M', '마일_이용포인트_R3M', '할인금액_R3M', '할인금액_B0M', '할인금액_청구서_R3M', '할인금액_청구서_B0M', '상환개월수_결제일_R6M', '상환개월수_결제일_R3M', '혜택수혜금액_R3M', '포인트_마일리지_환산_B0M', '혜택수혜금액']\n",
      "             feature        VIF\n",
      "6            청구금액_B0  11.597770\n",
      "7           청구금액_R3M  19.866276\n",
      "9    포인트_마일리지_건별_B0M  48.025778\n",
      "10    포인트_포인트_건별_B0M  30.510434\n",
      "11    포인트_포인트_건별_R3M  34.298802\n",
      "12  포인트_마일리지_월적립_B0M  29.712965\n",
      "13  포인트_마일리지_월적립_R3M  36.065602\n",
      "17     포인트_적립포인트_R3M  10.457116\n",
      "19     포인트_이용포인트_R3M  16.058586\n",
      "21     마일_적립포인트_R12M  15.915081\n",
      "22      마일_적립포인트_R3M  52.946721\n",
      "23     마일_이용포인트_R12M  40.197674\n",
      "24      마일_이용포인트_R3M  40.008372\n",
      "27          할인금액_R3M  20.882048\n",
      "29          할인금액_B0M  18.200535\n",
      "30      할인금액_청구서_R3M  15.812362\n",
      "31      할인금액_청구서_B0M  14.873460\n",
      "32     상환개월수_결제일_R6M  11.731907\n",
      "33     상환개월수_결제일_R3M  14.523063\n",
      "38        혜택수혜금액_R3M  14.217031\n",
      "39   포인트_마일리지_환산_B0M  31.679751\n",
      "40            혜택수혜금액  14.305429\n"
     ]
    }
   ],
   "source": [
    "cols_to_drop = ['포인트_마일리지_건별_R3M']\n",
    "ex1.drop(columns=cols_to_drop, inplace=True)\n",
    "\n",
    "num_df = (\n",
    "    ex1\n",
    "    .select_dtypes(include=[np.number])\n",
    "    .drop(columns=['기준년월'], errors='ignore')\n",
    "    .dropna()\n",
    ")\n",
    "\n",
    "X = add_constant(num_df)\n",
    "\n",
    "vif_df = pd.DataFrame({\n",
    "    'feature': X.columns,\n",
    "    'VIF': [variance_inflation_factor(X.values, i)\n",
    "            for i in range(X.shape[1])]\n",
    "})\n",
    "\n",
    "vif_df = vif_df[vif_df['feature'] != 'const'].reset_index(drop=True)\n",
    "\n",
    "high_vif = vif_df[vif_df['VIF'] > 10]\n",
    "\n",
    "print(\"VIF > 10인 컬럼들:\", high_vif['feature'].tolist())\n",
    "print(high_vif)"
   ]
  },
  {
   "cell_type": "code",
   "execution_count": 33,
   "id": "c6f6192b-7da3-48c8-802a-bde58cdbc0da",
   "metadata": {},
   "outputs": [
    {
     "name": "stdout",
     "output_type": "stream",
     "text": [
      "VIF > 10인 컬럼들: ['청구금액_B0', '청구금액_R3M', '포인트_마일리지_건별_B0M', '포인트_포인트_건별_B0M', '포인트_포인트_건별_R3M', '포인트_마일리지_월적립_B0M', '포인트_마일리지_월적립_R3M', '포인트_적립포인트_R3M', '포인트_이용포인트_R3M', '마일_적립포인트_R12M', '마일_이용포인트_R12M', '마일_이용포인트_R3M', '할인금액_R3M', '할인금액_B0M', '할인금액_청구서_R3M', '할인금액_청구서_B0M', '상환개월수_결제일_R6M', '상환개월수_결제일_R3M', '혜택수혜금액_R3M', '포인트_마일리지_환산_B0M', '혜택수혜금액']\n",
      "             feature        VIF\n",
      "6            청구금액_B0  11.586211\n",
      "7           청구금액_R3M  19.865441\n",
      "9    포인트_마일리지_건별_B0M  35.618123\n",
      "10    포인트_포인트_건별_B0M  30.510381\n",
      "11    포인트_포인트_건별_R3M  34.298604\n",
      "12  포인트_마일리지_월적립_B0M  29.699734\n",
      "13  포인트_마일리지_월적립_R3M  29.244151\n",
      "17     포인트_적립포인트_R3M  10.457114\n",
      "19     포인트_이용포인트_R3M  16.057041\n",
      "21     마일_적립포인트_R12M  14.518764\n",
      "22     마일_이용포인트_R12M  39.740472\n",
      "23      마일_이용포인트_R3M  39.809208\n",
      "26          할인금액_R3M  20.876405\n",
      "28          할인금액_B0M  18.196562\n",
      "29      할인금액_청구서_R3M  15.812137\n",
      "30      할인금액_청구서_B0M  14.871951\n",
      "31     상환개월수_결제일_R6M  11.731863\n",
      "32     상환개월수_결제일_R3M  14.522942\n",
      "37        혜택수혜금액_R3M  14.212302\n",
      "38   포인트_마일리지_환산_B0M  31.254899\n",
      "39            혜택수혜금액  14.286831\n"
     ]
    }
   ],
   "source": [
    "cols_to_drop = ['마일_적립포인트_R3M']\n",
    "ex1.drop(columns=cols_to_drop, inplace=True)\n",
    "\n",
    "num_df = (\n",
    "    ex1\n",
    "    .select_dtypes(include=[np.number])\n",
    "    .drop(columns=['기준년월'], errors='ignore')\n",
    "    .dropna()\n",
    ")\n",
    "\n",
    "X = add_constant(num_df)\n",
    "\n",
    "vif_df = pd.DataFrame({\n",
    "    'feature': X.columns,\n",
    "    'VIF': [variance_inflation_factor(X.values, i)\n",
    "            for i in range(X.shape[1])]\n",
    "})\n",
    "\n",
    "vif_df = vif_df[vif_df['feature'] != 'const'].reset_index(drop=True)\n",
    "\n",
    "high_vif = vif_df[vif_df['VIF'] > 10]\n",
    "\n",
    "print(\"VIF > 10인 컬럼들:\", high_vif['feature'].tolist())\n",
    "print(high_vif)"
   ]
  },
  {
   "cell_type": "code",
   "execution_count": 35,
   "id": "3a8201ed-1a3a-42bb-8dbf-c669ed80a24b",
   "metadata": {},
   "outputs": [
    {
     "name": "stdout",
     "output_type": "stream",
     "text": [
      "VIF > 10인 컬럼들: ['청구금액_B0', '청구금액_R3M', '포인트_마일리지_건별_B0M', '포인트_포인트_건별_B0M', '포인트_포인트_건별_R3M', '포인트_마일리지_월적립_B0M', '포인트_마일리지_월적립_R3M', '포인트_적립포인트_R3M', '포인트_이용포인트_R3M', '마일_적립포인트_R12M', '마일_이용포인트_R12M', '할인금액_R3M', '할인금액_B0M', '할인금액_청구서_R3M', '할인금액_청구서_B0M', '상환개월수_결제일_R6M', '상환개월수_결제일_R3M', '혜택수혜금액_R3M', '포인트_마일리지_환산_B0M', '혜택수혜금액']\n",
      "             feature        VIF\n",
      "6            청구금액_B0  11.581140\n",
      "7           청구금액_R3M  19.865203\n",
      "9    포인트_마일리지_건별_B0M  33.445322\n",
      "10    포인트_포인트_건별_B0M  30.510364\n",
      "11    포인트_포인트_건별_R3M  34.298604\n",
      "12  포인트_마일리지_월적립_B0M  29.365917\n",
      "13  포인트_마일리지_월적립_R3M  29.243907\n",
      "17     포인트_적립포인트_R3M  10.457114\n",
      "19     포인트_이용포인트_R3M  16.056854\n",
      "21     마일_적립포인트_R12M  14.040945\n",
      "22     마일_이용포인트_R12M  28.876646\n",
      "25          할인금액_R3M  20.875645\n",
      "27          할인금액_B0M  18.196527\n",
      "28      할인금액_청구서_R3M  15.812061\n",
      "29      할인금액_청구서_B0M  14.871942\n",
      "30     상환개월수_결제일_R6M  11.731815\n",
      "31     상환개월수_결제일_R3M  14.522824\n",
      "36        혜택수혜금액_R3M  14.212277\n",
      "37   포인트_마일리지_환산_B0M  25.494796\n",
      "38            혜택수혜금액  14.285485\n"
     ]
    }
   ],
   "source": [
    "cols_to_drop = ['마일_이용포인트_R3M']\n",
    "ex1.drop(columns=cols_to_drop, inplace=True)\n",
    "\n",
    "num_df = (\n",
    "    ex1\n",
    "    .select_dtypes(include=[np.number])\n",
    "    .drop(columns=['기준년월'], errors='ignore')\n",
    "    .dropna()\n",
    ")\n",
    "\n",
    "X = add_constant(num_df)\n",
    "\n",
    "vif_df = pd.DataFrame({\n",
    "    'feature': X.columns,\n",
    "    'VIF': [variance_inflation_factor(X.values, i)\n",
    "            for i in range(X.shape[1])]\n",
    "})\n",
    "\n",
    "vif_df = vif_df[vif_df['feature'] != 'const'].reset_index(drop=True)\n",
    "\n",
    "high_vif = vif_df[vif_df['VIF'] > 10]\n",
    "\n",
    "print(\"VIF > 10인 컬럼들:\", high_vif['feature'].tolist())\n",
    "print(high_vif)"
   ]
  },
  {
   "cell_type": "code",
   "execution_count": 36,
   "id": "fd6ce929-5bc3-4016-b62c-807518ba79ca",
   "metadata": {},
   "outputs": [
    {
     "name": "stdout",
     "output_type": "stream",
     "text": [
      "VIF > 10인 컬럼들: ['청구금액_B0', '청구금액_R3M', '포인트_마일리지_건별_B0M', '포인트_마일리지_월적립_B0M', '포인트_마일리지_월적립_R3M', '포인트_적립포인트_R3M', '포인트_이용포인트_R3M', '마일_적립포인트_R12M', '마일_이용포인트_R12M', '할인금액_R3M', '할인금액_B0M', '할인금액_청구서_R3M', '할인금액_청구서_B0M', '상환개월수_결제일_R6M', '상환개월수_결제일_R3M', '혜택수혜금액_R3M', '포인트_마일리지_환산_B0M', '혜택수혜금액']\n",
      "             feature        VIF\n",
      "6            청구금액_B0  11.578969\n",
      "7           청구금액_R3M  19.865198\n",
      "9    포인트_마일리지_건별_B0M  33.444690\n",
      "11  포인트_마일리지_월적립_B0M  29.364960\n",
      "12  포인트_마일리지_월적립_R3M  29.243218\n",
      "16     포인트_적립포인트_R3M  10.287346\n",
      "18     포인트_이용포인트_R3M  15.976925\n",
      "20     마일_적립포인트_R12M  14.040543\n",
      "21     마일_이용포인트_R12M  28.876581\n",
      "24          할인금액_R3M  20.852944\n",
      "26          할인금액_B0M  18.194141\n",
      "27      할인금액_청구서_R3M  15.811881\n",
      "28      할인금액_청구서_B0M  14.871896\n",
      "29     상환개월수_결제일_R6M  11.729915\n",
      "30     상환개월수_결제일_R3M  14.518225\n",
      "35        혜택수혜금액_R3M  14.201854\n",
      "36   포인트_마일리지_환산_B0M  25.490125\n",
      "37            혜택수혜금액  14.285410\n"
     ]
    }
   ],
   "source": [
    "cols_to_drop = ['포인트_포인트_건별_R3M']\n",
    "ex1.drop(columns=cols_to_drop, inplace=True)\n",
    "\n",
    "num_df = (\n",
    "    ex1\n",
    "    .select_dtypes(include=[np.number])\n",
    "    .drop(columns=['기준년월'], errors='ignore')\n",
    "    .dropna()\n",
    ")\n",
    "\n",
    "X = add_constant(num_df)\n",
    "\n",
    "vif_df = pd.DataFrame({\n",
    "    'feature': X.columns,\n",
    "    'VIF': [variance_inflation_factor(X.values, i)\n",
    "            for i in range(X.shape[1])]\n",
    "})\n",
    "\n",
    "vif_df = vif_df[vif_df['feature'] != 'const'].reset_index(drop=True)\n",
    "\n",
    "high_vif = vif_df[vif_df['VIF'] > 10]\n",
    "\n",
    "print(\"VIF > 10인 컬럼들:\", high_vif['feature'].tolist())\n",
    "print(high_vif)"
   ]
  },
  {
   "cell_type": "code",
   "execution_count": 37,
   "id": "b3ad5c4e-b452-4995-a9f6-10af9fc1fa5a",
   "metadata": {},
   "outputs": [
    {
     "name": "stdout",
     "output_type": "stream",
     "text": [
      "VIF > 10인 컬럼들: ['청구금액_B0', '청구금액_R3M', '포인트_마일리지_월적립_B0M', '포인트_마일리지_월적립_R3M', '포인트_적립포인트_R3M', '포인트_이용포인트_R3M', '마일_적립포인트_R12M', '마일_이용포인트_R12M', '할인금액_R3M', '할인금액_B0M', '할인금액_청구서_R3M', '할인금액_청구서_B0M', '상환개월수_결제일_R6M', '상환개월수_결제일_R3M', '혜택수혜금액_R3M', '포인트_마일리지_환산_B0M', '혜택수혜금액']\n",
      "             feature        VIF\n",
      "6            청구금액_B0  11.576902\n",
      "7           청구금액_R3M  19.863681\n",
      "10  포인트_마일리지_월적립_B0M  28.017009\n",
      "11  포인트_마일리지_월적립_R3M  29.239348\n",
      "15     포인트_적립포인트_R3M  10.287050\n",
      "17     포인트_이용포인트_R3M  15.976332\n",
      "19     마일_적립포인트_R12M  13.849826\n",
      "20     마일_이용포인트_R12M  20.012115\n",
      "23          할인금액_R3M  20.844204\n",
      "25          할인금액_B0M  18.192300\n",
      "26      할인금액_청구서_R3M  15.811415\n",
      "27      할인금액_청구서_B0M  14.871896\n",
      "28     상환개월수_결제일_R6M  11.729712\n",
      "29     상환개월수_결제일_R3M  14.518221\n",
      "34        혜택수혜금액_R3M  14.187499\n",
      "35   포인트_마일리지_환산_B0M  18.724976\n",
      "36            혜택수혜금액  14.280334\n"
     ]
    }
   ],
   "source": [
    "cols_to_drop = ['포인트_마일리지_건별_B0M']\n",
    "ex1.drop(columns=cols_to_drop, inplace=True)\n",
    "\n",
    "num_df = (\n",
    "    ex1\n",
    "    .select_dtypes(include=[np.number])\n",
    "    .drop(columns=['기준년월'], errors='ignore')\n",
    "    .dropna()\n",
    ")\n",
    "\n",
    "X = add_constant(num_df)\n",
    "\n",
    "vif_df = pd.DataFrame({\n",
    "    'feature': X.columns,\n",
    "    'VIF': [variance_inflation_factor(X.values, i)\n",
    "            for i in range(X.shape[1])]\n",
    "})\n",
    "\n",
    "vif_df = vif_df[vif_df['feature'] != 'const'].reset_index(drop=True)\n",
    "\n",
    "high_vif = vif_df[vif_df['VIF'] > 10]\n",
    "\n",
    "print(\"VIF > 10인 컬럼들:\", high_vif['feature'].tolist())\n",
    "print(high_vif)"
   ]
  },
  {
   "cell_type": "code",
   "execution_count": 38,
   "id": "24a791f8-c8ac-4f5f-8088-68c6bf96b3c3",
   "metadata": {},
   "outputs": [
    {
     "name": "stdout",
     "output_type": "stream",
     "text": [
      "VIF > 10인 컬럼들: ['할인금액_청구서_R3M', '할인금액_청구서_B0M', '포인트_마일리지_환산_B0M']\n",
      "            feature        VIF\n",
      "21     할인금액_청구서_R3M  15.333832\n",
      "22     할인금액_청구서_B0M  14.825316\n",
      "29  포인트_마일리지_환산_B0M  11.769333\n"
     ]
    }
   ],
   "source": [
    "cols_to_drop = ['청구금액_R3M','포인트_마일리지_월적립_R3M','포인트_이용포인트_R3M','마일_이용포인트_R12M','할인금액_R3M','상환개월수_결제일_R3M','혜택수혜금액']\n",
    "ex1.drop(columns=cols_to_drop, inplace=True)\n",
    "\n",
    "num_df = (\n",
    "    ex1\n",
    "    .select_dtypes(include=[np.number])\n",
    "    .drop(columns=['기준년월'], errors='ignore')\n",
    "    .dropna()\n",
    ")\n",
    "\n",
    "X = add_constant(num_df)\n",
    "\n",
    "vif_df = pd.DataFrame({\n",
    "    'feature': X.columns,\n",
    "    'VIF': [variance_inflation_factor(X.values, i)\n",
    "            for i in range(X.shape[1])]\n",
    "})\n",
    "\n",
    "vif_df = vif_df[vif_df['feature'] != 'const'].reset_index(drop=True)\n",
    "\n",
    "high_vif = vif_df[vif_df['VIF'] > 10]\n",
    "\n",
    "print(\"VIF > 10인 컬럼들:\", high_vif['feature'].tolist())\n",
    "print(high_vif)"
   ]
  },
  {
   "cell_type": "code",
   "execution_count": 39,
   "id": "9826eaa7-1e87-4a53-a1ba-b58714c3a246",
   "metadata": {},
   "outputs": [
    {
     "name": "stdout",
     "output_type": "stream",
     "text": [
      "VIF > 10인 컬럼들: ['포인트_마일리지_환산_B0M']\n",
      "            feature        VIF\n",
      "28  포인트_마일리지_환산_B0M  11.766797\n"
     ]
    }
   ],
   "source": [
    "cols_to_drop = ['할인금액_청구서_R3M']\n",
    "ex1.drop(columns=cols_to_drop, inplace=True)\n",
    "\n",
    "num_df = (\n",
    "    ex1\n",
    "    .select_dtypes(include=[np.number])\n",
    "    .drop(columns=['기준년월'], errors='ignore')\n",
    "    .dropna()\n",
    ")\n",
    "\n",
    "X = add_constant(num_df)\n",
    "\n",
    "vif_df = pd.DataFrame({\n",
    "    'feature': X.columns,\n",
    "    'VIF': [variance_inflation_factor(X.values, i)\n",
    "            for i in range(X.shape[1])]\n",
    "})\n",
    "\n",
    "vif_df = vif_df[vif_df['feature'] != 'const'].reset_index(drop=True)\n",
    "\n",
    "high_vif = vif_df[vif_df['VIF'] > 10]\n",
    "\n",
    "print(\"VIF > 10인 컬럼들:\", high_vif['feature'].tolist())\n",
    "print(high_vif)"
   ]
  },
  {
   "cell_type": "code",
   "execution_count": 40,
   "id": "e4d3e29e-cfcb-4ab8-8e59-e55147858e72",
   "metadata": {},
   "outputs": [],
   "source": [
    "cols_to_drop = ['포인트_마일리지_환산_B0M']\n",
    "ex1.drop(columns=cols_to_drop, inplace=True)"
   ]
  },
  {
   "cell_type": "code",
   "execution_count": 41,
   "id": "7b540894-d252-48eb-b877-3e2aa8e6ad1e",
   "metadata": {},
   "outputs": [],
   "source": [
    "ex1.to_parquet('청구입금정보_전처리.parquet', index=False)"
   ]
  },
  {
   "cell_type": "code",
   "execution_count": null,
   "id": "6b4e1224-ecb0-4a4b-9229-546e1f930c69",
   "metadata": {},
   "outputs": [],
   "source": []
  }
 ],
 "metadata": {
  "kernelspec": {
   "display_name": "Python 3 (ipykernel)",
   "language": "python",
   "name": "python3"
  },
  "language_info": {
   "codemirror_mode": {
    "name": "ipython",
    "version": 3
   },
   "file_extension": ".py",
   "mimetype": "text/x-python",
   "name": "python",
   "nbconvert_exporter": "python",
   "pygments_lexer": "ipython3",
   "version": "3.12.7"
  }
 },
 "nbformat": 4,
 "nbformat_minor": 5
}
